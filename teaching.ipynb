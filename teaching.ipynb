{
  "nbformat": 4,
  "nbformat_minor": 0,
  "metadata": {
    "colab": {
      "provenance": [],
      "collapsed_sections": [
        "S-0wWyrOfWHI"
      ]
    },
    "kernelspec": {
      "name": "python3",
      "display_name": "Python 3"
    },
    "language_info": {
      "name": "python"
    }
  },
  "cells": [
    {
      "cell_type": "markdown",
      "source": [
        "# Basic Python"
      ],
      "metadata": {
        "id": "M_6vMmYaYnM5"
      }
    },
    {
      "cell_type": "code",
      "source": [
        "print('ข้อความ') # เป็นคำสั่งสำหรับการแสดงผล\n",
        "print('ข้อความ1', 'ข้อความ2') # สามารถแสดงผลหลายข้อมูล ถ้าเว้นด้วย ,"
      ],
      "metadata": {
        "colab": {
          "base_uri": "https://localhost:8080/"
        },
        "id": "OkQfD5hEYpp2",
        "outputId": "3e2bf808-dda2-45f9-85a3-39447e9bce3b"
      },
      "execution_count": null,
      "outputs": [
        {
          "output_type": "stream",
          "name": "stdout",
          "text": [
            "ข้อความ\n",
            "ข้อความ1 ข้อความ2\n"
          ]
        }
      ]
    },
    {
      "cell_type": "code",
      "source": [
        "id = input('กรุณากรอกหมายเลขทะเบียน:') # คำสั่งรับค่า\n",
        "print(id)\n",
        "print(type(id))"
      ],
      "metadata": {
        "colab": {
          "base_uri": "https://localhost:8080/"
        },
        "id": "b8k9Yfy3OM85",
        "outputId": "c4a1eae9-1115-42cd-9c10-cc70110221e4"
      },
      "execution_count": null,
      "outputs": [
        {
          "output_type": "stream",
          "name": "stdout",
          "text": [
            "กรุณากรอกหมายเลขทะเบียน:12150\n",
            "12150\n",
            "<class 'str'>\n"
          ]
        }
      ]
    },
    {
      "cell_type": "markdown",
      "source": [
        "ตัวอย่าง: ลองสร้างโปรแกรมที่รับค่า แล้วprint('ชื่อของตัวเอง') ออกมา"
      ],
      "metadata": {
        "id": "zZFPqgeBmm5a"
      }
    },
    {
      "cell_type": "code",
      "source": [
        "print('Guide')"
      ],
      "metadata": {
        "colab": {
          "base_uri": "https://localhost:8080/"
        },
        "id": "JmnoU6KXnfsi",
        "outputId": "a7949593-0802-4100-c136-ef867270967c"
      },
      "execution_count": null,
      "outputs": [
        {
          "output_type": "stream",
          "name": "stdout",
          "text": [
            "กรุณากรอกชื่อของคุณ:Guide\n",
            "Guide\n"
          ]
        }
      ]
    },
    {
      "cell_type": "markdown",
      "source": [
        "## Variable ตัวแปร\n",
        "ตัวแปร ใช้ในการอ้างอิงข้อมูล โดยตัวแปรจะถูกกำหนดค่าด้วยเครื่องหมาย = เช่น"
      ],
      "metadata": {
        "id": "ZfIRAEboZGv7"
      }
    },
    {
      "cell_type": "code",
      "source": [
        "number = 10\n",
        "print(number)"
      ],
      "metadata": {
        "id": "Iv9CuOUQZJa8",
        "colab": {
          "base_uri": "https://localhost:8080/"
        },
        "outputId": "97b67c40-3aeb-4a61-bb5e-692449c13ff1"
      },
      "execution_count": null,
      "outputs": [
        {
          "output_type": "stream",
          "name": "stdout",
          "text": [
            "10\n"
          ]
        }
      ]
    },
    {
      "cell_type": "markdown",
      "source": [
        "### Datatype\n",
        "### ชนิดข้อมูลพื้นฐาน\n",
        "<hr>\n",
        "\n",
        "ชนิดของข้อมูล โดยพื้นฐานได้แก่\n",
        "\n",
        "1. **string (ข้อมูลประเภทข้อความ หรือสตริง)**\n",
        "* <font color='yellow'> string หรือ str (ตัวอักษร)</font> \n",
        "การกำหนดข้อมูลแบบ String จะใช้เครื่องหมาย ' หรือ \" ครอบหน้าและหลังข้อความที่ต้องการ\n",
        "> เช่น \"ข้อความ\" หรือ 'ข้อความ'\n",
        "\n",
        "\n",
        "\n",
        "2. **numerical data type (ข้อมูลประเภทจำนวน)** ใน python มีข้อมูลที่เป็นจำนวนหลายตัวสามารถนำไปคำนวณทางคณิตศาสตร์ได้\n",
        "\n",
        "* <font color='yellow'> integer หรือ int (จำนวนเต็ม)</font> สามารถเก็บค่าจำนวนเต็ม บวกและจำนวนเต็มลบ\n",
        "> 10\n",
        "\n",
        "* <font color='yellow'>float (จำนวนจริง)</font> สามารถเก็บค่าทศนิยม บวกและลบ ได้\n",
        "> 10.0\n",
        "\n",
        "โปรแกรม python จะกำหนดประเภทตัวแปรให้เราเองอัตโนมัติ\n",
        "โดยขึ้นอยู่กับว่า เราเขียนค่าตัวแปรยังไง\n",
        "\n",
        "โดยเราสามารถใช้คำสั่ง type(ตัวแปร) เพื่อตรวจสอบ ประเภทของตัวแปรได้\n",
        "์\n",
        "\n",
        "เพิ่มเติม: # ใช้ในการจดรายละเอียดในโค้ด(คอมเม้นท์) ไม่ถูกนับเป็นโค้ดใน pthon "
      ],
      "metadata": {
        "id": "SQmV_Ne_Zsls"
      }
    },
    {
      "cell_type": "markdown",
      "source": [
        "#### String"
      ],
      "metadata": {
        "id": "lMokhPQTVBxs"
      }
    },
    {
      "cell_type": "code",
      "source": [
        "a = 'ข้อความ' #เป็น string\n",
        "print(type(a))"
      ],
      "metadata": {
        "id": "98w6sp8CZuS3",
        "colab": {
          "base_uri": "https://localhost:8080/"
        },
        "outputId": "f15798e1-8e82-410e-f4b3-58b1719a2353"
      },
      "execution_count": null,
      "outputs": [
        {
          "output_type": "stream",
          "name": "stdout",
          "text": [
            "<class 'str'>\n"
          ]
        }
      ]
    },
    {
      "cell_type": "markdown",
      "source": [
        "ตัวอย่าง: ลองสร้างตัวแปร string เป็นชื่อตัวเอง\n",
        "\n",
        "แล้ว print ประเภทออกมาด้วย คำสั่ง type()"
      ],
      "metadata": {
        "id": "cp53nWwjoULg"
      }
    },
    {
      "cell_type": "code",
      "source": [
        "myname = 'Guide'\n",
        "print(type(myname))"
      ],
      "metadata": {
        "colab": {
          "base_uri": "https://localhost:8080/"
        },
        "id": "7LNtrLLQoS0C",
        "outputId": "6b8afdae-c999-4527-c313-c3e26f0170de"
      },
      "execution_count": null,
      "outputs": [
        {
          "output_type": "stream",
          "name": "stdout",
          "text": [
            "<class 'str'>\n"
          ]
        }
      ]
    },
    {
      "cell_type": "markdown",
      "metadata": {
        "id": "QDMsdjkV5e9R"
      },
      "source": [
        "<hr>\n",
        "\n",
        "**เกร็ดน่ารู้** ตัวดำเนินการ + และ * เวลาใช้งานกับสตริง\n",
        "\n",
        "* เมื่อใช้ + ระหว่างสองสตริง จะเป็นการนำสตริงมาต่อกัน\n",
        "* เมื่อใช้ * ระหว่างสตริงกับเลขจำนวนเต็ม จะเป็นการนำสตริงมาต่อกันตามจำนวนครั้งของเลขจำนวนเต็ม\n",
        "\n",
        "<hr>\n"
      ]
    },
    {
      "cell_type": "code",
      "metadata": {
        "id": "4fG-kNfM9Bby",
        "colab": {
          "base_uri": "https://localhost:8080/",
          "height": 35
        },
        "outputId": "2398ed23-e5a0-49fb-f0d7-f9a77088784a"
      },
      "source": [
        "\"Hello \" + \"World\""
      ],
      "execution_count": null,
      "outputs": [
        {
          "output_type": "execute_result",
          "data": {
            "text/plain": [
              "'Hello World'"
            ],
            "application/vnd.google.colaboratory.intrinsic+json": {
              "type": "string"
            }
          },
          "metadata": {},
          "execution_count": 9
        }
      ]
    },
    {
      "cell_type": "code",
      "metadata": {
        "id": "bfkVmD8j9M94",
        "colab": {
          "base_uri": "https://localhost:8080/",
          "height": 35
        },
        "outputId": "bfbc2aa0-57d6-4c5f-d8ba-36ff3b899777"
      },
      "source": [
        "3*\"Hello\""
      ],
      "execution_count": null,
      "outputs": [
        {
          "output_type": "execute_result",
          "data": {
            "text/plain": [
              "'HelloHelloHello'"
            ],
            "application/vnd.google.colaboratory.intrinsic+json": {
              "type": "string"
            }
          },
          "metadata": {},
          "execution_count": 10
        }
      ]
    },
    {
      "cell_type": "markdown",
      "source": [
        "ตัวอย่าง: ลองสร้างตัวแปร string เป็นชื่อตัวเอง และ ตัวแปร string นามสกุล\n",
        "\n",
        "\n",
        "แล้วนำตัวแปรทั้ง 2 มาต่อกัน"
      ],
      "metadata": {
        "id": "TUV4pxdYoieg"
      }
    },
    {
      "cell_type": "code",
      "source": [
        "name = 'Hirunkul'\n",
        "surname = 'Phimsiri'\n",
        "print(name + surname)"
      ],
      "metadata": {
        "id": "3n123zwkoieh",
        "colab": {
          "base_uri": "https://localhost:8080/"
        },
        "outputId": "24163ce9-e055-416a-d979-403e924074c3"
      },
      "execution_count": null,
      "outputs": [
        {
          "output_type": "stream",
          "name": "stdout",
          "text": [
            "HirunkulPhimsiri\n"
          ]
        }
      ]
    },
    {
      "cell_type": "markdown",
      "source": [
        "#### int"
      ],
      "metadata": {
        "id": "_uBLQNcOVEXC"
      }
    },
    {
      "cell_type": "code",
      "source": [
        "a = 10 #เป็น int\n",
        "print(type(a))"
      ],
      "metadata": {
        "colab": {
          "base_uri": "https://localhost:8080/"
        },
        "id": "Gincv9_dRIl2",
        "outputId": "b1175da8-a068-4174-c30e-9fbac797b3c3"
      },
      "execution_count": null,
      "outputs": [
        {
          "output_type": "stream",
          "name": "stdout",
          "text": [
            "<class 'int'>\n"
          ]
        }
      ]
    },
    {
      "cell_type": "markdown",
      "source": [
        "ตัวอย่าง: ลองสร้างตัวแปร int เป็นปีเกิดตัวเอง\n",
        "\n",
        "แล้ว print ประเภทออกมาด้วย คำสั่ง type()"
      ],
      "metadata": {
        "id": "Ndj-CO5Zo0T2"
      }
    },
    {
      "cell_type": "code",
      "source": [
        "interger = 10\n",
        "print(type(interger))"
      ],
      "metadata": {
        "colab": {
          "base_uri": "https://localhost:8080/"
        },
        "id": "YS0UwZuio0T2",
        "outputId": "7ed66351-d7e6-48dc-b102-218bda9d812a"
      },
      "execution_count": null,
      "outputs": [
        {
          "output_type": "stream",
          "name": "stdout",
          "text": [
            "<class 'int'>\n"
          ]
        }
      ]
    },
    {
      "cell_type": "markdown",
      "source": [
        "#### float"
      ],
      "metadata": {
        "id": "ioIr1IhuVI2i"
      }
    },
    {
      "cell_type": "code",
      "source": [
        "a = 10.0 #เป็น float\n",
        "print(type(a))"
      ],
      "metadata": {
        "colab": {
          "base_uri": "https://localhost:8080/"
        },
        "id": "cca65YGKTE7D",
        "outputId": "d34c47f5-0f32-4d4f-b582-e19af28141b8"
      },
      "execution_count": null,
      "outputs": [
        {
          "output_type": "stream",
          "name": "stdout",
          "text": [
            "<class 'float'>\n"
          ]
        }
      ]
    },
    {
      "cell_type": "markdown",
      "source": [
        "ตัวอย่าง: ลองสร้างตัวแปร float ด้วยเลขที่ชอบ\n",
        "\n",
        "แล้ว print ประเภทออกมาด้วย คำสั่ง type()"
      ],
      "metadata": {
        "id": "gu8wZU7oo9ET"
      }
    },
    {
      "cell_type": "code",
      "source": [
        "decimal = 10.5\n",
        "print(type(decimal))"
      ],
      "metadata": {
        "colab": {
          "base_uri": "https://localhost:8080/"
        },
        "id": "MfERC4tPo9EU",
        "outputId": "cdec3d25-53f1-4fcc-9abe-82c5c07a6212"
      },
      "execution_count": null,
      "outputs": [
        {
          "output_type": "stream",
          "name": "stdout",
          "text": [
            "<class 'float'>\n"
          ]
        }
      ]
    },
    {
      "cell_type": "markdown",
      "source": [
        "## Operation (การดำเนินการ AKA บวก ลบ คูณ หาร)\n",
        "การบวก + การลบ - การคูณ * การหาร /"
      ],
      "metadata": {
        "id": "h1DJtxwdZY0m"
      }
    },
    {
      "cell_type": "markdown",
      "source": [
        "**ตัวอย่าง:** ลองสร้างตัวแปรตัวเลข 2 ตัว เช่น a และ b จากนั้นนำมา บวก ลบ คูณ และ หาร กัน พร้อมแสดงผล\n",
        "\n",
        "\n",
        "note: print(บวก, ลบ, คูณ, หาร)\n",
        "\n",
        "เราสามารถใช้ , เพื่อแสดงผลข้อมูลหลายตัวในบรรทัดเดียวได้\n",
        "\n"
      ],
      "metadata": {
        "id": "bGfpET32pJKx"
      }
    },
    {
      "cell_type": "code",
      "source": [
        "a = 10\n",
        "b = 20\n",
        "print(a+b, a-b, a*b, a/b)"
      ],
      "metadata": {
        "colab": {
          "base_uri": "https://localhost:8080/"
        },
        "id": "9whkSORrpITG",
        "outputId": "2dcc6fc7-a1cb-42cb-c010-b9e1175b5917"
      },
      "execution_count": null,
      "outputs": [
        {
          "output_type": "stream",
          "name": "stdout",
          "text": [
            "30 -10 200 0.5\n"
          ]
        }
      ]
    },
    {
      "cell_type": "markdown",
      "metadata": {
        "id": "CsrOQr-zjHB0"
      },
      "source": [
        "**ตัวอย่าง** การกำหนดข้อมูลจำนวนและการคำนวณพื้นฐาน"
      ]
    },
    {
      "cell_type": "code",
      "metadata": {
        "id": "9rzUShFXjoAz",
        "colab": {
          "base_uri": "https://localhost:8080/"
        },
        "outputId": "3043c16d-6870-4218-bec4-59d0f757237f"
      },
      "source": [
        "# โปรแกรมคำนวณพื้นที่สามเหลี่ยม\n",
        "base = 10 # ฐาน = 10\n",
        "height = 15 # สูง = 15\n",
        "\n",
        "area = (1/2) * base * height #พื้นที่ = (1/2) x สูง x ฐาน\n",
        "\n",
        "print(\"ฐาน =\", base)\n",
        "print(\"สูง =\", height)\n",
        "print(\"พื้นที่ =\", area)"
      ],
      "execution_count": null,
      "outputs": [
        {
          "output_type": "stream",
          "name": "stdout",
          "text": [
            "ฐาน = 10\n",
            "สูง = 15\n",
            "พื้นที่ = 75.0\n"
          ]
        }
      ]
    },
    {
      "cell_type": "markdown",
      "metadata": {
        "id": "20ThYCpED58F"
      },
      "source": [
        "**ตัวอย่าง** ลองสร้างโปรแกรมคำนวณสี่เหลี่ยม"
      ]
    },
    {
      "cell_type": "code",
      "source": [
        "w = 10\n",
        "h = 20\n",
        "area = w*h\n",
        "\n",
        "print(\"ฐาน =\", w)\n",
        "print(\"สูง =\", h)\n",
        "print(\"พื้นที่ =\", area)"
      ],
      "metadata": {
        "id": "85l5EFpDD3dC",
        "colab": {
          "base_uri": "https://localhost:8080/"
        },
        "outputId": "5cbbd3dd-2902-451e-88a4-4b01a8a14d52"
      },
      "execution_count": null,
      "outputs": [
        {
          "output_type": "stream",
          "name": "stdout",
          "text": [
            "ฐาน = 10\n",
            "สูง = 20\n",
            "พื้นที่ = 200\n"
          ]
        }
      ]
    },
    {
      "cell_type": "markdown",
      "metadata": {
        "id": "1rbuPRFs6BJY"
      },
      "source": [
        "<hr>\n",
        "\n",
        "**เกร็ดน่ารู้** ตัวดำเนินการทางคณิตศาสตร์\n",
        "\n",
        "ตัวดำเนินการสำหรับการบวก ลบ คูณ และหาร ใน python ใช้เครื่องหมาย +, -, * และ / ตามลำดับ\n",
        "\n",
        "นอกจากนี้แล้วยังมีการใช้เครื่องหมาย **, //, % ซึ่งหมายถึงการยกกำลัง, การหารปัดเศษทิ้ง และเศษที่ได้จากการหาร ตามลำดับ\n",
        "\n",
        "<hr>\n"
      ]
    },
    {
      "cell_type": "code",
      "metadata": {
        "id": "FXLXjzrs9WAX",
        "colab": {
          "base_uri": "https://localhost:8080/"
        },
        "outputId": "4485813a-3ed7-4d8a-968a-5e3d895ec3dd"
      },
      "source": [
        "4**3 # 4 กำลัง 3"
      ],
      "execution_count": null,
      "outputs": [
        {
          "output_type": "execute_result",
          "data": {
            "text/plain": [
              "64"
            ]
          },
          "metadata": {},
          "execution_count": 72
        }
      ]
    },
    {
      "cell_type": "code",
      "metadata": {
        "id": "FRNGL3BP9bTK",
        "colab": {
          "base_uri": "https://localhost:8080/"
        },
        "outputId": "6a56b129-cb8b-457e-dbbe-e4048b398a39"
      },
      "source": [
        "7//3 # 3 หาร 7 ได้มากสุดกี่ครั้ง"
      ],
      "execution_count": null,
      "outputs": [
        {
          "output_type": "execute_result",
          "data": {
            "text/plain": [
              "2"
            ]
          },
          "metadata": {},
          "execution_count": 22
        }
      ]
    },
    {
      "cell_type": "code",
      "metadata": {
        "id": "2YtQYBLu9pt8",
        "colab": {
          "base_uri": "https://localhost:8080/"
        },
        "outputId": "a4674333-50b5-4696-fc99-2e5d83c713c5"
      },
      "source": [
        "7%3 # 3 หาร 7 แล้วเหลือเศษเท่าไหร่"
      ],
      "execution_count": null,
      "outputs": [
        {
          "output_type": "execute_result",
          "data": {
            "text/plain": [
              "1"
            ]
          },
          "metadata": {},
          "execution_count": 23
        }
      ]
    },
    {
      "cell_type": "markdown",
      "source": [
        "**ตัวอย่าง:** ลองสร้างตัวแปรตัวเลข 2 ตัว เช่น a และ b จากนั้นนำมา ยกกำลัง หารปัดเศษ และหารเอาเศษ พร้อมแสดงผล\n",
        "\n",
        "\n",
        "note: print(ยกกำลัง, หารปัดเศษ, และหารเอาเศษ)\n",
        "\n",
        "เราสามารถใช้ , เพื่อแสดงผลข้อมูลหลายตัวในบรรทัดเดียวได้\n",
        "\n"
      ],
      "metadata": {
        "id": "8ySI7UC0p7BG"
      }
    },
    {
      "cell_type": "code",
      "source": [
        "a = 10\n",
        "b = 4\n",
        "print(a**b, a//b, a%b)"
      ],
      "metadata": {
        "colab": {
          "base_uri": "https://localhost:8080/"
        },
        "id": "0hgioVKzp7BG",
        "outputId": "e2f22a8c-4140-464f-adf8-8dd5ecd96f57"
      },
      "execution_count": null,
      "outputs": [
        {
          "output_type": "stream",
          "name": "stdout",
          "text": [
            "10000 2 2\n"
          ]
        }
      ]
    },
    {
      "cell_type": "markdown",
      "source": [
        "การใช้ประโยชน์จากการคำนวณทางคณิตศาสตร์\n",
        "<hr>\n"
      ],
      "metadata": {
        "id": "BFDzPRB0qKJj"
      }
    },
    {
      "cell_type": "markdown",
      "metadata": {
        "id": "qz6XMgnQra-O"
      },
      "source": [
        "**ตัวอย่าง** ทอนเท่าไร\n",
        "\n",
        "เราไปซื้อซื้อแฟลชไดรฟ์ ราคา 117 บาท ที่เซ่เว่น\n",
        "\n",
        "โดยจ่ายเงินด้วยธนบัตรหนึ่งร้อยบาท 2 ใบ (200 บาท)\n",
        "\n",
        "ในลิ้นชักเก็บเงินของร้าน มีแต่ธนบัตร 20 บาท และเหรียญหนึ่งบาท \n",
        "\n",
        "\n",
        "พนักงานจะต้องทอนเงินเป็นธนบัตร 20 บาท จำนวนกี่ใบ และเหรียญหนึ่งบาทจำนวนกี่เหรียญ?\n"
      ]
    },
    {
      "cell_type": "code",
      "metadata": {
        "id": "OkVxccger-ih",
        "colab": {
          "base_uri": "https://localhost:8080/"
        },
        "outputId": "8d3a88a7-30bc-46d4-eb62-f4d515a79b21"
      },
      "source": [
        "change = 200 - 117 # หาก่อนว่าต้องทอนกี่บาท 200 คือเงินที่จ่าย 117 คือราคาของ = 83 บาท\n",
        "note20 = change//20 # หาร 20 ได้มากสุดกี่ครั้ง โดยจำนวนแบงค์ 20 ที่ให้ได้มากสุดแล้วไม่เกินเงินทอน = 4 ใบ\n",
        "coin1 = change % 20 # หารด้วย 20 แล้วถ้ามันไม่ลงตัว จะเหลือเศษเท่าไหร่ ที่ต้องทอนป็นเหรียญ 1 บาท\n",
        "\n",
        "print(\"เงินทอนทั้งหมด\", change, \"บาท\")\n",
        "print(\"เป็นธนบัตรยี่สิบบาท จำนวน\", note20, \"ใบ\")\n",
        "print(\"เป็นหนึ่งบาท จำนวน\", coin1, \"เหรียญ\")"
      ],
      "execution_count": null,
      "outputs": [
        {
          "output_type": "stream",
          "name": "stdout",
          "text": [
            "เงินทอนทั้งหมด 83 บาท\n",
            "เป็นธนบัตรยี่สิบบาท จำนวน 4 ใบ\n",
            "เป็นหนึ่งบาท จำนวน 3 เหรียญ\n"
          ]
        }
      ]
    },
    {
      "cell_type": "markdown",
      "source": [
        "## การแปลงชนิดข้อมูล\n",
        "เราสามารถแปลงข้อมูลจากประเภทนึง ไปอีกประเภทหนึ่งได้ โดยการใช้ คำสั่งแปลงค่า\n",
        "\n",
        "str( ) เพื่อแปลงเป็น string\n",
        "\n",
        "float( ) เพื่อแปลงเป็น float\n",
        "\n",
        "int( ) เพื่อแปลงเป็น int\n",
        "<hr>\n"
      ],
      "metadata": {
        "id": "PMEeXA0VbVga"
      }
    },
    {
      "cell_type": "markdown",
      "source": [
        "<b>ตัวอย่าง</b>\n",
        "โปรแกรมคิดขนาดพื้นที่วงกลม\n",
        "\n",
        "\n",
        "สูตร PI x R ยกกำลัง 2"
      ],
      "metadata": {
        "id": "Wk7Qw0VMWrz5"
      }
    },
    {
      "cell_type": "code",
      "source": [
        "r = input('กำหนดรัศมี')\n",
        "print(type(r))\n",
        "area = 3.14 * (r**2)"
      ],
      "metadata": {
        "colab": {
          "base_uri": "https://localhost:8080/",
          "height": 235
        },
        "id": "xJuCuJIzQ_oz",
        "outputId": "5219c96d-fe7c-4e3b-add3-ceffbbedb40a"
      },
      "execution_count": null,
      "outputs": [
        {
          "output_type": "stream",
          "name": "stdout",
          "text": [
            "กำหนดรัศมี10\n",
            "<class 'str'>\n"
          ]
        },
        {
          "output_type": "error",
          "ename": "TypeError",
          "evalue": "ignored",
          "traceback": [
            "\u001b[0;31m---------------------------------------------------------------------------\u001b[0m",
            "\u001b[0;31mTypeError\u001b[0m                                 Traceback (most recent call last)",
            "\u001b[0;32m<ipython-input-20-4a1ade1ef669>\u001b[0m in \u001b[0;36m<module>\u001b[0;34m\u001b[0m\n\u001b[1;32m      1\u001b[0m \u001b[0mr\u001b[0m \u001b[0;34m=\u001b[0m \u001b[0minput\u001b[0m\u001b[0;34m(\u001b[0m\u001b[0;34m'กำหนดรัศมี'\u001b[0m\u001b[0;34m)\u001b[0m\u001b[0;34m\u001b[0m\u001b[0;34m\u001b[0m\u001b[0m\n\u001b[1;32m      2\u001b[0m \u001b[0mprint\u001b[0m\u001b[0;34m(\u001b[0m\u001b[0mtype\u001b[0m\u001b[0;34m(\u001b[0m\u001b[0mr\u001b[0m\u001b[0;34m)\u001b[0m\u001b[0;34m)\u001b[0m\u001b[0;34m\u001b[0m\u001b[0;34m\u001b[0m\u001b[0m\n\u001b[0;32m----> 3\u001b[0;31m \u001b[0marea\u001b[0m \u001b[0;34m=\u001b[0m \u001b[0;36m3.14\u001b[0m \u001b[0;34m*\u001b[0m \u001b[0;34m(\u001b[0m\u001b[0mr\u001b[0m\u001b[0;34m**\u001b[0m\u001b[0;36m2\u001b[0m\u001b[0;34m)\u001b[0m\u001b[0;34m\u001b[0m\u001b[0;34m\u001b[0m\u001b[0m\n\u001b[0m",
            "\u001b[0;31mTypeError\u001b[0m: unsupported operand type(s) for ** or pow(): 'str' and 'int'"
          ]
        }
      ]
    },
    {
      "cell_type": "markdown",
      "source": [
        "**จะเห็นว่าเกิด Error**\n",
        "\n",
        "\n",
        "TypeError: can't multiply sequence by non-int of type 'float'\n",
        "\n",
        "\n",
        "เนื่องจาก r รับค่ามาเป็น str หรือ String หรือตัวอักษร\n",
        "\n",
        "เราไม่สามารถคิดเลขกับตัวอักษรได้\n",
        "\n",
        "จึงจะต้องแปลงเป็นตัวเลขซะก่อนด้วยคำสั่ง\n",
        "int( ) หรือ float( ) ก็ได้"
      ],
      "metadata": {
        "id": "UO7mFw0LZzVd"
      }
    },
    {
      "cell_type": "code",
      "source": [
        "r = float(input('กำหนดรัศมี:'))\n",
        "print(type(r))\n",
        "area = 3.14 * (r**2)\n",
        "print(area)"
      ],
      "metadata": {
        "colab": {
          "base_uri": "https://localhost:8080/"
        },
        "id": "b6NMbVPLZwH6",
        "outputId": "8222d5be-29a9-47e5-d6ba-c1a113876d8e"
      },
      "execution_count": null,
      "outputs": [
        {
          "output_type": "stream",
          "name": "stdout",
          "text": [
            "กำหนดรัศมี:5.24\n",
            "<class 'float'>\n",
            "86.21686400000002\n"
          ]
        }
      ]
    },
    {
      "cell_type": "markdown",
      "source": [
        "โปรแกรมคำนวณพท. สี่เหลี่ยม"
      ],
      "metadata": {
        "id": "yN6afdL18-Bj"
      }
    },
    {
      "cell_type": "code",
      "source": [
        "w = float(input('ใส่ความกว้าง'))\n",
        "h = float(input('ใส่ความยาว'))\n",
        "area = w*h\n",
        "\n",
        "print(\"ฐาน =\", w)\n",
        "print(\"สูง =\", h)\n",
        "print(\"พื้นที่ =\", area)"
      ],
      "metadata": {
        "colab": {
          "base_uri": "https://localhost:8080/"
        },
        "id": "AVMltbgx9BeD",
        "outputId": "c541e23e-ad55-4fe6-a3a0-34eed88f5b65"
      },
      "execution_count": null,
      "outputs": [
        {
          "output_type": "stream",
          "name": "stdout",
          "text": [
            "ใส่ความกว้าง3.0\n",
            "ใส่ความยาว5.5\n",
            "ฐาน = 3.0\n",
            "สูง = 5.5\n",
            "พื้นที่ = 16.5\n"
          ]
        }
      ]
    },
    {
      "cell_type": "markdown",
      "source": [
        "## Conditional Statements การทำงานแบบเงื่อนไข\n",
        "เราสามารถตั้งการทำงาน ที่จะทำก็ต่อเมื่อตรงตามเงื่อนไขได้ด้วยคำสั่ง if else\n",
        "\n",
        "จุดสำคัญคือต้องทำการ \"เว้นวรรค\" ให้ถูกต้อง\n",
        "เพราะระดับของโค้ดมีความสำคัญมากใน python\n"
      ],
      "metadata": {
        "id": "gsc9ABpLs5kA"
      }
    },
    {
      "cell_type": "code",
      "source": [
        "check = input('คุณเป็นนักเรียน หรือ คุณครู:')\n",
        "if check == 'นักเรียน': # ปิดด้วย:\n",
        "  print('สวัสดีครับนักเรียน') # เว้นเข้ามาข้างใน 1 Tab\n",
        "elif check == 'คุณครู':# ปิดด้วย:\n",
        "  print('สวัสดีครับคุณครู')  # เว้นเข้ามาข้างใน 1 Tab\n",
        "else:# ปิดด้วย:\n",
        "  print('คุณไม่ใช่ทั้งคุณครูและนักเรียน?') # เว้นเข้ามาข้างใน 1 Tab"
      ],
      "metadata": {
        "colab": {
          "base_uri": "https://localhost:8080/"
        },
        "id": "49sRnkovtaCZ",
        "outputId": "57305c60-83f4-435a-b991-16b7fe5239d9"
      },
      "execution_count": null,
      "outputs": [
        {
          "output_type": "stream",
          "name": "stdout",
          "text": [
            "คุณเป็นนักเรียน หรือ คุณครู:กดเ้่าส\n",
            "คุณไม่ใช่ทั้งคุณครูและนักเรียน?\n"
          ]
        }
      ]
    },
    {
      "cell_type": "code",
      "source": [
        "== != > < >= <="
      ],
      "metadata": {
        "id": "ASH27b6YDuFV"
      },
      "execution_count": null,
      "outputs": []
    },
    {
      "cell_type": "code",
      "source": [
        "exam_result = int(input(\"ผลสอบของคุณ\"))\n",
        "if exam_result >= 50:\n",
        "  print('สอบผ่าน')\n",
        "elif exam_result < 50:\n",
        "  print(\"สอบไม่ผ่าน\")"
      ],
      "metadata": {
        "colab": {
          "base_uri": "https://localhost:8080/"
        },
        "id": "dMJbOV3mEPyA",
        "outputId": "bead79b0-996c-4241-80ed-86c252d0b42e"
      },
      "execution_count": null,
      "outputs": [
        {
          "output_type": "stream",
          "name": "stdout",
          "text": [
            "ผลสอบของคุณ3\n",
            "สอบไม่ผ่าน\n"
          ]
        }
      ]
    },
    {
      "cell_type": "markdown",
      "source": [
        "**ตัวอย่าง: เดาอายุ**\n",
        "\n",
        "ลองสร้างตัวแปร ทีมีค่าเท่ากับอายุของเรา\n",
        "\n",
        "\n",
        "ถ้าเกิดว่าใส่อายุถูกต้อง จะแสดงผลว่าถูกต้อง\n",
        "\n",
        "\n",
        "ถ้าใส่อายุเยอะไป จะแสดงผลว่าเยอะไป\n",
        "\n",
        "\n",
        "ถ้าใส่อายุน้อยไป จะแสดงผลบอกว่าน้อยไป"
      ],
      "metadata": {
        "id": "nBXSjm3Lt8sg"
      }
    },
    {
      "cell_type": "code",
      "source": [
        "myage = 17\n",
        "answer = int(input('เดาอายุของฉัน'))\n",
        "if answer > myage:\n",
        "  print('มากไป')\n",
        "elif answer == myage:\n",
        "  print('ถูกต้อง')\n",
        "elif answer == myage:\n",
        "  print('น้อยไป')\n",
        "else:\n",
        "  print('ข้อมูลผิด')"
      ],
      "metadata": {
        "colab": {
          "base_uri": "https://localhost:8080/"
        },
        "id": "uVQqj8Wzud6n",
        "outputId": "03f4ec83-2a32-4cbc-bf8d-c7bcff7f7d43"
      },
      "execution_count": null,
      "outputs": [
        {
          "output_type": "stream",
          "name": "stdout",
          "text": [
            "เดาอายุของฉัน-15\n",
            "ข้อมูลผิด\n"
          ]
        }
      ]
    },
    {
      "cell_type": "markdown",
      "source": [
        "**ตัวอย่าง :** เกมเดาสุ่มเลข\n",
        "\n",
        "จากตัวแปร random_number ที่เป็นค่าสุ่ม ระหว่าง 1-100 ที่เตรียมไว้ให้\n",
        "\n",
        "ถ้าเกิดเดาเลขผิด ให้บอกว่าเยอะไป หรือน้อยไป\n",
        "\n",
        "ถ้าเดาถูกให้บอกว่าถูกต้อง"
      ],
      "metadata": {
        "id": "kpJtKGgkrpO7"
      }
    },
    {
      "cell_type": "code",
      "source": [
        "import random #การ import โค้ดที่มีคนเขียนไว้แล้ว Upload ไว้มาใช้\n",
        "random_number = random.randint(1,100) # เอาไว้ใช้ในการสุ่มค่าตัวเลข กรณีนี้ 1, 100\n",
        "print(random_number)"
      ],
      "metadata": {
        "id": "AEfXtEy0tiDA",
        "colab": {
          "base_uri": "https://localhost:8080/"
        },
        "outputId": "a53b9b43-69fb-420a-df74-e51b3c5ed5bb"
      },
      "execution_count": null,
      "outputs": [
        {
          "output_type": "stream",
          "name": "stdout",
          "text": [
            "43\n"
          ]
        }
      ]
    },
    {
      "cell_type": "code",
      "source": [
        "answer = int(input('เดาเลข'))\n",
        "if answer == random_number:\n",
        "  print('ถูกต้อง')\n",
        "elif answer > random_number:\n",
        "  print('มากไป0')\n",
        "else:\n",
        "  print('น้อยไป')"
      ],
      "metadata": {
        "colab": {
          "base_uri": "https://localhost:8080/"
        },
        "id": "t6kCnV68haHA",
        "outputId": "4c4c3cba-65d1-4639-8275-55d3ada5a1b5"
      },
      "execution_count": null,
      "outputs": [
        {
          "output_type": "stream",
          "name": "stdout",
          "text": [
            "เดาเลข43\n",
            "ถูกต้อง\n"
          ]
        }
      ]
    },
    {
      "cell_type": "markdown",
      "metadata": {
        "id": "ePNdY6LEnpNL"
      },
      "source": [
        "## การทำงานแบบวนซ้ำ\n",
        "\n",
        "ใช้ประโยค for i in range(start, stop) เพื่อทำการวนลูป เพื่อทำซ้ำไปเรื่อยๆ\n",
        "\n",
        "\n",
        "จุดสำคัญคือต้องทำการ \"เว้นวรรค\" ให้ถูกต้อง\n",
        "เพราะระดับของโค้ดมีความสำคัญมากใน python\n",
        "\n",
        "<hr>"
      ]
    },
    {
      "cell_type": "markdown",
      "source": [
        "**ตัวอย่าง** เขียนโปรแกรมที่รับค่าเป็นชื่อ แล้วจะแสดงชื่อออกมา 5 ครั้ง"
      ],
      "metadata": {
        "id": "D-_EUqvPu4Fy"
      }
    },
    {
      "cell_type": "code",
      "source": [
        "name = input('โปรดใส่ชื่อของคุณ')\n",
        "print(name)\n",
        "print(name)\n",
        "print(name)\n",
        "print(name)\n",
        "print(name)"
      ],
      "metadata": {
        "colab": {
          "base_uri": "https://localhost:8080/"
        },
        "id": "q-N7bCBru28_",
        "outputId": "f4c33849-8499-444f-c53f-86f7a292081d"
      },
      "execution_count": null,
      "outputs": [
        {
          "output_type": "stream",
          "name": "stdout",
          "text": [
            "โปรดใส่ชื่อของคุณไกด์\n",
            "ไกด์\n",
            "ไกด์\n",
            "ไกด์\n",
            "ไกด์\n",
            "ไกด์\n"
          ]
        }
      ]
    },
    {
      "cell_type": "markdown",
      "metadata": {
        "id": "CRAGxXmdnrRy"
      },
      "source": [
        "**ตัวอย่าง print** โปรแกรมรับชื่อ แล้วพิมพ์ซ้ำออกมาจำนวน 5 ครั้ง\n",
        "\n",
        "แต่คราวนี้จะใช้ loop"
      ]
    },
    {
      "cell_type": "code",
      "metadata": {
        "id": "KdU_ePLPngeO"
      },
      "source": [
        "name = input('โปรดใส่ชื่อของคุณ')\n",
        "for i in range(10):\n",
        "  print(name)"
      ],
      "execution_count": null,
      "outputs": []
    },
    {
      "cell_type": "code",
      "source": [],
      "metadata": {
        "id": "_24Tw-KUk6ym"
      },
      "execution_count": null,
      "outputs": []
    },
    {
      "cell_type": "markdown",
      "metadata": {
        "id": "h19UtwN9y7tl"
      },
      "source": [
        "**ตัวอย่าง** โปรแกรมแสดงผลค่าอาหาร ทีละรายการ\n",
        "\n",
        "โดยจะกรอกราคา และชื่อเมนูแยกทีละจาน แล้วแสดงผล เช่น \n",
        "\n",
        "จานที่ 1 : 50 บาท : กระเพราไม่ใส่ใบกระเพราะ\n",
        "\n",
        "จานที่ 2 : 100 บาท : บะหมีไก่ใส่หมู\n",
        "\n",
        "\n"
      ]
    },
    {
      "cell_type": "code",
      "metadata": {
        "id": "l1i-DC_lyzgN",
        "colab": {
          "base_uri": "https://localhost:8080/"
        },
        "outputId": "c6e34d0f-fc2c-4b3e-b004-58fb3d218b7c"
      },
      "source": [
        "plates=int(input('จำนวนจาน'))\n",
        "for x in range(plates):\n",
        "  n=input('ชื่อเมนู')\n",
        "  p=float(input('ราคา'))\n",
        "  print('จานที่',x+1,':',p,'บาท :',n)"
      ],
      "execution_count": null,
      "outputs": [
        {
          "output_type": "stream",
          "name": "stdout",
          "text": [
            "จำนวนจาน2\n",
            "ชื่อเมนูไกกกกกกกกก\n",
            "ราคา55555555\n",
            "จานที่ 1 : 55555555 บาท : ไกกกกกกกกก\n",
            "ชื่อเมนูรรรรรรร\n",
            "ราคา6666666666\n",
            "จานที่ 2 : 6666666666 บาท : รรรรรรร\n"
          ]
        }
      ]
    },
    {
      "cell_type": "markdown",
      "source": [
        "\n",
        "**ตัวอย่าง** โปรแกรมนับค่าอาหาร ทีละรายการ\n",
        "\n",
        "โดยจะกรอกราคา แยกทีละจาน แล้วแสดงผลรวม เช่น \n",
        "\n",
        "จานที่ 1 : 50 บาท :\n",
        "\n",
        "จานที่ 2 : 100 บาท :\n",
        "\n",
        "รวม 150 บาท\n",
        "\n",
        "\n"
      ],
      "metadata": {
        "id": "EEc0lIltxRZL"
      }
    },
    {
      "cell_type": "code",
      "source": [
        "plates=int(input('จำนวนจาน'))\n",
        "sum = 0\n",
        "for x in range(plates):\n",
        "  n=input('ชื่อเมนู')\n",
        "  p=float(input('ราคา'))\n",
        "  sum = sum + p\n",
        "  print('จานที่',x+1,':',p,'บาท :',n)\n",
        "\n",
        "print('ราคารวม คือ:', sum, 'บาท')"
      ],
      "metadata": {
        "colab": {
          "base_uri": "https://localhost:8080/"
        },
        "id": "zlcd6jLtxaz2",
        "outputId": "d65f473c-93c0-489e-daf8-8f8a10e3d2fd"
      },
      "execution_count": null,
      "outputs": [
        {
          "output_type": "stream",
          "name": "stdout",
          "text": [
            "จำนวนจาน3\n",
            "ชื่อเมนูหกดเ้\n",
            "ราคา300\n",
            "จานที่ 1 : 300.0 บาท : หกดเ้\n",
            "ชื่อเมนูกดเ้่าส\n",
            "ราคา200\n",
            "จานที่ 2 : 200.0 บาท : กดเ้่าส\n",
            "ชื่อเมนูหกดเ้\n",
            "ราคา45\n",
            "จานที่ 3 : 45.0 บาท : หกดเ้\n",
            "ราคารวม คือ: 545.0 บาท\n"
          ]
        }
      ]
    },
    {
      "cell_type": "markdown",
      "source": [
        "## ลิสต์ (List)\n",
        "โครงสร้างข้อมูลแบบลิสต์ \n",
        "<hr>\n",
        "โครงสร้างข้อมูลประเภท list มีลักษณะการเก็บข้อมูลเป็นช่องๆ\n",
        "\n",
        "\n",
        "โดยสามารถสร้างได้ด้วยการใช้ ชื่อตัวแปร = [ข้อมูล1, ข้อมูล2, ข้อมูล..., ข้อมูลสุดท้าย]\n",
        "\n",
        "\n",
        "ซึ่งสามารถเรียกใช้ได้ด้วยการกำหนด index หรือตำแหน่งของข้อมูล ใน[ ]    ซึ่งเริ่มต้นจาก 0\n",
        "\n",
        "\n",
        "เช่น a = [1,2,3,4]\n",
        "\n",
        "\n",
        "a[0] จะมีค่าเท่ากับ 1"
      ],
      "metadata": {
        "id": "zvbYyARNvfED"
      }
    },
    {
      "cell_type": "code",
      "source": [
        "mylist = [1,2,3,4] # ตัวอย่างการสร้าง List\n",
        "print(mylist) # แสดงผล List a\n",
        "print(mylist[0]) # Index ที่ 0 ของ list a\n",
        "print(mylist[1]) # Index ที่ 1 ของ list a\n",
        "print(mylist[2]) # Index ที่ 2 ของ list a\n",
        "print(mylist[3]) # Index ที่ 3 ของ list a"
      ],
      "metadata": {
        "id": "mbLZKAqXwFdB",
        "colab": {
          "base_uri": "https://localhost:8080/"
        },
        "outputId": "61d0eb70-8e80-4ddc-f04c-d72b80c82955"
      },
      "execution_count": null,
      "outputs": [
        {
          "output_type": "stream",
          "name": "stdout",
          "text": [
            "[1, 2, 3, 4]\n",
            "1\n",
            "2\n",
            "3\n",
            "4\n"
          ]
        }
      ]
    },
    {
      "cell_type": "markdown",
      "source": [
        "เราสามารถใช้ List เก็บข้อมูลได้ทุกประเภท\n",
        "\n",
        "เหมือนกันกับตัวแปร\n",
        "แต่สามารถเรียกใช้ได้ด้วย Index\n",
        "\n",
        "แถมยังมีวิธีการเรียกใช้ที่เจ๋งๆอีกมาก\n",
        "\n",
        "\n",
        "เช่น List ของรายชื่อนักเรียน"
      ],
      "metadata": {
        "id": "cI9Pf8mpvAta"
      }
    },
    {
      "cell_type": "code",
      "source": [
        "student_name = ['guide', 'sean', 'anapat', 'poo', 'beb']\n",
        "print(student_name) # แสดงลิสท์ของข้อมลทั้งหมด\n",
        "print(type(student_name)) # เช็คประเภทของข้อมูล\n",
        "print(student_name[0]) # เลือกตำแหน่งที่ 0\n",
        "print(student_name[-1]) # เหลือตำแหน่งท้ายสุด -1"
      ],
      "metadata": {
        "id": "B3chodSTxaRV",
        "colab": {
          "base_uri": "https://localhost:8080/"
        },
        "outputId": "a2a04bca-15f7-49f3-a302-02b6668c3ef4"
      },
      "execution_count": null,
      "outputs": [
        {
          "output_type": "stream",
          "name": "stdout",
          "text": [
            "['guide', 'sean', 'anapat', 'poo', 'beb']\n",
            "<class 'list'>\n",
            "guide\n",
            "beb\n"
          ]
        }
      ]
    },
    {
      "cell_type": "markdown",
      "source": [
        "การเปลี่ยนแปลงข้อมูลใน List สามารถทำได้เหมือนการตั้งตัวแปร โดยต้องเลือกตำแหน่งของข้อมูล\n"
      ],
      "metadata": {
        "id": "bUacEIVzzBzz"
      }
    },
    {
      "cell_type": "code",
      "source": [
        "student_name = ['guide', 'sean', 'anapat', 'poo', 'beb']\n",
        "print(student_name[0]) # ตอนแรกเป็น guide\n",
        "student_name[0] = 'Few' # มีการแก้ไขข้อมูล เป็น Few\n",
        "print(student_name[0]) # ตอนนี้เป็น Few\n",
        "print(student_name) # ข้อมูลที่ตำแหน่งอื่นยังคงเดิม"
      ],
      "metadata": {
        "colab": {
          "base_uri": "https://localhost:8080/"
        },
        "id": "zk69iQJVzfeI",
        "outputId": "e2eae715-521b-49b3-9acf-4520ec157d59"
      },
      "execution_count": null,
      "outputs": [
        {
          "output_type": "stream",
          "name": "stdout",
          "text": [
            "guide\n",
            "Few\n",
            "['Few', 'sean', 'anapat', 'poo', 'beb']\n"
          ]
        }
      ]
    },
    {
      "cell_type": "markdown",
      "source": [
        "การเลือกข้อมูลจาก List เพียงบางส่วน"
      ],
      "metadata": {
        "id": "-s1zF7UcyLH9"
      }
    },
    {
      "cell_type": "code",
      "source": [
        "student_name = ['guide', 'sean', 'anapat', 'poo', 'beb']\n",
        "print(student_name) # แสดงลิสท์ของข้อมูลทั้งหมด\n",
        "print(student_name[0:4]) # เลือกข้อมูลตำแหน่ง 0 - 4\n",
        "print(student_name[:3]) # เลือกข้อมูลตำแหน่ง 0 - 3\n",
        "print(student_name[2:]) # เลือกข้อมูลตำแหน่งที่ 2 จนถึงตำแหน่งสุดท้าย <-- ตำแหน่งที่ 2 = ตัวที่ 3 "
      ],
      "metadata": {
        "colab": {
          "base_uri": "https://localhost:8080/"
        },
        "id": "ZrY0141swLCK",
        "outputId": "0f7a0507-8533-4d5a-bf53-59300e78d9ff"
      },
      "execution_count": null,
      "outputs": [
        {
          "output_type": "stream",
          "name": "stdout",
          "text": [
            "['guide', 'sean', 'anapat', 'poo', 'beb']\n",
            "['guide', 'sean', 'anapat', 'poo']\n",
            "['guide', 'sean', 'anapat']\n",
            "['anapat', 'poo', 'beb']\n"
          ]
        }
      ]
    },
    {
      "cell_type": "markdown",
      "source": [
        "สร้าง List รายชื่อของคนที่รู้จักและตัวเอง อย่างน้อย 5 คน\n",
        "\n",
        "\n",
        "เช่น ['guide', 'sean', 'anapat', 'poo', 'beb'] ห้ามก๊อป ให้ลองพิมพ์เอง\n",
        "\n",
        "แล้วให้ทำการเลือกเพียงตำแแหน่งที่ 2 ถึง ตำแหน่งที่ 4 ด้วยการเลือกข้อมูลจาก list\n",
        "\n",
        "\n",
        "แล้วแสดงผล"
      ],
      "metadata": {
        "id": "o_97TLjD2SKy"
      }
    },
    {
      "cell_type": "code",
      "source": [
        "student_name = ['guide', 'sean', 'anapat', 'poo', 'beb']\n",
        "print(student_name[2:4])"
      ],
      "metadata": {
        "id": "DF6yWgUi2Rq8",
        "colab": {
          "base_uri": "https://localhost:8080/"
        },
        "outputId": "d5d7e52c-ceee-4859-edc0-9664ff51d8f7"
      },
      "execution_count": null,
      "outputs": [
        {
          "output_type": "stream",
          "name": "stdout",
          "text": [
            "['anapat', 'poo']\n"
          ]
        }
      ]
    },
    {
      "cell_type": "markdown",
      "source": [
        "การเพิ่ม ลบ ข้อมูลใน List\n",
        "\n",
        "\n",
        "เพิ่มด้วย list.append( ) และ list.extend( )"
      ],
      "metadata": {
        "id": "qFKclZGNy-v2"
      }
    },
    {
      "cell_type": "code",
      "source": [
        "# การใช้ List.append()\n",
        "student_name = ['guide', 'sean', 'anapat', 'poo', 'beb']\n",
        "print(student_name) # List ในตอนแรก\n",
        "student_name.append('Few') # เพิ่มข้อมูล Few เข้าไปด้านหลัง\n",
        "print(student_name) # List ยาวขึ้น"
      ],
      "metadata": {
        "colab": {
          "base_uri": "https://localhost:8080/"
        },
        "id": "I3U0lelww1Qs",
        "outputId": "b0bdb3d6-0523-4828-f6f9-eab33645cb1d"
      },
      "execution_count": null,
      "outputs": [
        {
          "output_type": "stream",
          "name": "stdout",
          "text": [
            "['guide', 'sean', 'anapat', 'poo', 'beb']\n",
            "['guide', 'sean', 'anapat', 'poo', 'beb', 'Few']\n"
          ]
        }
      ]
    },
    {
      "cell_type": "markdown",
      "source": [
        "ตัวอย่าง: ลองเพิ่มชื่อตัวเองเข้าไปใน List student_name ด้วย append"
      ],
      "metadata": {
        "id": "eg3WGJqh5Hu-"
      }
    },
    {
      "cell_type": "code",
      "source": [
        "student_name = ['guide', 'sean', 'anapat', 'poo', 'beb']\n",
        "student_name.append('Guide') # เพิ่มข้อมูล Few เข้าไปด้านหลัง\n",
        "print(student_name)"
      ],
      "metadata": {
        "colab": {
          "base_uri": "https://localhost:8080/"
        },
        "id": "rW-5_5m35Jxt",
        "outputId": "fb74e22b-8bc5-4268-d5e5-5d61e898e0ab"
      },
      "execution_count": null,
      "outputs": [
        {
          "output_type": "stream",
          "name": "stdout",
          "text": [
            "['guide', 'sean', 'anapat', 'poo', 'beb', 'Guide']\n"
          ]
        }
      ]
    },
    {
      "cell_type": "code",
      "source": [
        "# การใช้ List.extend() ซึ่งรับค่า เป็น list\n",
        "student_name = ['guide', 'sean', 'anapat', 'poo', 'beb']\n",
        "student_name.extend(['Nee', 'New', 'Neen']) # เพิ่มข้อมูล Nee, New, Neen เข้าไปด้านหลัง\n",
        "print(student_name) # List ยาวขึ้นอีก"
      ],
      "metadata": {
        "colab": {
          "base_uri": "https://localhost:8080/"
        },
        "id": "p30t1NdS1TAR",
        "outputId": "ba962a9b-9bc2-4add-c997-f25e067f4ebb"
      },
      "execution_count": null,
      "outputs": [
        {
          "output_type": "stream",
          "name": "stdout",
          "text": [
            "['guide', 'sean', 'anapat', 'poo', 'beb', 'Nee', 'New', 'Neen']\n"
          ]
        }
      ]
    },
    {
      "cell_type": "markdown",
      "source": [
        "ตัวอย่าง: ลองเพิ่มชื่อ\"ตัวเองและเพื่อน\"เข้าไปใน List student_name ด้วย Extend"
      ],
      "metadata": {
        "id": "a0nzmCqK5QxK"
      }
    },
    {
      "cell_type": "code",
      "source": [
        "student_name = ['guide', 'sean', 'anapat', 'poo', 'beb']\n",
        "student_name.extend(['Guide', 'POO'])\n",
        "print(student_name)"
      ],
      "metadata": {
        "id": "5mwyerJC5VcZ",
        "colab": {
          "base_uri": "https://localhost:8080/"
        },
        "outputId": "b2224420-a2a6-4392-f419-e6b349330332"
      },
      "execution_count": null,
      "outputs": [
        {
          "output_type": "stream",
          "name": "stdout",
          "text": [
            "['guide', 'sean', 'anapat', 'poo', 'beb', 'Guide', 'POO']\n"
          ]
        }
      ]
    },
    {
      "cell_type": "markdown",
      "source": [
        "การลบข้อมูล\n",
        "\n",
        "\n",
        "ลบด้วย list.remove( ) และ list.pop( )"
      ],
      "metadata": {
        "id": "coSIQgQP27NW"
      }
    },
    {
      "cell_type": "code",
      "source": [
        "# การใช้ list.remove()\n",
        "student_name = ['guide', 'sean', 'anapat', 'poo', 'beb']\n",
        "student_name.remove('guide') # ลบ Guide ออกจากรายชื่อ\n",
        "print(student_name)"
      ],
      "metadata": {
        "colab": {
          "base_uri": "https://localhost:8080/"
        },
        "id": "F-v698Js2AsM",
        "outputId": "5ac0b0ab-077e-4b65-f4da-7f51c1e025b3"
      },
      "execution_count": null,
      "outputs": [
        {
          "output_type": "stream",
          "name": "stdout",
          "text": [
            "['sean', 'anapat', 'poo', 'beb']\n"
          ]
        }
      ]
    },
    {
      "cell_type": "markdown",
      "source": [
        "ตัวอย่าง: เอาlist ที่ตัวเองสร้างมา ลองลบชื่อตัวเอง ออกจาก list  ด้วยคำสั่ง Remove แล้วแสดงผล list ออกมา "
      ],
      "metadata": {
        "id": "UUrBs16N5ocp"
      }
    },
    {
      "cell_type": "code",
      "source": [
        "student_name = ['guide', 'sean', 'anapat', 'poo', 'beb']\n",
        "student_name.remove('beb') # ลบ Guide ออกจากรายชื่อ\n",
        "print(student_name)"
      ],
      "metadata": {
        "id": "eoEqqZAf5uwp",
        "colab": {
          "base_uri": "https://localhost:8080/"
        },
        "outputId": "c297cf44-70b9-4bc7-9de9-156b7e8c034e"
      },
      "execution_count": null,
      "outputs": [
        {
          "output_type": "stream",
          "name": "stdout",
          "text": [
            "['guide', 'sean', 'anapat', 'poo']\n"
          ]
        }
      ]
    },
    {
      "cell_type": "markdown",
      "source": [
        "list.pop( )"
      ],
      "metadata": {
        "id": "j_pEkQD953Ye"
      }
    },
    {
      "cell_type": "code",
      "source": [
        "# การใช้ list.pop()\n",
        "student_name = ['guide', 'sean', 'anapat', 'poo', 'beb']\n",
        "student_name.pop(1) # ลบตำแหน่งที่ 1 -> sean ออกจากรายชื่อ\n",
        "print(student_name)"
      ],
      "metadata": {
        "colab": {
          "base_uri": "https://localhost:8080/"
        },
        "id": "NpM0jbB94cdj",
        "outputId": "ce0fb77a-e766-4d04-b673-a44ffc051e68"
      },
      "execution_count": null,
      "outputs": [
        {
          "output_type": "stream",
          "name": "stdout",
          "text": [
            "['guide', 'anapat', 'poo', 'beb']\n"
          ]
        }
      ]
    },
    {
      "cell_type": "code",
      "source": [
        "# การใช้ list.pop() ลบตำแหน่งสุดท้าย\n",
        "student_name = ['guide', 'sean', 'anapat', 'poo', 'beb']\n",
        "student_name.pop(-1) # ลบตำแหน่งสุดท้าย ออกจากรายชื่อ\n",
        "student_name.pop(-1) # ลบตำแหน่งสุดท้าย ออกจากรายชื่อ\n",
        "print(student_name)"
      ],
      "metadata": {
        "colab": {
          "base_uri": "https://localhost:8080/"
        },
        "id": "MZ_Zm6Gm4xfP",
        "outputId": "0c6f39e3-3d2b-4ca2-b130-68c4d948326e"
      },
      "execution_count": null,
      "outputs": [
        {
          "output_type": "stream",
          "name": "stdout",
          "text": [
            "['guide', 'sean', 'anapat']\n"
          ]
        }
      ]
    },
    {
      "cell_type": "markdown",
      "source": [
        "ตัวอย่าง: ลองสร้าง list ที่มีชื่อของคน 3 คน แล้วลบชื่อคนข้างหลังออกด้วย pop(-1) "
      ],
      "metadata": {
        "id": "iBltS-eN54-l"
      }
    },
    {
      "cell_type": "code",
      "source": [
        "student_name = ['guide', 'sean', 'anapat', 'poo', 'beb']\n",
        "for i in range(2):\n",
        "  student_name.pop(-1) # ลบตำแหน่งสุดท้าย ออกจากรายชื่อ\n",
        "print(student_name)"
      ],
      "metadata": {
        "id": "XG7XveVH4_4C",
        "colab": {
          "base_uri": "https://localhost:8080/"
        },
        "outputId": "00b40408-fa86-4103-93cc-625eef9144ee"
      },
      "execution_count": null,
      "outputs": [
        {
          "output_type": "stream",
          "name": "stdout",
          "text": [
            "['guide', 'sean', 'anapat']\n"
          ]
        }
      ]
    },
    {
      "cell_type": "markdown",
      "source": [
        "เพิ่มเติม:\n",
        "\n",
        "\n",
        "เราสามารถตรวจสอบความยาวของ list ได้ด้วยคำสั่ง len(list)\n",
        "\n",
        "\n",
        "สามารถต่อข้อมูล str ใน list เข้าด้วยกันได้ ด้วย \" \".join(list) \n",
        "\n",
        "<hr>\n"
      ],
      "metadata": {
        "id": "qbOMAeUT9MCU"
      }
    },
    {
      "cell_type": "code",
      "source": [
        "student_name = ['guide', 'sean', 'anapat', 'poo', 'beb', 'amorn', 'amen', 'amitaput', 'amitaputyourhandsup']\n",
        "print('ความยาว List: ', len(student_name)) # ตรวจสอบความยาวด้วยคำสั่ง len"
      ],
      "metadata": {
        "colab": {
          "base_uri": "https://localhost:8080/"
        },
        "id": "5ypI7iIH9ksb",
        "outputId": "dab50ad0-f5e6-4da2-fe6b-df6f0779a155"
      },
      "execution_count": null,
      "outputs": [
        {
          "output_type": "stream",
          "name": "stdout",
          "text": [
            "ความยาว List:  9\n"
          ]
        }
      ]
    },
    {
      "cell_type": "code",
      "source": [
        "student_name = ['guide', 'sean', 'anapat', 'poo', 'beb', 'amorn', 'amen', 'amitaput', 'amitaputyourhandsup']\n",
        "name = '-คำคั่น-'.join(student_name)\n",
        "print(name)"
      ],
      "metadata": {
        "colab": {
          "base_uri": "https://localhost:8080/"
        },
        "id": "TZUPxkx59z42",
        "outputId": "2ade817b-def8-40f8-e6ac-5bfc4f89e0bb"
      },
      "execution_count": null,
      "outputs": [
        {
          "output_type": "stream",
          "name": "stdout",
          "text": [
            "guide-คำคั่น-sean-คำคั่น-anapat-คำคั่น-poo-คำคั่น-beb-คำคั่น-amorn-คำคั่น-amen-คำคั่น-amitaput-คำคั่น-amitaputyourhandsup\n"
          ]
        }
      ]
    },
    {
      "cell_type": "markdown",
      "source": [
        "### การใช้ List กับ การทำงานแบบวนซ้ำ(loop)\n",
        "ข้อมูลประเภท list มีประโยชน์ และถูกใช้งานบ่อยมากๆ ในการทำงานแบบวนซ้ำ หรือ Loop\n",
        "\n",
        "\n",
        "เนื่องจากว่าข้อมูลมักมาเป็น List แถวยาวๆ และต้องมีการจัดการซ้ำๆ"
      ],
      "metadata": {
        "id": "FeLnNgwW6SrN"
      }
    },
    {
      "cell_type": "code",
      "source": [
        "student_name = ['guide', 'sean', 'anapat', 'poo', 'beb', 'amorn', 'amen', 'amitaput', 'amitaputyourhandsup']\n",
        "for name in student_name: # ตัวแปร name สามารถตั้งเป็นอะไรก็ได้ \n",
        "  print('สวัสดี', name) # โดยในทุกๆการลูป จะมีการแทนค่าข้อมูล จาก List เริ่มจากตำแหน่งที่ 0 ไปจนถึงตำแหน่งสุดท้าย เข้าไปที่ตัวแปร name"
      ],
      "metadata": {
        "colab": {
          "base_uri": "https://localhost:8080/"
        },
        "id": "IrOV9War6iG4",
        "outputId": "ba676227-5ab7-4602-9f47-9e3614f3529c"
      },
      "execution_count": null,
      "outputs": [
        {
          "output_type": "stream",
          "name": "stdout",
          "text": [
            "สวัสดี guide\n",
            "สวัสดี sean\n",
            "สวัสดี anapat\n",
            "สวัสดี poo\n",
            "สวัสดี beb\n",
            "สวัสดี amorn\n",
            "สวัสดี amen\n",
            "สวัสดี amitaput\n",
            "สวัสดี amitaputyourhandsup\n"
          ]
        }
      ]
    },
    {
      "cell_type": "markdown",
      "source": [
        "ตัวอย่าง: ลองสร้าง program คำนวณพื้นที่วงกลม โดยที่ผู้ใช้งานสามารถใส่ list ที่มีรัศมีเป็นข้อมูลมาได้ (แก้้ตัวแปรเอา ไม่ต้องทำเป็น Input)\n",
        "\n",
        "\n",
        "เช่น รัศมี = [1, 1.25, 8.4, 11.2]\n",
        "\n",
        "โดยเราจะทำการแสดงผล พื้นที่ของแต่ละวงกลมกลับไป\n",
        "\n",
        "\n",
        "เป็น list ที่ขนาดเท่ากัน\n",
        "\n",
        "\n",
        "เช่น\n",
        "[15, 22, 33, 88]\n",
        "\n",
        "\n",
        "คำแนะนำ: ต้องมีการสร้าง list เปล่าขึ้นมาไว้ข้างนอก loop\n",
        "\n",
        "\n",
        "เช่น data = [ ] จากนั้นค่อย append ขนาดพื้นที่ ที่คำนวณได้เข้าไปใน list นั้น\n",
        "\n",
        "\n",
        "เมื่อจบ loop จึงทำการแสดงผล"
      ],
      "metadata": {
        "id": "cS6WIOED_SOn"
      }
    },
    {
      "cell_type": "code",
      "source": [
        "radius = [1, 1.25, 8.4, 11.2]\n",
        "data = []\n",
        "for r in radius:\n",
        "  area = 3.14 * (r**2)\n",
        "  data.append(area)\n",
        "\n",
        "print(data)"
      ],
      "metadata": {
        "id": "k7JloTRo_kWS",
        "colab": {
          "base_uri": "https://localhost:8080/"
        },
        "outputId": "31162cc3-c1b3-42b9-bf15-72378a26c992"
      },
      "execution_count": null,
      "outputs": [
        {
          "output_type": "stream",
          "name": "stdout",
          "text": [
            "[3.14, 4.90625, 221.5584, 393.8816]\n"
          ]
        }
      ]
    },
    {
      "cell_type": "markdown",
      "source": [
        "เรายังสามารถผสมการใช้ For Loop range( ) แบบธรรมดา กับการ for loop list ได้ด้วย\n",
        "\n",
        "โดยใช้ประโยชน์จากคุณสมบัติของการเรียกข้อมูลจาก index ของ list\n",
        "\n",
        "เช่น list[0] หมายความว่า ข้อมูลใน list ตำแหน่งที่ 0\n",
        "\n",
        "ซึงนิยมในกรณีที่ต้องการ loop หลายๆ list ที่มีความยาวเท่ากัน พร้อมๆกัน\n",
        "\n",
        "โดยจะมีระยะของการ loop เป็นความยาวของ list ซึ่งหาได้ด้วยคำสั่ง len(list)"
      ],
      "metadata": {
        "id": "ElxuCTOS8Qmw"
      }
    },
    {
      "cell_type": "code",
      "source": [
        "name = ['guide', 'sean', 'anapat', 'poo', 'beb', 'amorn', 'amen']\n",
        "surname = ['hirunkul', 'isaccnewton', 'anatapatchye', 'Iherepoo', 'beboi', 'amai', 'amarin']\n",
        "\n",
        "print('ความยาวของ 2 list:', len(name), 'และ', len(surname))\n",
        "\n",
        "for i in range(len(name)):\n",
        "  print(name[i], surname[i])"
      ],
      "metadata": {
        "colab": {
          "base_uri": "https://localhost:8080/"
        },
        "id": "rI0xT7AH7IAR",
        "outputId": "93c047e2-32a2-4a39-c3e3-09767d3d7fbc"
      },
      "execution_count": null,
      "outputs": [
        {
          "output_type": "stream",
          "name": "stdout",
          "text": [
            "ความยาวของ 2 list: 7 และ 7\n",
            "guide hirunkul\n",
            "sean isaccnewton\n",
            "anapat anatapatchye\n",
            "poo Iherepoo\n",
            "beb beboi\n",
            "amorn amai\n",
            "amen amarin\n"
          ]
        }
      ]
    },
    {
      "cell_type": "markdown",
      "source": [
        "ตัวอย่าง: ลองสร้าง program คำนวณพื้นที่สี่เหลี่ยม โดยที่ผู้ใช้งานสามารถใส่ลิสท์ข้อมูลของแต่ละสี่เหลี่ยม\n",
        "\n",
        "ที่มีความกว้าง และความยาวเป็น เป็นข้อมูลมาได้ เช่น\n",
        "\n",
        "กว้าง = [1, 1.25, 8.4, 11.2]\n",
        "\n",
        "\n",
        "ยาว = [15, 22, 33, 88]\n",
        "\n",
        "\n",
        "โดยเราจะทำการแสดงผล พื้นที่ของสี่เหลี่ยมแต่ละรูปกลับไป เช่น\n",
        "\n",
        "\n",
        "สี่เหลี่ยม 1: กว้าง 50 ยาว 80 พื้นที่ 4000\n",
        "\n",
        "\n",
        "สี่เหลี่ยม 2: กว้าง 10 ยาว 80 พื้นที่ 800\n",
        "\n",
        "\n",
        "สี่เหลี่ยม 3: กว้าง 50 ยาว 10 พื้นที่ 500"
      ],
      "metadata": {
        "id": "aO2MeCuJA50w"
      }
    },
    {
      "cell_type": "code",
      "source": [
        "w = [1, 1.25, 8.4, 11.2]\n",
        "h = [15, 22, 33, 88]"
      ],
      "metadata": {
        "colab": {
          "base_uri": "https://localhost:8080/"
        },
        "id": "JU7OMDi3-thy",
        "outputId": "412383f0-8925-4469-ac5c-d4e8018d6c75"
      },
      "execution_count": null,
      "outputs": [
        {
          "output_type": "stream",
          "name": "stdout",
          "text": [
            "สี่เหลี่ยม ที่ 1 กว้าง 1 ยาว 15 พื้นที่ 15\n",
            "สี่เหลี่ยม ที่ 2 กว้าง 1.25 ยาว 22 พื้นที่ 27.5\n",
            "สี่เหลี่ยม ที่ 3 กว้าง 8.4 ยาว 33 พื้นที่ 277.2\n",
            "สี่เหลี่ยม ที่ 4 กว้าง 11.2 ยาว 88 พื้นที่ 985.5999999999999\n"
          ]
        }
      ]
    },
    {
      "cell_type": "markdown",
      "source": [
        "####*Challenge** : จัดเรียงข้อมูลด้วย list\n",
        "(ทำมาให้ยาก ทำไม่ได้ไม่เป็นไร)\n",
        "\n",
        "\n",
        "ร้านค้าแห่งหนึ่งมีการจดบันทึกสินค้าลงระบบผิดพลาด\n",
        "\n",
        "ทำให้ชื่อสินค้า กับราคาสลับกันเละเทะ แต่พนักงานได้ตรวจสอบ\n",
        "\n",
        "และจับคู่สินค้ากับราคาให้แล้วใน data_index โดยเก็บข้อมูลเป็น list ของคู่สินค้า, ราคา\n",
        "\n",
        "เช่น data_index[0] มีค่าเท่ากับ [1,2]\n",
        "\n",
        "หมายความว่าสินค้าที่ index 1 ต้องคู่กับราคาที่ index 2\n",
        "\n",
        "<hr>\n",
        "\n",
        "\n",
        "หน้าที่ของเราคือการทำการจัดเรียงสินค้าและราคา กลับเป็น list 2 อันที่เรียงกันอย่างถูกต้อง\n",
        "<hr>\n",
        "\n",
        "คำแนะนำ:\n",
        "\n",
        "ต้องมีการสร้าง list ใหม่ 2 list เพื่อใช้เก็บข้อมูลชื่อสินค้า และราคา แบบจัดเรียงใหม่แล้ว\n",
        "\n",
        "\n",
        "โดยใช้ความรู้ในการ loop ด้วย for  i in range(len(list))\n",
        "\n",
        "\n",
        "เพื่อทำการ append ข้อมูลเข้าไปที่ list ทั้งสอง โดยอ้างอิงจากข้อมูลตำแหน่งใน data_index \n",
        "<hr>\n",
        "ข้อควรระวัง:\n",
        "ข้อมูลใน data_index เก็บไว้เป็น List ซึ่งก็อยู่ข้างใน list data_index อีกที\n",
        "\n",
        "เพราะงั้นการเข้าถึงข้อมูล ชื่อ และ ราคา ของสินค้าที่ 0\n",
        "\n",
        "จะอยู่ที่ data_index[0][0] และ data_index[0][1]\n",
        "\n",
        "ถ้าไม่เข้าใจ แนะนำให้ลอง print ข้อมูลออกมาดูก่อน\n"
      ],
      "metadata": {
        "id": "2HUAai89CqN5"
      }
    },
    {
      "cell_type": "code",
      "source": [
        "product_index = [[1,3], [0,4], [3,2], [4,1], [2,0]]\n",
        "name = ['ส้ม', 'ยาฆ่าแมลง', 'มะพร้าว', 'หนังสือ', 'ไข่']\n",
        "price = [22, 15, 30, 44, 33]"
      ],
      "metadata": {
        "colab": {
          "base_uri": "https://localhost:8080/"
        },
        "id": "WKlPx1zfC2Aj",
        "outputId": "1cc78a7f-b944-4126-dfd3-5451a35d5580"
      },
      "execution_count": null,
      "outputs": [
        {
          "output_type": "stream",
          "name": "stdout",
          "text": [
            "['ยาฆ่าแมลง', 'ส้ม', 'หนังสือ', 'ไข่', 'มะพร้าว']\n",
            "[44, 33, 30, 15, 22]\n"
          ]
        }
      ]
    },
    {
      "cell_type": "code",
      "source": [],
      "metadata": {
        "id": "fDzpNvngWPGw"
      },
      "execution_count": null,
      "outputs": []
    },
    {
      "cell_type": "markdown",
      "source": [
        "# Pandas & matplotlib\n",
        "pandas คือ library(ที่คนอื่นเขียนแล้วอัพโหลดไว้)\n",
        "\n",
        "\n",
        "ซึ่งถูกใช้ในการจัดการข้อมูล และวิเคราะห์ข้อมูลประเภทตาราง\n",
        "\n",
        "matplotlib คือ library ที่มักถูกใช้คู่กัน ในการสร้างรูปภาพ เพื่ออธิบายข้อมูล\n",
        "\n",
        "เช่น พล๊อตกราฟ, สร้างแผนภาพ\n",
        "\n",
        "**ตอน Import ทำแค่ครั้งเดียว ใช้ได้ตลอด ไม่ต้อง Import ซ้ำทุกครั้งที่จะใช้**\n"
      ],
      "metadata": {
        "id": "wrTQrhL4sYMU"
      }
    },
    {
      "cell_type": "code",
      "source": [
        "# import คือการเพิ่มคำสั่งที่่เคยมีคนอื่นเขียนไว้เป็นฟังชั่น เข้ามาใน python\n",
        "import pandas as pd # as pd คือการย่อให้การเรียกใช้ pandas สั้นลงเป็นตัวแปร pd \n",
        "import matplotlib.pyplot as plt"
      ],
      "metadata": {
        "id": "Et_km8v-sZGr"
      },
      "execution_count": null,
      "outputs": []
    },
    {
      "cell_type": "markdown",
      "source": [
        "การอ่านและเรียกใช้ข้อมูลใน pandas"
      ],
      "metadata": {
        "id": "PqSxDGsibHx2"
      }
    },
    {
      "cell_type": "code",
      "source": [
        "data = pd.read_csv('./salary.csv') # อ่านข้อมูลด้วย pd.read_csv เพื่ออ่านไฟล์ csv\n",
        "# ถ้าเกิดเป็นไฟล์ประเภทอื่น ก็สามารถอ่านได้ด้วยคำสั่งงอื่่น เช่น pd.read_xlxs สำหรับอ่านไฟล์ excel\n",
        "print(type(data))  # เป็นประเภทของข้อมูล ที่เรียกว่า DataFrame ที่จะเก็บข้อมูล Series ไว้เป็นแถวๆเหมือนพวก Excel"
      ],
      "metadata": {
        "colab": {
          "base_uri": "https://localhost:8080/"
        },
        "id": "Hac0x-QcsdNz",
        "outputId": "4e4707f8-52f9-4e6d-d565-3ea438933614"
      },
      "execution_count": null,
      "outputs": [
        {
          "output_type": "stream",
          "name": "stdout",
          "text": [
            "<class 'pandas.core.frame.DataFrame'>\n"
          ]
        }
      ]
    },
    {
      "cell_type": "code",
      "source": [
        "data # ดูข้อมูลทุกแถว"
      ],
      "metadata": {
        "id": "t0JPPUojbN6V",
        "colab": {
          "base_uri": "https://localhost:8080/",
          "height": 1000
        },
        "outputId": "af6706af-51b1-4b38-96fe-a3972d817924"
      },
      "execution_count": null,
      "outputs": [
        {
          "output_type": "execute_result",
          "data": {
            "text/plain": [
              "    YearsExperience  Salary\n",
              "0               1.1   39343\n",
              "1               1.3   46205\n",
              "2               1.5   37731\n",
              "3               2.0   43525\n",
              "4               2.2   39891\n",
              "5               2.9   56642\n",
              "6               3.0   60150\n",
              "7               3.2   54445\n",
              "8               3.2   64445\n",
              "9               3.7   57189\n",
              "10              3.9   63218\n",
              "11              4.0   55794\n",
              "12              4.0   56957\n",
              "13              4.1   57081\n",
              "14              4.5   61111\n",
              "15              4.9   67938\n",
              "16              5.1   66029\n",
              "17              5.3   83088\n",
              "18              5.9   81363\n",
              "19              6.0   93940\n",
              "20              6.8   91738\n",
              "21              7.1   98273\n",
              "22              7.9  101302\n",
              "23              8.2  113812\n",
              "24              8.7  109431\n",
              "25              9.0  105582\n",
              "26              9.5  116969\n",
              "27              9.6  112635\n",
              "28             10.3  122391\n",
              "29             10.5  121872\n",
              "30             11.2  127345\n",
              "31             11.5  126756\n",
              "32             12.3  128765\n",
              "33             12.9  135675\n",
              "34             13.5  139465"
            ],
            "text/html": [
              "\n",
              "  <div id=\"df-3fdaf689-8196-45dd-9090-7a4de4c68eba\">\n",
              "    <div class=\"colab-df-container\">\n",
              "      <div>\n",
              "<style scoped>\n",
              "    .dataframe tbody tr th:only-of-type {\n",
              "        vertical-align: middle;\n",
              "    }\n",
              "\n",
              "    .dataframe tbody tr th {\n",
              "        vertical-align: top;\n",
              "    }\n",
              "\n",
              "    .dataframe thead th {\n",
              "        text-align: right;\n",
              "    }\n",
              "</style>\n",
              "<table border=\"1\" class=\"dataframe\">\n",
              "  <thead>\n",
              "    <tr style=\"text-align: right;\">\n",
              "      <th></th>\n",
              "      <th>YearsExperience</th>\n",
              "      <th>Salary</th>\n",
              "    </tr>\n",
              "  </thead>\n",
              "  <tbody>\n",
              "    <tr>\n",
              "      <th>0</th>\n",
              "      <td>1.1</td>\n",
              "      <td>39343</td>\n",
              "    </tr>\n",
              "    <tr>\n",
              "      <th>1</th>\n",
              "      <td>1.3</td>\n",
              "      <td>46205</td>\n",
              "    </tr>\n",
              "    <tr>\n",
              "      <th>2</th>\n",
              "      <td>1.5</td>\n",
              "      <td>37731</td>\n",
              "    </tr>\n",
              "    <tr>\n",
              "      <th>3</th>\n",
              "      <td>2.0</td>\n",
              "      <td>43525</td>\n",
              "    </tr>\n",
              "    <tr>\n",
              "      <th>4</th>\n",
              "      <td>2.2</td>\n",
              "      <td>39891</td>\n",
              "    </tr>\n",
              "    <tr>\n",
              "      <th>5</th>\n",
              "      <td>2.9</td>\n",
              "      <td>56642</td>\n",
              "    </tr>\n",
              "    <tr>\n",
              "      <th>6</th>\n",
              "      <td>3.0</td>\n",
              "      <td>60150</td>\n",
              "    </tr>\n",
              "    <tr>\n",
              "      <th>7</th>\n",
              "      <td>3.2</td>\n",
              "      <td>54445</td>\n",
              "    </tr>\n",
              "    <tr>\n",
              "      <th>8</th>\n",
              "      <td>3.2</td>\n",
              "      <td>64445</td>\n",
              "    </tr>\n",
              "    <tr>\n",
              "      <th>9</th>\n",
              "      <td>3.7</td>\n",
              "      <td>57189</td>\n",
              "    </tr>\n",
              "    <tr>\n",
              "      <th>10</th>\n",
              "      <td>3.9</td>\n",
              "      <td>63218</td>\n",
              "    </tr>\n",
              "    <tr>\n",
              "      <th>11</th>\n",
              "      <td>4.0</td>\n",
              "      <td>55794</td>\n",
              "    </tr>\n",
              "    <tr>\n",
              "      <th>12</th>\n",
              "      <td>4.0</td>\n",
              "      <td>56957</td>\n",
              "    </tr>\n",
              "    <tr>\n",
              "      <th>13</th>\n",
              "      <td>4.1</td>\n",
              "      <td>57081</td>\n",
              "    </tr>\n",
              "    <tr>\n",
              "      <th>14</th>\n",
              "      <td>4.5</td>\n",
              "      <td>61111</td>\n",
              "    </tr>\n",
              "    <tr>\n",
              "      <th>15</th>\n",
              "      <td>4.9</td>\n",
              "      <td>67938</td>\n",
              "    </tr>\n",
              "    <tr>\n",
              "      <th>16</th>\n",
              "      <td>5.1</td>\n",
              "      <td>66029</td>\n",
              "    </tr>\n",
              "    <tr>\n",
              "      <th>17</th>\n",
              "      <td>5.3</td>\n",
              "      <td>83088</td>\n",
              "    </tr>\n",
              "    <tr>\n",
              "      <th>18</th>\n",
              "      <td>5.9</td>\n",
              "      <td>81363</td>\n",
              "    </tr>\n",
              "    <tr>\n",
              "      <th>19</th>\n",
              "      <td>6.0</td>\n",
              "      <td>93940</td>\n",
              "    </tr>\n",
              "    <tr>\n",
              "      <th>20</th>\n",
              "      <td>6.8</td>\n",
              "      <td>91738</td>\n",
              "    </tr>\n",
              "    <tr>\n",
              "      <th>21</th>\n",
              "      <td>7.1</td>\n",
              "      <td>98273</td>\n",
              "    </tr>\n",
              "    <tr>\n",
              "      <th>22</th>\n",
              "      <td>7.9</td>\n",
              "      <td>101302</td>\n",
              "    </tr>\n",
              "    <tr>\n",
              "      <th>23</th>\n",
              "      <td>8.2</td>\n",
              "      <td>113812</td>\n",
              "    </tr>\n",
              "    <tr>\n",
              "      <th>24</th>\n",
              "      <td>8.7</td>\n",
              "      <td>109431</td>\n",
              "    </tr>\n",
              "    <tr>\n",
              "      <th>25</th>\n",
              "      <td>9.0</td>\n",
              "      <td>105582</td>\n",
              "    </tr>\n",
              "    <tr>\n",
              "      <th>26</th>\n",
              "      <td>9.5</td>\n",
              "      <td>116969</td>\n",
              "    </tr>\n",
              "    <tr>\n",
              "      <th>27</th>\n",
              "      <td>9.6</td>\n",
              "      <td>112635</td>\n",
              "    </tr>\n",
              "    <tr>\n",
              "      <th>28</th>\n",
              "      <td>10.3</td>\n",
              "      <td>122391</td>\n",
              "    </tr>\n",
              "    <tr>\n",
              "      <th>29</th>\n",
              "      <td>10.5</td>\n",
              "      <td>121872</td>\n",
              "    </tr>\n",
              "    <tr>\n",
              "      <th>30</th>\n",
              "      <td>11.2</td>\n",
              "      <td>127345</td>\n",
              "    </tr>\n",
              "    <tr>\n",
              "      <th>31</th>\n",
              "      <td>11.5</td>\n",
              "      <td>126756</td>\n",
              "    </tr>\n",
              "    <tr>\n",
              "      <th>32</th>\n",
              "      <td>12.3</td>\n",
              "      <td>128765</td>\n",
              "    </tr>\n",
              "    <tr>\n",
              "      <th>33</th>\n",
              "      <td>12.9</td>\n",
              "      <td>135675</td>\n",
              "    </tr>\n",
              "    <tr>\n",
              "      <th>34</th>\n",
              "      <td>13.5</td>\n",
              "      <td>139465</td>\n",
              "    </tr>\n",
              "  </tbody>\n",
              "</table>\n",
              "</div>\n",
              "      <button class=\"colab-df-convert\" onclick=\"convertToInteractive('df-3fdaf689-8196-45dd-9090-7a4de4c68eba')\"\n",
              "              title=\"Convert this dataframe to an interactive table.\"\n",
              "              style=\"display:none;\">\n",
              "        \n",
              "  <svg xmlns=\"http://www.w3.org/2000/svg\" height=\"24px\"viewBox=\"0 0 24 24\"\n",
              "       width=\"24px\">\n",
              "    <path d=\"M0 0h24v24H0V0z\" fill=\"none\"/>\n",
              "    <path d=\"M18.56 5.44l.94 2.06.94-2.06 2.06-.94-2.06-.94-.94-2.06-.94 2.06-2.06.94zm-11 1L8.5 8.5l.94-2.06 2.06-.94-2.06-.94L8.5 2.5l-.94 2.06-2.06.94zm10 10l.94 2.06.94-2.06 2.06-.94-2.06-.94-.94-2.06-.94 2.06-2.06.94z\"/><path d=\"M17.41 7.96l-1.37-1.37c-.4-.4-.92-.59-1.43-.59-.52 0-1.04.2-1.43.59L10.3 9.45l-7.72 7.72c-.78.78-.78 2.05 0 2.83L4 21.41c.39.39.9.59 1.41.59.51 0 1.02-.2 1.41-.59l7.78-7.78 2.81-2.81c.8-.78.8-2.07 0-2.86zM5.41 20L4 18.59l7.72-7.72 1.47 1.35L5.41 20z\"/>\n",
              "  </svg>\n",
              "      </button>\n",
              "      \n",
              "  <style>\n",
              "    .colab-df-container {\n",
              "      display:flex;\n",
              "      flex-wrap:wrap;\n",
              "      gap: 12px;\n",
              "    }\n",
              "\n",
              "    .colab-df-convert {\n",
              "      background-color: #E8F0FE;\n",
              "      border: none;\n",
              "      border-radius: 50%;\n",
              "      cursor: pointer;\n",
              "      display: none;\n",
              "      fill: #1967D2;\n",
              "      height: 32px;\n",
              "      padding: 0 0 0 0;\n",
              "      width: 32px;\n",
              "    }\n",
              "\n",
              "    .colab-df-convert:hover {\n",
              "      background-color: #E2EBFA;\n",
              "      box-shadow: 0px 1px 2px rgba(60, 64, 67, 0.3), 0px 1px 3px 1px rgba(60, 64, 67, 0.15);\n",
              "      fill: #174EA6;\n",
              "    }\n",
              "\n",
              "    [theme=dark] .colab-df-convert {\n",
              "      background-color: #3B4455;\n",
              "      fill: #D2E3FC;\n",
              "    }\n",
              "\n",
              "    [theme=dark] .colab-df-convert:hover {\n",
              "      background-color: #434B5C;\n",
              "      box-shadow: 0px 1px 3px 1px rgba(0, 0, 0, 0.15);\n",
              "      filter: drop-shadow(0px 1px 2px rgba(0, 0, 0, 0.3));\n",
              "      fill: #FFFFFF;\n",
              "    }\n",
              "  </style>\n",
              "\n",
              "      <script>\n",
              "        const buttonEl =\n",
              "          document.querySelector('#df-3fdaf689-8196-45dd-9090-7a4de4c68eba button.colab-df-convert');\n",
              "        buttonEl.style.display =\n",
              "          google.colab.kernel.accessAllowed ? 'block' : 'none';\n",
              "\n",
              "        async function convertToInteractive(key) {\n",
              "          const element = document.querySelector('#df-3fdaf689-8196-45dd-9090-7a4de4c68eba');\n",
              "          const dataTable =\n",
              "            await google.colab.kernel.invokeFunction('convertToInteractive',\n",
              "                                                     [key], {});\n",
              "          if (!dataTable) return;\n",
              "\n",
              "          const docLinkHtml = 'Like what you see? Visit the ' +\n",
              "            '<a target=\"_blank\" href=https://colab.research.google.com/notebooks/data_table.ipynb>data table notebook</a>'\n",
              "            + ' to learn more about interactive tables.';\n",
              "          element.innerHTML = '';\n",
              "          dataTable['output_type'] = 'display_data';\n",
              "          await google.colab.output.renderOutput(dataTable, element);\n",
              "          const docLink = document.createElement('div');\n",
              "          docLink.innerHTML = docLinkHtml;\n",
              "          element.appendChild(docLink);\n",
              "        }\n",
              "      </script>\n",
              "    </div>\n",
              "  </div>\n",
              "  "
            ]
          },
          "metadata": {},
          "execution_count": 27
        }
      ]
    },
    {
      "cell_type": "code",
      "source": [
        "data.head(7) # ใช้ในการดูข้อมูลแค่ 5 แถวแรก"
      ],
      "metadata": {
        "colab": {
          "base_uri": "https://localhost:8080/",
          "height": 269
        },
        "id": "9Hx5vgchvL2Q",
        "outputId": "b5768e86-fba6-4367-9abf-a0ce726484dc"
      },
      "execution_count": null,
      "outputs": [
        {
          "output_type": "execute_result",
          "data": {
            "text/plain": [
              "   YearsExperience  Salary\n",
              "0              1.1   39343\n",
              "1              1.3   46205\n",
              "2              1.5   37731\n",
              "3              2.0   43525\n",
              "4              2.2   39891\n",
              "5              2.9   56642\n",
              "6              3.0   60150"
            ],
            "text/html": [
              "\n",
              "  <div id=\"df-09d26983-b2a8-4672-9028-9a5415564cfe\">\n",
              "    <div class=\"colab-df-container\">\n",
              "      <div>\n",
              "<style scoped>\n",
              "    .dataframe tbody tr th:only-of-type {\n",
              "        vertical-align: middle;\n",
              "    }\n",
              "\n",
              "    .dataframe tbody tr th {\n",
              "        vertical-align: top;\n",
              "    }\n",
              "\n",
              "    .dataframe thead th {\n",
              "        text-align: right;\n",
              "    }\n",
              "</style>\n",
              "<table border=\"1\" class=\"dataframe\">\n",
              "  <thead>\n",
              "    <tr style=\"text-align: right;\">\n",
              "      <th></th>\n",
              "      <th>YearsExperience</th>\n",
              "      <th>Salary</th>\n",
              "    </tr>\n",
              "  </thead>\n",
              "  <tbody>\n",
              "    <tr>\n",
              "      <th>0</th>\n",
              "      <td>1.1</td>\n",
              "      <td>39343</td>\n",
              "    </tr>\n",
              "    <tr>\n",
              "      <th>1</th>\n",
              "      <td>1.3</td>\n",
              "      <td>46205</td>\n",
              "    </tr>\n",
              "    <tr>\n",
              "      <th>2</th>\n",
              "      <td>1.5</td>\n",
              "      <td>37731</td>\n",
              "    </tr>\n",
              "    <tr>\n",
              "      <th>3</th>\n",
              "      <td>2.0</td>\n",
              "      <td>43525</td>\n",
              "    </tr>\n",
              "    <tr>\n",
              "      <th>4</th>\n",
              "      <td>2.2</td>\n",
              "      <td>39891</td>\n",
              "    </tr>\n",
              "    <tr>\n",
              "      <th>5</th>\n",
              "      <td>2.9</td>\n",
              "      <td>56642</td>\n",
              "    </tr>\n",
              "    <tr>\n",
              "      <th>6</th>\n",
              "      <td>3.0</td>\n",
              "      <td>60150</td>\n",
              "    </tr>\n",
              "  </tbody>\n",
              "</table>\n",
              "</div>\n",
              "      <button class=\"colab-df-convert\" onclick=\"convertToInteractive('df-09d26983-b2a8-4672-9028-9a5415564cfe')\"\n",
              "              title=\"Convert this dataframe to an interactive table.\"\n",
              "              style=\"display:none;\">\n",
              "        \n",
              "  <svg xmlns=\"http://www.w3.org/2000/svg\" height=\"24px\"viewBox=\"0 0 24 24\"\n",
              "       width=\"24px\">\n",
              "    <path d=\"M0 0h24v24H0V0z\" fill=\"none\"/>\n",
              "    <path d=\"M18.56 5.44l.94 2.06.94-2.06 2.06-.94-2.06-.94-.94-2.06-.94 2.06-2.06.94zm-11 1L8.5 8.5l.94-2.06 2.06-.94-2.06-.94L8.5 2.5l-.94 2.06-2.06.94zm10 10l.94 2.06.94-2.06 2.06-.94-2.06-.94-.94-2.06-.94 2.06-2.06.94z\"/><path d=\"M17.41 7.96l-1.37-1.37c-.4-.4-.92-.59-1.43-.59-.52 0-1.04.2-1.43.59L10.3 9.45l-7.72 7.72c-.78.78-.78 2.05 0 2.83L4 21.41c.39.39.9.59 1.41.59.51 0 1.02-.2 1.41-.59l7.78-7.78 2.81-2.81c.8-.78.8-2.07 0-2.86zM5.41 20L4 18.59l7.72-7.72 1.47 1.35L5.41 20z\"/>\n",
              "  </svg>\n",
              "      </button>\n",
              "      \n",
              "  <style>\n",
              "    .colab-df-container {\n",
              "      display:flex;\n",
              "      flex-wrap:wrap;\n",
              "      gap: 12px;\n",
              "    }\n",
              "\n",
              "    .colab-df-convert {\n",
              "      background-color: #E8F0FE;\n",
              "      border: none;\n",
              "      border-radius: 50%;\n",
              "      cursor: pointer;\n",
              "      display: none;\n",
              "      fill: #1967D2;\n",
              "      height: 32px;\n",
              "      padding: 0 0 0 0;\n",
              "      width: 32px;\n",
              "    }\n",
              "\n",
              "    .colab-df-convert:hover {\n",
              "      background-color: #E2EBFA;\n",
              "      box-shadow: 0px 1px 2px rgba(60, 64, 67, 0.3), 0px 1px 3px 1px rgba(60, 64, 67, 0.15);\n",
              "      fill: #174EA6;\n",
              "    }\n",
              "\n",
              "    [theme=dark] .colab-df-convert {\n",
              "      background-color: #3B4455;\n",
              "      fill: #D2E3FC;\n",
              "    }\n",
              "\n",
              "    [theme=dark] .colab-df-convert:hover {\n",
              "      background-color: #434B5C;\n",
              "      box-shadow: 0px 1px 3px 1px rgba(0, 0, 0, 0.15);\n",
              "      filter: drop-shadow(0px 1px 2px rgba(0, 0, 0, 0.3));\n",
              "      fill: #FFFFFF;\n",
              "    }\n",
              "  </style>\n",
              "\n",
              "      <script>\n",
              "        const buttonEl =\n",
              "          document.querySelector('#df-09d26983-b2a8-4672-9028-9a5415564cfe button.colab-df-convert');\n",
              "        buttonEl.style.display =\n",
              "          google.colab.kernel.accessAllowed ? 'block' : 'none';\n",
              "\n",
              "        async function convertToInteractive(key) {\n",
              "          const element = document.querySelector('#df-09d26983-b2a8-4672-9028-9a5415564cfe');\n",
              "          const dataTable =\n",
              "            await google.colab.kernel.invokeFunction('convertToInteractive',\n",
              "                                                     [key], {});\n",
              "          if (!dataTable) return;\n",
              "\n",
              "          const docLinkHtml = 'Like what you see? Visit the ' +\n",
              "            '<a target=\"_blank\" href=https://colab.research.google.com/notebooks/data_table.ipynb>data table notebook</a>'\n",
              "            + ' to learn more about interactive tables.';\n",
              "          element.innerHTML = '';\n",
              "          dataTable['output_type'] = 'display_data';\n",
              "          await google.colab.output.renderOutput(dataTable, element);\n",
              "          const docLink = document.createElement('div');\n",
              "          docLink.innerHTML = docLinkHtml;\n",
              "          element.appendChild(docLink);\n",
              "        }\n",
              "      </script>\n",
              "    </div>\n",
              "  </div>\n",
              "  "
            ]
          },
          "metadata": {},
          "execution_count": 28
        }
      ]
    },
    {
      "cell_type": "code",
      "source": [
        "data['Salary'].head(5) # สามารถเลือก Columns ได้ คล้ายๆกับการเลือก index ใน list แต่ใส่ได้เป็นชื่อเลย "
      ],
      "metadata": {
        "colab": {
          "base_uri": "https://localhost:8080/"
        },
        "id": "UsslS_BvbEO4",
        "outputId": "d59117a9-4439-45fa-d3ad-f1fbdc5d3510"
      },
      "execution_count": null,
      "outputs": [
        {
          "output_type": "execute_result",
          "data": {
            "text/plain": [
              "0    39343\n",
              "1    46205\n",
              "2    37731\n",
              "3    43525\n",
              "4    39891\n",
              "Name: Salary, dtype: int64"
            ]
          },
          "metadata": {},
          "execution_count": 29
        }
      ]
    },
    {
      "cell_type": "code",
      "source": [
        "data[5:10] # เลือกมาแค่ระหว่าง 5 - 10 ก็ได้"
      ],
      "metadata": {
        "colab": {
          "base_uri": "https://localhost:8080/",
          "height": 206
        },
        "id": "E6x8Ie5CdS74",
        "outputId": "89b164b8-3448-4a52-afd3-eec8697a085b"
      },
      "execution_count": null,
      "outputs": [
        {
          "output_type": "execute_result",
          "data": {
            "text/plain": [
              "   YearsExperience  Salary\n",
              "5              2.9   56642\n",
              "6              3.0   60150\n",
              "7              3.2   54445\n",
              "8              3.2   64445\n",
              "9              3.7   57189"
            ],
            "text/html": [
              "\n",
              "  <div id=\"df-fe60e139-4db7-4da1-b753-97e13af432c7\">\n",
              "    <div class=\"colab-df-container\">\n",
              "      <div>\n",
              "<style scoped>\n",
              "    .dataframe tbody tr th:only-of-type {\n",
              "        vertical-align: middle;\n",
              "    }\n",
              "\n",
              "    .dataframe tbody tr th {\n",
              "        vertical-align: top;\n",
              "    }\n",
              "\n",
              "    .dataframe thead th {\n",
              "        text-align: right;\n",
              "    }\n",
              "</style>\n",
              "<table border=\"1\" class=\"dataframe\">\n",
              "  <thead>\n",
              "    <tr style=\"text-align: right;\">\n",
              "      <th></th>\n",
              "      <th>YearsExperience</th>\n",
              "      <th>Salary</th>\n",
              "    </tr>\n",
              "  </thead>\n",
              "  <tbody>\n",
              "    <tr>\n",
              "      <th>5</th>\n",
              "      <td>2.9</td>\n",
              "      <td>56642</td>\n",
              "    </tr>\n",
              "    <tr>\n",
              "      <th>6</th>\n",
              "      <td>3.0</td>\n",
              "      <td>60150</td>\n",
              "    </tr>\n",
              "    <tr>\n",
              "      <th>7</th>\n",
              "      <td>3.2</td>\n",
              "      <td>54445</td>\n",
              "    </tr>\n",
              "    <tr>\n",
              "      <th>8</th>\n",
              "      <td>3.2</td>\n",
              "      <td>64445</td>\n",
              "    </tr>\n",
              "    <tr>\n",
              "      <th>9</th>\n",
              "      <td>3.7</td>\n",
              "      <td>57189</td>\n",
              "    </tr>\n",
              "  </tbody>\n",
              "</table>\n",
              "</div>\n",
              "      <button class=\"colab-df-convert\" onclick=\"convertToInteractive('df-fe60e139-4db7-4da1-b753-97e13af432c7')\"\n",
              "              title=\"Convert this dataframe to an interactive table.\"\n",
              "              style=\"display:none;\">\n",
              "        \n",
              "  <svg xmlns=\"http://www.w3.org/2000/svg\" height=\"24px\"viewBox=\"0 0 24 24\"\n",
              "       width=\"24px\">\n",
              "    <path d=\"M0 0h24v24H0V0z\" fill=\"none\"/>\n",
              "    <path d=\"M18.56 5.44l.94 2.06.94-2.06 2.06-.94-2.06-.94-.94-2.06-.94 2.06-2.06.94zm-11 1L8.5 8.5l.94-2.06 2.06-.94-2.06-.94L8.5 2.5l-.94 2.06-2.06.94zm10 10l.94 2.06.94-2.06 2.06-.94-2.06-.94-.94-2.06-.94 2.06-2.06.94z\"/><path d=\"M17.41 7.96l-1.37-1.37c-.4-.4-.92-.59-1.43-.59-.52 0-1.04.2-1.43.59L10.3 9.45l-7.72 7.72c-.78.78-.78 2.05 0 2.83L4 21.41c.39.39.9.59 1.41.59.51 0 1.02-.2 1.41-.59l7.78-7.78 2.81-2.81c.8-.78.8-2.07 0-2.86zM5.41 20L4 18.59l7.72-7.72 1.47 1.35L5.41 20z\"/>\n",
              "  </svg>\n",
              "      </button>\n",
              "      \n",
              "  <style>\n",
              "    .colab-df-container {\n",
              "      display:flex;\n",
              "      flex-wrap:wrap;\n",
              "      gap: 12px;\n",
              "    }\n",
              "\n",
              "    .colab-df-convert {\n",
              "      background-color: #E8F0FE;\n",
              "      border: none;\n",
              "      border-radius: 50%;\n",
              "      cursor: pointer;\n",
              "      display: none;\n",
              "      fill: #1967D2;\n",
              "      height: 32px;\n",
              "      padding: 0 0 0 0;\n",
              "      width: 32px;\n",
              "    }\n",
              "\n",
              "    .colab-df-convert:hover {\n",
              "      background-color: #E2EBFA;\n",
              "      box-shadow: 0px 1px 2px rgba(60, 64, 67, 0.3), 0px 1px 3px 1px rgba(60, 64, 67, 0.15);\n",
              "      fill: #174EA6;\n",
              "    }\n",
              "\n",
              "    [theme=dark] .colab-df-convert {\n",
              "      background-color: #3B4455;\n",
              "      fill: #D2E3FC;\n",
              "    }\n",
              "\n",
              "    [theme=dark] .colab-df-convert:hover {\n",
              "      background-color: #434B5C;\n",
              "      box-shadow: 0px 1px 3px 1px rgba(0, 0, 0, 0.15);\n",
              "      filter: drop-shadow(0px 1px 2px rgba(0, 0, 0, 0.3));\n",
              "      fill: #FFFFFF;\n",
              "    }\n",
              "  </style>\n",
              "\n",
              "      <script>\n",
              "        const buttonEl =\n",
              "          document.querySelector('#df-fe60e139-4db7-4da1-b753-97e13af432c7 button.colab-df-convert');\n",
              "        buttonEl.style.display =\n",
              "          google.colab.kernel.accessAllowed ? 'block' : 'none';\n",
              "\n",
              "        async function convertToInteractive(key) {\n",
              "          const element = document.querySelector('#df-fe60e139-4db7-4da1-b753-97e13af432c7');\n",
              "          const dataTable =\n",
              "            await google.colab.kernel.invokeFunction('convertToInteractive',\n",
              "                                                     [key], {});\n",
              "          if (!dataTable) return;\n",
              "\n",
              "          const docLinkHtml = 'Like what you see? Visit the ' +\n",
              "            '<a target=\"_blank\" href=https://colab.research.google.com/notebooks/data_table.ipynb>data table notebook</a>'\n",
              "            + ' to learn more about interactive tables.';\n",
              "          element.innerHTML = '';\n",
              "          dataTable['output_type'] = 'display_data';\n",
              "          await google.colab.output.renderOutput(dataTable, element);\n",
              "          const docLink = document.createElement('div');\n",
              "          docLink.innerHTML = docLinkHtml;\n",
              "          element.appendChild(docLink);\n",
              "        }\n",
              "      </script>\n",
              "    </div>\n",
              "  </div>\n",
              "  "
            ]
          },
          "metadata": {},
          "execution_count": 30
        }
      ]
    },
    {
      "cell_type": "markdown",
      "source": [
        "ลองเลือกแค่ช่องประสบการณ์ทำงานมาดู 5 ช่อง"
      ],
      "metadata": {
        "id": "ULOq54Jae2xN"
      }
    },
    {
      "cell_type": "code",
      "source": [
        "data['YearsExperience'][3:10]"
      ],
      "metadata": {
        "id": "zCJ_8XACfGcm",
        "colab": {
          "base_uri": "https://localhost:8080/"
        },
        "outputId": "8616b31e-4781-472b-d8cd-ea9310078a50"
      },
      "execution_count": null,
      "outputs": [
        {
          "output_type": "execute_result",
          "data": {
            "text/plain": [
              "3    2.0\n",
              "4    2.2\n",
              "5    2.9\n",
              "6    3.0\n",
              "7    3.2\n",
              "8    3.2\n",
              "9    3.7\n",
              "Name: YearsExperience, dtype: float64"
            ]
          },
          "metadata": {},
          "execution_count": 31
        }
      ]
    },
    {
      "cell_type": "markdown",
      "source": [
        "การ Visualize ข้อมูลด้วย matplotlib\n",
        "<hr>"
      ],
      "metadata": {
        "id": "VPgk-FXVdasC"
      }
    },
    {
      "cell_type": "code",
      "source": [
        "# plt.plot(x, y) รับข้อมูลตำแหน่ง x และ y เพื่อ plot graph\n",
        "plt.plot(data['YearsExperience'], data['Salary'])"
      ],
      "metadata": {
        "colab": {
          "base_uri": "https://localhost:8080/",
          "height": 282
        },
        "id": "HGzZHYprZjbX",
        "outputId": "c0522394-da6b-487c-fa6a-ce89acfa19d6"
      },
      "execution_count": null,
      "outputs": [
        {
          "output_type": "execute_result",
          "data": {
            "text/plain": [
              "[<matplotlib.lines.Line2D at 0x7f647278ff90>]"
            ]
          },
          "metadata": {},
          "execution_count": 86
        },
        {
          "output_type": "display_data",
          "data": {
            "text/plain": [
              "<Figure size 432x288 with 1 Axes>"
            ],
            "image/png": "[encoded data removed]"
          },
          "metadata": {
            "needs_background": "light"
          }
        }
      ]
    },
    {
      "cell_type": "markdown",
      "source": [
        "ลองพล๊อต รายได้ กับประสบการณ์ทำงานสลับกัน"
      ],
      "metadata": {
        "id": "DaqrWRBefHgf"
      }
    },
    {
      "cell_type": "code",
      "source": [
        "# plt.plot(x, y) รับข้อมูลตำแหน่ง x และ y เพื่อ plot graph\n",
        "plt.plot(data['Salary'], data['YearsExperience'])"
      ],
      "metadata": {
        "colab": {
          "base_uri": "https://localhost:8080/",
          "height": 284
        },
        "id": "wpW9SEOXvwCY",
        "outputId": "4b55a540-70cd-4a6e-9009-1eebf71148d5"
      },
      "execution_count": null,
      "outputs": [
        {
          "output_type": "execute_result",
          "data": {
            "text/plain": [
              "[<matplotlib.lines.Line2D at 0x7f64726dfb90>]"
            ]
          },
          "metadata": {},
          "execution_count": 99
        },
        {
          "output_type": "display_data",
          "data": {
            "text/plain": [
              "<Figure size 432x288 with 1 Axes>"
            ],
            "image/png": "[encoded data removed]"
          },
          "metadata": {
            "needs_background": "light"
          }
        }
      ]
    },
    {
      "cell_type": "code",
      "source": [],
      "metadata": {
        "id": "4LkNplsOfRVS"
      },
      "execution_count": null,
      "outputs": []
    },
    {
      "cell_type": "markdown",
      "source": [
        "### การวิเคราะห์ข้อมูลด้วย Pandas และ matplotlib"
      ],
      "metadata": {
        "id": "S-0wWyrOfWHI"
      }
    },
    {
      "cell_type": "markdown",
      "source": [
        "มีบริษัทแห่งหนึ่ง เป็นเจ้าของ Super Market หลายสาขา\n",
        "\n",
        "เราในฐานะนักวิทยาศาสตร์ข้อมูลต้องทำการวิเคราะห์ว่าเหตุใด สาขาไหนจึงมียอดขายที่ดี หรือไม่ดี\n",
        "\n",
        "โดยบริษัทได้รวบรวมข้อมูลมาให้จากในทุกๆสาขาที่มี"
      ],
      "metadata": {
        "id": "s2AL-qSofdWQ"
      }
    },
    {
      "cell_type": "code",
      "source": [
        "store_data = pd.read_csv('./stores.csv')"
      ],
      "metadata": {
        "id": "y2VjiJ-xfZWC"
      },
      "execution_count": null,
      "outputs": []
    },
    {
      "cell_type": "markdown",
      "source": [
        "dataframe.head(x) เพื่อดูข้อมูล x แถวแรก"
      ],
      "metadata": {
        "id": "kKrkQOjLxKfC"
      }
    },
    {
      "cell_type": "code",
      "source": [
        "store_data.head(5)"
      ],
      "metadata": {
        "colab": {
          "base_uri": "https://localhost:8080/",
          "height": 206
        },
        "id": "BNSJV1S_7vaJ",
        "outputId": "95d0dac2-dbc5-438d-ea29-2527cdd411ff"
      },
      "execution_count": null,
      "outputs": [
        {
          "output_type": "execute_result",
          "data": {
            "text/plain": [
              "   Store ID   Store_Area  Items_Available  Daily_Customer_Count  Store_Sales\n",
              "0          1        1659             1961                   530        66490\n",
              "1          2        1461             1752                   210        39820\n",
              "2          3        1340             1609                   720        54010\n",
              "3          4        1451             1748                   620        53730\n",
              "4          5        1770             2111                   450        46620"
            ],
            "text/html": [
              "\n",
              "  <div id=\"df-c114fc42-9e04-4f7d-8785-b6b1180d4a7f\">\n",
              "    <div class=\"colab-df-container\">\n",
              "      <div>\n",
              "<style scoped>\n",
              "    .dataframe tbody tr th:only-of-type {\n",
              "        vertical-align: middle;\n",
              "    }\n",
              "\n",
              "    .dataframe tbody tr th {\n",
              "        vertical-align: top;\n",
              "    }\n",
              "\n",
              "    .dataframe thead th {\n",
              "        text-align: right;\n",
              "    }\n",
              "</style>\n",
              "<table border=\"1\" class=\"dataframe\">\n",
              "  <thead>\n",
              "    <tr style=\"text-align: right;\">\n",
              "      <th></th>\n",
              "      <th>Store ID</th>\n",
              "      <th>Store_Area</th>\n",
              "      <th>Items_Available</th>\n",
              "      <th>Daily_Customer_Count</th>\n",
              "      <th>Store_Sales</th>\n",
              "    </tr>\n",
              "  </thead>\n",
              "  <tbody>\n",
              "    <tr>\n",
              "      <th>0</th>\n",
              "      <td>1</td>\n",
              "      <td>1659</td>\n",
              "      <td>1961</td>\n",
              "      <td>530</td>\n",
              "      <td>66490</td>\n",
              "    </tr>\n",
              "    <tr>\n",
              "      <th>1</th>\n",
              "      <td>2</td>\n",
              "      <td>1461</td>\n",
              "      <td>1752</td>\n",
              "      <td>210</td>\n",
              "      <td>39820</td>\n",
              "    </tr>\n",
              "    <tr>\n",
              "      <th>2</th>\n",
              "      <td>3</td>\n",
              "      <td>1340</td>\n",
              "      <td>1609</td>\n",
              "      <td>720</td>\n",
              "      <td>54010</td>\n",
              "    </tr>\n",
              "    <tr>\n",
              "      <th>3</th>\n",
              "      <td>4</td>\n",
              "      <td>1451</td>\n",
              "      <td>1748</td>\n",
              "      <td>620</td>\n",
              "      <td>53730</td>\n",
              "    </tr>\n",
              "    <tr>\n",
              "      <th>4</th>\n",
              "      <td>5</td>\n",
              "      <td>1770</td>\n",
              "      <td>2111</td>\n",
              "      <td>450</td>\n",
              "      <td>46620</td>\n",
              "    </tr>\n",
              "  </tbody>\n",
              "</table>\n",
              "</div>\n",
              "      <button class=\"colab-df-convert\" onclick=\"convertToInteractive('df-c114fc42-9e04-4f7d-8785-b6b1180d4a7f')\"\n",
              "              title=\"Convert this dataframe to an interactive table.\"\n",
              "              style=\"display:none;\">\n",
              "        \n",
              "  <svg xmlns=\"http://www.w3.org/2000/svg\" height=\"24px\"viewBox=\"0 0 24 24\"\n",
              "       width=\"24px\">\n",
              "    <path d=\"M0 0h24v24H0V0z\" fill=\"none\"/>\n",
              "    <path d=\"M18.56 5.44l.94 2.06.94-2.06 2.06-.94-2.06-.94-.94-2.06-.94 2.06-2.06.94zm-11 1L8.5 8.5l.94-2.06 2.06-.94-2.06-.94L8.5 2.5l-.94 2.06-2.06.94zm10 10l.94 2.06.94-2.06 2.06-.94-2.06-.94-.94-2.06-.94 2.06-2.06.94z\"/><path d=\"M17.41 7.96l-1.37-1.37c-.4-.4-.92-.59-1.43-.59-.52 0-1.04.2-1.43.59L10.3 9.45l-7.72 7.72c-.78.78-.78 2.05 0 2.83L4 21.41c.39.39.9.59 1.41.59.51 0 1.02-.2 1.41-.59l7.78-7.78 2.81-2.81c.8-.78.8-2.07 0-2.86zM5.41 20L4 18.59l7.72-7.72 1.47 1.35L5.41 20z\"/>\n",
              "  </svg>\n",
              "      </button>\n",
              "      \n",
              "  <style>\n",
              "    .colab-df-container {\n",
              "      display:flex;\n",
              "      flex-wrap:wrap;\n",
              "      gap: 12px;\n",
              "    }\n",
              "\n",
              "    .colab-df-convert {\n",
              "      background-color: #E8F0FE;\n",
              "      border: none;\n",
              "      border-radius: 50%;\n",
              "      cursor: pointer;\n",
              "      display: none;\n",
              "      fill: #1967D2;\n",
              "      height: 32px;\n",
              "      padding: 0 0 0 0;\n",
              "      width: 32px;\n",
              "    }\n",
              "\n",
              "    .colab-df-convert:hover {\n",
              "      background-color: #E2EBFA;\n",
              "      box-shadow: 0px 1px 2px rgba(60, 64, 67, 0.3), 0px 1px 3px 1px rgba(60, 64, 67, 0.15);\n",
              "      fill: #174EA6;\n",
              "    }\n",
              "\n",
              "    [theme=dark] .colab-df-convert {\n",
              "      background-color: #3B4455;\n",
              "      fill: #D2E3FC;\n",
              "    }\n",
              "\n",
              "    [theme=dark] .colab-df-convert:hover {\n",
              "      background-color: #434B5C;\n",
              "      box-shadow: 0px 1px 3px 1px rgba(0, 0, 0, 0.15);\n",
              "      filter: drop-shadow(0px 1px 2px rgba(0, 0, 0, 0.3));\n",
              "      fill: #FFFFFF;\n",
              "    }\n",
              "  </style>\n",
              "\n",
              "      <script>\n",
              "        const buttonEl =\n",
              "          document.querySelector('#df-c114fc42-9e04-4f7d-8785-b6b1180d4a7f button.colab-df-convert');\n",
              "        buttonEl.style.display =\n",
              "          google.colab.kernel.accessAllowed ? 'block' : 'none';\n",
              "\n",
              "        async function convertToInteractive(key) {\n",
              "          const element = document.querySelector('#df-c114fc42-9e04-4f7d-8785-b6b1180d4a7f');\n",
              "          const dataTable =\n",
              "            await google.colab.kernel.invokeFunction('convertToInteractive',\n",
              "                                                     [key], {});\n",
              "          if (!dataTable) return;\n",
              "\n",
              "          const docLinkHtml = 'Like what you see? Visit the ' +\n",
              "            '<a target=\"_blank\" href=https://colab.research.google.com/notebooks/data_table.ipynb>data table notebook</a>'\n",
              "            + ' to learn more about interactive tables.';\n",
              "          element.innerHTML = '';\n",
              "          dataTable['output_type'] = 'display_data';\n",
              "          await google.colab.output.renderOutput(dataTable, element);\n",
              "          const docLink = document.createElement('div');\n",
              "          docLink.innerHTML = docLinkHtml;\n",
              "          element.appendChild(docLink);\n",
              "        }\n",
              "      </script>\n",
              "    </div>\n",
              "  </div>\n",
              "  "
            ]
          },
          "metadata": {},
          "execution_count": 12
        }
      ]
    },
    {
      "cell_type": "markdown",
      "source": [
        "ใช้ dataframe.describe( ) เพื่อดูข้อมูลทางสถิติเบื้องต้น\n",
        "\n",
        "จะเห็นว่าค่าเฉลี่ยของ ยอดขายอยู่ที่ 59351$"
      ],
      "metadata": {
        "id": "bz67F7SJxUTw"
      }
    },
    {
      "cell_type": "code",
      "source": [
        "store_data.describe()"
      ],
      "metadata": {
        "colab": {
          "base_uri": "https://localhost:8080/",
          "height": 300
        },
        "id": "-43D1nJT7xsM",
        "outputId": "68f97119-7309-4573-c7c1-c51c99f2d2f9"
      },
      "execution_count": null,
      "outputs": [
        {
          "output_type": "execute_result",
          "data": {
            "text/plain": [
              "        Store ID    Store_Area  Items_Available  Daily_Customer_Count  \\\n",
              "count  896.000000   896.000000       896.000000            896.000000   \n",
              "mean   448.500000  1485.409598      1782.035714            786.350446   \n",
              "std    258.797218   250.237011       299.872053            265.389281   \n",
              "min      1.000000   775.000000       932.000000             10.000000   \n",
              "25%    224.750000  1316.750000      1575.500000            600.000000   \n",
              "50%    448.500000  1477.000000      1773.500000            780.000000   \n",
              "75%    672.250000  1653.500000      1982.750000            970.000000   \n",
              "max    896.000000  2229.000000      2667.000000           1560.000000   \n",
              "\n",
              "         Store_Sales  \n",
              "count     896.000000  \n",
              "mean    59351.305804  \n",
              "std     17190.741895  \n",
              "min     14920.000000  \n",
              "25%     46530.000000  \n",
              "50%     58605.000000  \n",
              "75%     71872.500000  \n",
              "max    116320.000000  "
            ],
            "text/html": [
              "\n",
              "  <div id=\"df-61e83a43-54d1-4129-883b-4b82d4b70d69\">\n",
              "    <div class=\"colab-df-container\">\n",
              "      <div>\n",
              "<style scoped>\n",
              "    .dataframe tbody tr th:only-of-type {\n",
              "        vertical-align: middle;\n",
              "    }\n",
              "\n",
              "    .dataframe tbody tr th {\n",
              "        vertical-align: top;\n",
              "    }\n",
              "\n",
              "    .dataframe thead th {\n",
              "        text-align: right;\n",
              "    }\n",
              "</style>\n",
              "<table border=\"1\" class=\"dataframe\">\n",
              "  <thead>\n",
              "    <tr style=\"text-align: right;\">\n",
              "      <th></th>\n",
              "      <th>Store ID</th>\n",
              "      <th>Store_Area</th>\n",
              "      <th>Items_Available</th>\n",
              "      <th>Daily_Customer_Count</th>\n",
              "      <th>Store_Sales</th>\n",
              "    </tr>\n",
              "  </thead>\n",
              "  <tbody>\n",
              "    <tr>\n",
              "      <th>count</th>\n",
              "      <td>896.000000</td>\n",
              "      <td>896.000000</td>\n",
              "      <td>896.000000</td>\n",
              "      <td>896.000000</td>\n",
              "      <td>896.000000</td>\n",
              "    </tr>\n",
              "    <tr>\n",
              "      <th>mean</th>\n",
              "      <td>448.500000</td>\n",
              "      <td>1485.409598</td>\n",
              "      <td>1782.035714</td>\n",
              "      <td>786.350446</td>\n",
              "      <td>59351.305804</td>\n",
              "    </tr>\n",
              "    <tr>\n",
              "      <th>std</th>\n",
              "      <td>258.797218</td>\n",
              "      <td>250.237011</td>\n",
              "      <td>299.872053</td>\n",
              "      <td>265.389281</td>\n",
              "      <td>17190.741895</td>\n",
              "    </tr>\n",
              "    <tr>\n",
              "      <th>min</th>\n",
              "      <td>1.000000</td>\n",
              "      <td>775.000000</td>\n",
              "      <td>932.000000</td>\n",
              "      <td>10.000000</td>\n",
              "      <td>14920.000000</td>\n",
              "    </tr>\n",
              "    <tr>\n",
              "      <th>25%</th>\n",
              "      <td>224.750000</td>\n",
              "      <td>1316.750000</td>\n",
              "      <td>1575.500000</td>\n",
              "      <td>600.000000</td>\n",
              "      <td>46530.000000</td>\n",
              "    </tr>\n",
              "    <tr>\n",
              "      <th>50%</th>\n",
              "      <td>448.500000</td>\n",
              "      <td>1477.000000</td>\n",
              "      <td>1773.500000</td>\n",
              "      <td>780.000000</td>\n",
              "      <td>58605.000000</td>\n",
              "    </tr>\n",
              "    <tr>\n",
              "      <th>75%</th>\n",
              "      <td>672.250000</td>\n",
              "      <td>1653.500000</td>\n",
              "      <td>1982.750000</td>\n",
              "      <td>970.000000</td>\n",
              "      <td>71872.500000</td>\n",
              "    </tr>\n",
              "    <tr>\n",
              "      <th>max</th>\n",
              "      <td>896.000000</td>\n",
              "      <td>2229.000000</td>\n",
              "      <td>2667.000000</td>\n",
              "      <td>1560.000000</td>\n",
              "      <td>116320.000000</td>\n",
              "    </tr>\n",
              "  </tbody>\n",
              "</table>\n",
              "</div>\n",
              "      <button class=\"colab-df-convert\" onclick=\"convertToInteractive('df-61e83a43-54d1-4129-883b-4b82d4b70d69')\"\n",
              "              title=\"Convert this dataframe to an interactive table.\"\n",
              "              style=\"display:none;\">\n",
              "        \n",
              "  <svg xmlns=\"http://www.w3.org/2000/svg\" height=\"24px\"viewBox=\"0 0 24 24\"\n",
              "       width=\"24px\">\n",
              "    <path d=\"M0 0h24v24H0V0z\" fill=\"none\"/>\n",
              "    <path d=\"M18.56 5.44l.94 2.06.94-2.06 2.06-.94-2.06-.94-.94-2.06-.94 2.06-2.06.94zm-11 1L8.5 8.5l.94-2.06 2.06-.94-2.06-.94L8.5 2.5l-.94 2.06-2.06.94zm10 10l.94 2.06.94-2.06 2.06-.94-2.06-.94-.94-2.06-.94 2.06-2.06.94z\"/><path d=\"M17.41 7.96l-1.37-1.37c-.4-.4-.92-.59-1.43-.59-.52 0-1.04.2-1.43.59L10.3 9.45l-7.72 7.72c-.78.78-.78 2.05 0 2.83L4 21.41c.39.39.9.59 1.41.59.51 0 1.02-.2 1.41-.59l7.78-7.78 2.81-2.81c.8-.78.8-2.07 0-2.86zM5.41 20L4 18.59l7.72-7.72 1.47 1.35L5.41 20z\"/>\n",
              "  </svg>\n",
              "      </button>\n",
              "      \n",
              "  <style>\n",
              "    .colab-df-container {\n",
              "      display:flex;\n",
              "      flex-wrap:wrap;\n",
              "      gap: 12px;\n",
              "    }\n",
              "\n",
              "    .colab-df-convert {\n",
              "      background-color: #E8F0FE;\n",
              "      border: none;\n",
              "      border-radius: 50%;\n",
              "      cursor: pointer;\n",
              "      display: none;\n",
              "      fill: #1967D2;\n",
              "      height: 32px;\n",
              "      padding: 0 0 0 0;\n",
              "      width: 32px;\n",
              "    }\n",
              "\n",
              "    .colab-df-convert:hover {\n",
              "      background-color: #E2EBFA;\n",
              "      box-shadow: 0px 1px 2px rgba(60, 64, 67, 0.3), 0px 1px 3px 1px rgba(60, 64, 67, 0.15);\n",
              "      fill: #174EA6;\n",
              "    }\n",
              "\n",
              "    [theme=dark] .colab-df-convert {\n",
              "      background-color: #3B4455;\n",
              "      fill: #D2E3FC;\n",
              "    }\n",
              "\n",
              "    [theme=dark] .colab-df-convert:hover {\n",
              "      background-color: #434B5C;\n",
              "      box-shadow: 0px 1px 3px 1px rgba(0, 0, 0, 0.15);\n",
              "      filter: drop-shadow(0px 1px 2px rgba(0, 0, 0, 0.3));\n",
              "      fill: #FFFFFF;\n",
              "    }\n",
              "  </style>\n",
              "\n",
              "      <script>\n",
              "        const buttonEl =\n",
              "          document.querySelector('#df-61e83a43-54d1-4129-883b-4b82d4b70d69 button.colab-df-convert');\n",
              "        buttonEl.style.display =\n",
              "          google.colab.kernel.accessAllowed ? 'block' : 'none';\n",
              "\n",
              "        async function convertToInteractive(key) {\n",
              "          const element = document.querySelector('#df-61e83a43-54d1-4129-883b-4b82d4b70d69');\n",
              "          const dataTable =\n",
              "            await google.colab.kernel.invokeFunction('convertToInteractive',\n",
              "                                                     [key], {});\n",
              "          if (!dataTable) return;\n",
              "\n",
              "          const docLinkHtml = 'Like what you see? Visit the ' +\n",
              "            '<a target=\"_blank\" href=https://colab.research.google.com/notebooks/data_table.ipynb>data table notebook</a>'\n",
              "            + ' to learn more about interactive tables.';\n",
              "          element.innerHTML = '';\n",
              "          dataTable['output_type'] = 'display_data';\n",
              "          await google.colab.output.renderOutput(dataTable, element);\n",
              "          const docLink = document.createElement('div');\n",
              "          docLink.innerHTML = docLinkHtml;\n",
              "          element.appendChild(docLink);\n",
              "        }\n",
              "      </script>\n",
              "    </div>\n",
              "  </div>\n",
              "  "
            ]
          },
          "metadata": {},
          "execution_count": 13
        }
      ]
    },
    {
      "cell_type": "markdown",
      "source": [
        "เลือกข้อมูล แถวที่มียอดขาย(Store_Sales) ่ต่ำกว่าค่าเฉลี่ย"
      ],
      "metadata": {
        "id": "wBTrI2czxjWC"
      }
    },
    {
      "cell_type": "code",
      "source": [
        "low_sale = store_data[store_data['Store_Sales'] < 59351]\n",
        "low_sale.head(5) # แสดงผลออกมาดู"
      ],
      "metadata": {
        "colab": {
          "base_uri": "https://localhost:8080/",
          "height": 206
        },
        "id": "DFUEIB75-B4Y",
        "outputId": "f92b16d7-61df-4f06-90d9-eec7de3be9a6"
      },
      "execution_count": null,
      "outputs": [
        {
          "output_type": "execute_result",
          "data": {
            "text/plain": [
              "   Store ID   Store_Area  Items_Available  Daily_Customer_Count  Store_Sales\n",
              "1          2        1461             1752                   210        39820\n",
              "2          3        1340             1609                   720        54010\n",
              "3          4        1451             1748                   620        53730\n",
              "4          5        1770             2111                   450        46620\n",
              "5          6        1442             1733                   760        45260"
            ],
            "text/html": [
              "\n",
              "  <div id=\"df-f76102d3-fee1-4c06-a326-c05c779386b6\">\n",
              "    <div class=\"colab-df-container\">\n",
              "      <div>\n",
              "<style scoped>\n",
              "    .dataframe tbody tr th:only-of-type {\n",
              "        vertical-align: middle;\n",
              "    }\n",
              "\n",
              "    .dataframe tbody tr th {\n",
              "        vertical-align: top;\n",
              "    }\n",
              "\n",
              "    .dataframe thead th {\n",
              "        text-align: right;\n",
              "    }\n",
              "</style>\n",
              "<table border=\"1\" class=\"dataframe\">\n",
              "  <thead>\n",
              "    <tr style=\"text-align: right;\">\n",
              "      <th></th>\n",
              "      <th>Store ID</th>\n",
              "      <th>Store_Area</th>\n",
              "      <th>Items_Available</th>\n",
              "      <th>Daily_Customer_Count</th>\n",
              "      <th>Store_Sales</th>\n",
              "    </tr>\n",
              "  </thead>\n",
              "  <tbody>\n",
              "    <tr>\n",
              "      <th>1</th>\n",
              "      <td>2</td>\n",
              "      <td>1461</td>\n",
              "      <td>1752</td>\n",
              "      <td>210</td>\n",
              "      <td>39820</td>\n",
              "    </tr>\n",
              "    <tr>\n",
              "      <th>2</th>\n",
              "      <td>3</td>\n",
              "      <td>1340</td>\n",
              "      <td>1609</td>\n",
              "      <td>720</td>\n",
              "      <td>54010</td>\n",
              "    </tr>\n",
              "    <tr>\n",
              "      <th>3</th>\n",
              "      <td>4</td>\n",
              "      <td>1451</td>\n",
              "      <td>1748</td>\n",
              "      <td>620</td>\n",
              "      <td>53730</td>\n",
              "    </tr>\n",
              "    <tr>\n",
              "      <th>4</th>\n",
              "      <td>5</td>\n",
              "      <td>1770</td>\n",
              "      <td>2111</td>\n",
              "      <td>450</td>\n",
              "      <td>46620</td>\n",
              "    </tr>\n",
              "    <tr>\n",
              "      <th>5</th>\n",
              "      <td>6</td>\n",
              "      <td>1442</td>\n",
              "      <td>1733</td>\n",
              "      <td>760</td>\n",
              "      <td>45260</td>\n",
              "    </tr>\n",
              "  </tbody>\n",
              "</table>\n",
              "</div>\n",
              "      <button class=\"colab-df-convert\" onclick=\"convertToInteractive('df-f76102d3-fee1-4c06-a326-c05c779386b6')\"\n",
              "              title=\"Convert this dataframe to an interactive table.\"\n",
              "              style=\"display:none;\">\n",
              "        \n",
              "  <svg xmlns=\"http://www.w3.org/2000/svg\" height=\"24px\"viewBox=\"0 0 24 24\"\n",
              "       width=\"24px\">\n",
              "    <path d=\"M0 0h24v24H0V0z\" fill=\"none\"/>\n",
              "    <path d=\"M18.56 5.44l.94 2.06.94-2.06 2.06-.94-2.06-.94-.94-2.06-.94 2.06-2.06.94zm-11 1L8.5 8.5l.94-2.06 2.06-.94-2.06-.94L8.5 2.5l-.94 2.06-2.06.94zm10 10l.94 2.06.94-2.06 2.06-.94-2.06-.94-.94-2.06-.94 2.06-2.06.94z\"/><path d=\"M17.41 7.96l-1.37-1.37c-.4-.4-.92-.59-1.43-.59-.52 0-1.04.2-1.43.59L10.3 9.45l-7.72 7.72c-.78.78-.78 2.05 0 2.83L4 21.41c.39.39.9.59 1.41.59.51 0 1.02-.2 1.41-.59l7.78-7.78 2.81-2.81c.8-.78.8-2.07 0-2.86zM5.41 20L4 18.59l7.72-7.72 1.47 1.35L5.41 20z\"/>\n",
              "  </svg>\n",
              "      </button>\n",
              "      \n",
              "  <style>\n",
              "    .colab-df-container {\n",
              "      display:flex;\n",
              "      flex-wrap:wrap;\n",
              "      gap: 12px;\n",
              "    }\n",
              "\n",
              "    .colab-df-convert {\n",
              "      background-color: #E8F0FE;\n",
              "      border: none;\n",
              "      border-radius: 50%;\n",
              "      cursor: pointer;\n",
              "      display: none;\n",
              "      fill: #1967D2;\n",
              "      height: 32px;\n",
              "      padding: 0 0 0 0;\n",
              "      width: 32px;\n",
              "    }\n",
              "\n",
              "    .colab-df-convert:hover {\n",
              "      background-color: #E2EBFA;\n",
              "      box-shadow: 0px 1px 2px rgba(60, 64, 67, 0.3), 0px 1px 3px 1px rgba(60, 64, 67, 0.15);\n",
              "      fill: #174EA6;\n",
              "    }\n",
              "\n",
              "    [theme=dark] .colab-df-convert {\n",
              "      background-color: #3B4455;\n",
              "      fill: #D2E3FC;\n",
              "    }\n",
              "\n",
              "    [theme=dark] .colab-df-convert:hover {\n",
              "      background-color: #434B5C;\n",
              "      box-shadow: 0px 1px 3px 1px rgba(0, 0, 0, 0.15);\n",
              "      filter: drop-shadow(0px 1px 2px rgba(0, 0, 0, 0.3));\n",
              "      fill: #FFFFFF;\n",
              "    }\n",
              "  </style>\n",
              "\n",
              "      <script>\n",
              "        const buttonEl =\n",
              "          document.querySelector('#df-f76102d3-fee1-4c06-a326-c05c779386b6 button.colab-df-convert');\n",
              "        buttonEl.style.display =\n",
              "          google.colab.kernel.accessAllowed ? 'block' : 'none';\n",
              "\n",
              "        async function convertToInteractive(key) {\n",
              "          const element = document.querySelector('#df-f76102d3-fee1-4c06-a326-c05c779386b6');\n",
              "          const dataTable =\n",
              "            await google.colab.kernel.invokeFunction('convertToInteractive',\n",
              "                                                     [key], {});\n",
              "          if (!dataTable) return;\n",
              "\n",
              "          const docLinkHtml = 'Like what you see? Visit the ' +\n",
              "            '<a target=\"_blank\" href=https://colab.research.google.com/notebooks/data_table.ipynb>data table notebook</a>'\n",
              "            + ' to learn more about interactive tables.';\n",
              "          element.innerHTML = '';\n",
              "          dataTable['output_type'] = 'display_data';\n",
              "          await google.colab.output.renderOutput(dataTable, element);\n",
              "          const docLink = document.createElement('div');\n",
              "          docLink.innerHTML = docLinkHtml;\n",
              "          element.appendChild(docLink);\n",
              "        }\n",
              "      </script>\n",
              "    </div>\n",
              "  </div>\n",
              "  "
            ]
          },
          "metadata": {},
          "execution_count": 15
        }
      ]
    },
    {
      "cell_type": "code",
      "source": [
        "print('คิดเป็น %')\n",
        "(463/896)*100"
      ],
      "metadata": {
        "colab": {
          "base_uri": "https://localhost:8080/"
        },
        "id": "dRuML67-8u2_",
        "outputId": "0564616d-6c0f-4c63-f8a1-9f244e2abb91"
      },
      "execution_count": null,
      "outputs": [
        {
          "output_type": "stream",
          "name": "stdout",
          "text": [
            "คิดเป็น %\n"
          ]
        },
        {
          "output_type": "execute_result",
          "data": {
            "text/plain": [
              "51.67410714285714"
            ]
          },
          "metadata": {},
          "execution_count": 5
        }
      ]
    },
    {
      "cell_type": "code",
      "source": [
        "low_sale.describe() # ลองดูข้อมูลทางสถิติของกลุ่มที่ยอดขายต่ำ"
      ],
      "metadata": {
        "colab": {
          "base_uri": "https://localhost:8080/",
          "height": 300
        },
        "id": "0GX3lkGNz3Tf",
        "outputId": "5b84df81-b586-4f60-d570-d34ed812830d"
      },
      "execution_count": null,
      "outputs": [
        {
          "output_type": "execute_result",
          "data": {
            "text/plain": [
              "        Store ID    Store_Area  Items_Available  Daily_Customer_Count  \\\n",
              "count  463.000000   463.000000       463.000000            463.000000   \n",
              "mean   443.896328  1463.004320      1754.961123            786.846652   \n",
              "std    255.922079   246.860644       295.203508            264.687990   \n",
              "min      2.000000   775.000000       932.000000             10.000000   \n",
              "25%    232.500000  1302.000000      1559.000000            600.000000   \n",
              "50%    446.000000  1461.000000      1752.000000            770.000000   \n",
              "75%    662.500000  1622.000000      1945.500000            960.000000   \n",
              "max    896.000000  2063.000000      2493.000000           1530.000000   \n",
              "\n",
              "        Store_Sales  \n",
              "count    463.000000  \n",
              "mean   45628.682505  \n",
              "std     9173.221580  \n",
              "min    14920.000000  \n",
              "25%    39470.000000  \n",
              "50%    46840.000000  \n",
              "75%    52860.000000  \n",
              "max    59290.000000  "
            ],
            "text/html": [
              "\n",
              "  <div id=\"df-6d216465-4c45-4768-ac50-0a47c573b45e\">\n",
              "    <div class=\"colab-df-container\">\n",
              "      <div>\n",
              "<style scoped>\n",
              "    .dataframe tbody tr th:only-of-type {\n",
              "        vertical-align: middle;\n",
              "    }\n",
              "\n",
              "    .dataframe tbody tr th {\n",
              "        vertical-align: top;\n",
              "    }\n",
              "\n",
              "    .dataframe thead th {\n",
              "        text-align: right;\n",
              "    }\n",
              "</style>\n",
              "<table border=\"1\" class=\"dataframe\">\n",
              "  <thead>\n",
              "    <tr style=\"text-align: right;\">\n",
              "      <th></th>\n",
              "      <th>Store ID</th>\n",
              "      <th>Store_Area</th>\n",
              "      <th>Items_Available</th>\n",
              "      <th>Daily_Customer_Count</th>\n",
              "      <th>Store_Sales</th>\n",
              "    </tr>\n",
              "  </thead>\n",
              "  <tbody>\n",
              "    <tr>\n",
              "      <th>count</th>\n",
              "      <td>463.000000</td>\n",
              "      <td>463.000000</td>\n",
              "      <td>463.000000</td>\n",
              "      <td>463.000000</td>\n",
              "      <td>463.000000</td>\n",
              "    </tr>\n",
              "    <tr>\n",
              "      <th>mean</th>\n",
              "      <td>443.896328</td>\n",
              "      <td>1463.004320</td>\n",
              "      <td>1754.961123</td>\n",
              "      <td>786.846652</td>\n",
              "      <td>45628.682505</td>\n",
              "    </tr>\n",
              "    <tr>\n",
              "      <th>std</th>\n",
              "      <td>255.922079</td>\n",
              "      <td>246.860644</td>\n",
              "      <td>295.203508</td>\n",
              "      <td>264.687990</td>\n",
              "      <td>9173.221580</td>\n",
              "    </tr>\n",
              "    <tr>\n",
              "      <th>min</th>\n",
              "      <td>2.000000</td>\n",
              "      <td>775.000000</td>\n",
              "      <td>932.000000</td>\n",
              "      <td>10.000000</td>\n",
              "      <td>14920.000000</td>\n",
              "    </tr>\n",
              "    <tr>\n",
              "      <th>25%</th>\n",
              "      <td>232.500000</td>\n",
              "      <td>1302.000000</td>\n",
              "      <td>1559.000000</td>\n",
              "      <td>600.000000</td>\n",
              "      <td>39470.000000</td>\n",
              "    </tr>\n",
              "    <tr>\n",
              "      <th>50%</th>\n",
              "      <td>446.000000</td>\n",
              "      <td>1461.000000</td>\n",
              "      <td>1752.000000</td>\n",
              "      <td>770.000000</td>\n",
              "      <td>46840.000000</td>\n",
              "    </tr>\n",
              "    <tr>\n",
              "      <th>75%</th>\n",
              "      <td>662.500000</td>\n",
              "      <td>1622.000000</td>\n",
              "      <td>1945.500000</td>\n",
              "      <td>960.000000</td>\n",
              "      <td>52860.000000</td>\n",
              "    </tr>\n",
              "    <tr>\n",
              "      <th>max</th>\n",
              "      <td>896.000000</td>\n",
              "      <td>2063.000000</td>\n",
              "      <td>2493.000000</td>\n",
              "      <td>1530.000000</td>\n",
              "      <td>59290.000000</td>\n",
              "    </tr>\n",
              "  </tbody>\n",
              "</table>\n",
              "</div>\n",
              "      <button class=\"colab-df-convert\" onclick=\"convertToInteractive('df-6d216465-4c45-4768-ac50-0a47c573b45e')\"\n",
              "              title=\"Convert this dataframe to an interactive table.\"\n",
              "              style=\"display:none;\">\n",
              "        \n",
              "  <svg xmlns=\"http://www.w3.org/2000/svg\" height=\"24px\"viewBox=\"0 0 24 24\"\n",
              "       width=\"24px\">\n",
              "    <path d=\"M0 0h24v24H0V0z\" fill=\"none\"/>\n",
              "    <path d=\"M18.56 5.44l.94 2.06.94-2.06 2.06-.94-2.06-.94-.94-2.06-.94 2.06-2.06.94zm-11 1L8.5 8.5l.94-2.06 2.06-.94-2.06-.94L8.5 2.5l-.94 2.06-2.06.94zm10 10l.94 2.06.94-2.06 2.06-.94-2.06-.94-.94-2.06-.94 2.06-2.06.94z\"/><path d=\"M17.41 7.96l-1.37-1.37c-.4-.4-.92-.59-1.43-.59-.52 0-1.04.2-1.43.59L10.3 9.45l-7.72 7.72c-.78.78-.78 2.05 0 2.83L4 21.41c.39.39.9.59 1.41.59.51 0 1.02-.2 1.41-.59l7.78-7.78 2.81-2.81c.8-.78.8-2.07 0-2.86zM5.41 20L4 18.59l7.72-7.72 1.47 1.35L5.41 20z\"/>\n",
              "  </svg>\n",
              "      </button>\n",
              "      \n",
              "  <style>\n",
              "    .colab-df-container {\n",
              "      display:flex;\n",
              "      flex-wrap:wrap;\n",
              "      gap: 12px;\n",
              "    }\n",
              "\n",
              "    .colab-df-convert {\n",
              "      background-color: #E8F0FE;\n",
              "      border: none;\n",
              "      border-radius: 50%;\n",
              "      cursor: pointer;\n",
              "      display: none;\n",
              "      fill: #1967D2;\n",
              "      height: 32px;\n",
              "      padding: 0 0 0 0;\n",
              "      width: 32px;\n",
              "    }\n",
              "\n",
              "    .colab-df-convert:hover {\n",
              "      background-color: #E2EBFA;\n",
              "      box-shadow: 0px 1px 2px rgba(60, 64, 67, 0.3), 0px 1px 3px 1px rgba(60, 64, 67, 0.15);\n",
              "      fill: #174EA6;\n",
              "    }\n",
              "\n",
              "    [theme=dark] .colab-df-convert {\n",
              "      background-color: #3B4455;\n",
              "      fill: #D2E3FC;\n",
              "    }\n",
              "\n",
              "    [theme=dark] .colab-df-convert:hover {\n",
              "      background-color: #434B5C;\n",
              "      box-shadow: 0px 1px 3px 1px rgba(0, 0, 0, 0.15);\n",
              "      filter: drop-shadow(0px 1px 2px rgba(0, 0, 0, 0.3));\n",
              "      fill: #FFFFFF;\n",
              "    }\n",
              "  </style>\n",
              "\n",
              "      <script>\n",
              "        const buttonEl =\n",
              "          document.querySelector('#df-6d216465-4c45-4768-ac50-0a47c573b45e button.colab-df-convert');\n",
              "        buttonEl.style.display =\n",
              "          google.colab.kernel.accessAllowed ? 'block' : 'none';\n",
              "\n",
              "        async function convertToInteractive(key) {\n",
              "          const element = document.querySelector('#df-6d216465-4c45-4768-ac50-0a47c573b45e');\n",
              "          const dataTable =\n",
              "            await google.colab.kernel.invokeFunction('convertToInteractive',\n",
              "                                                     [key], {});\n",
              "          if (!dataTable) return;\n",
              "\n",
              "          const docLinkHtml = 'Like what you see? Visit the ' +\n",
              "            '<a target=\"_blank\" href=https://colab.research.google.com/notebooks/data_table.ipynb>data table notebook</a>'\n",
              "            + ' to learn more about interactive tables.';\n",
              "          element.innerHTML = '';\n",
              "          dataTable['output_type'] = 'display_data';\n",
              "          await google.colab.output.renderOutput(dataTable, element);\n",
              "          const docLink = document.createElement('div');\n",
              "          docLink.innerHTML = docLinkHtml;\n",
              "          element.appendChild(docLink);\n",
              "        }\n",
              "      </script>\n",
              "    </div>\n",
              "  </div>\n",
              "  "
            ]
          },
          "metadata": {},
          "execution_count": 18
        }
      ]
    },
    {
      "cell_type": "markdown",
      "source": [
        "เลือกข้อมูล แถวที่มียอดขาย(Store_Sales) ่สูงกว่าค่าเฉลี่ย"
      ],
      "metadata": {
        "id": "HF7CYXdHyfjd"
      }
    },
    {
      "cell_type": "code",
      "source": [
        "high_sale = store_data[store_data['Store_Sales'] > 59351]"
      ],
      "metadata": {
        "id": "mnW0ZFCc9E86"
      },
      "execution_count": null,
      "outputs": []
    },
    {
      "cell_type": "code",
      "source": [
        "high_sale.describe() # ลองดูข้อมูลทางสถิติของกลุ่มที่ยอดขายสูง"
      ],
      "metadata": {
        "colab": {
          "base_uri": "https://localhost:8080/",
          "height": 300
        },
        "id": "X0qPqK5h0IDR",
        "outputId": "c370489c-9cd8-4fcd-ee8b-54f497afc247"
      },
      "execution_count": null,
      "outputs": [
        {
          "output_type": "execute_result",
          "data": {
            "text/plain": [
              "        Store ID    Store_Area  Items_Available  Daily_Customer_Count  \\\n",
              "count  433.000000   433.000000       433.000000            433.000000   \n",
              "mean   453.422633  1509.367206      1810.986143            785.819861   \n",
              "std    262.043305   251.883179       302.451258            266.442327   \n",
              "min      1.000000   854.000000      1018.000000             70.000000   \n",
              "25%    223.000000  1336.000000      1609.000000            610.000000   \n",
              "50%    450.000000  1493.000000      1791.000000            790.000000   \n",
              "75%    678.000000  1677.000000      2015.000000            980.000000   \n",
              "max    895.000000  2229.000000      2667.000000           1560.000000   \n",
              "\n",
              "         Store_Sales  \n",
              "count     433.000000  \n",
              "mean    74024.688222  \n",
              "std     10228.786153  \n",
              "min     59380.000000  \n",
              "25%     65900.000000  \n",
              "50%     72350.000000  \n",
              "75%     80490.000000  \n",
              "max    116320.000000  "
            ],
            "text/html": [
              "\n",
              "  <div id=\"df-49b67515-1d3e-46d7-a3e2-1843f646a5c8\">\n",
              "    <div class=\"colab-df-container\">\n",
              "      <div>\n",
              "<style scoped>\n",
              "    .dataframe tbody tr th:only-of-type {\n",
              "        vertical-align: middle;\n",
              "    }\n",
              "\n",
              "    .dataframe tbody tr th {\n",
              "        vertical-align: top;\n",
              "    }\n",
              "\n",
              "    .dataframe thead th {\n",
              "        text-align: right;\n",
              "    }\n",
              "</style>\n",
              "<table border=\"1\" class=\"dataframe\">\n",
              "  <thead>\n",
              "    <tr style=\"text-align: right;\">\n",
              "      <th></th>\n",
              "      <th>Store ID</th>\n",
              "      <th>Store_Area</th>\n",
              "      <th>Items_Available</th>\n",
              "      <th>Daily_Customer_Count</th>\n",
              "      <th>Store_Sales</th>\n",
              "    </tr>\n",
              "  </thead>\n",
              "  <tbody>\n",
              "    <tr>\n",
              "      <th>count</th>\n",
              "      <td>433.000000</td>\n",
              "      <td>433.000000</td>\n",
              "      <td>433.000000</td>\n",
              "      <td>433.000000</td>\n",
              "      <td>433.000000</td>\n",
              "    </tr>\n",
              "    <tr>\n",
              "      <th>mean</th>\n",
              "      <td>453.422633</td>\n",
              "      <td>1509.367206</td>\n",
              "      <td>1810.986143</td>\n",
              "      <td>785.819861</td>\n",
              "      <td>74024.688222</td>\n",
              "    </tr>\n",
              "    <tr>\n",
              "      <th>std</th>\n",
              "      <td>262.043305</td>\n",
              "      <td>251.883179</td>\n",
              "      <td>302.451258</td>\n",
              "      <td>266.442327</td>\n",
              "      <td>10228.786153</td>\n",
              "    </tr>\n",
              "    <tr>\n",
              "      <th>min</th>\n",
              "      <td>1.000000</td>\n",
              "      <td>854.000000</td>\n",
              "      <td>1018.000000</td>\n",
              "      <td>70.000000</td>\n",
              "      <td>59380.000000</td>\n",
              "    </tr>\n",
              "    <tr>\n",
              "      <th>25%</th>\n",
              "      <td>223.000000</td>\n",
              "      <td>1336.000000</td>\n",
              "      <td>1609.000000</td>\n",
              "      <td>610.000000</td>\n",
              "      <td>65900.000000</td>\n",
              "    </tr>\n",
              "    <tr>\n",
              "      <th>50%</th>\n",
              "      <td>450.000000</td>\n",
              "      <td>1493.000000</td>\n",
              "      <td>1791.000000</td>\n",
              "      <td>790.000000</td>\n",
              "      <td>72350.000000</td>\n",
              "    </tr>\n",
              "    <tr>\n",
              "      <th>75%</th>\n",
              "      <td>678.000000</td>\n",
              "      <td>1677.000000</td>\n",
              "      <td>2015.000000</td>\n",
              "      <td>980.000000</td>\n",
              "      <td>80490.000000</td>\n",
              "    </tr>\n",
              "    <tr>\n",
              "      <th>max</th>\n",
              "      <td>895.000000</td>\n",
              "      <td>2229.000000</td>\n",
              "      <td>2667.000000</td>\n",
              "      <td>1560.000000</td>\n",
              "      <td>116320.000000</td>\n",
              "    </tr>\n",
              "  </tbody>\n",
              "</table>\n",
              "</div>\n",
              "      <button class=\"colab-df-convert\" onclick=\"convertToInteractive('df-49b67515-1d3e-46d7-a3e2-1843f646a5c8')\"\n",
              "              title=\"Convert this dataframe to an interactive table.\"\n",
              "              style=\"display:none;\">\n",
              "        \n",
              "  <svg xmlns=\"http://www.w3.org/2000/svg\" height=\"24px\"viewBox=\"0 0 24 24\"\n",
              "       width=\"24px\">\n",
              "    <path d=\"M0 0h24v24H0V0z\" fill=\"none\"/>\n",
              "    <path d=\"M18.56 5.44l.94 2.06.94-2.06 2.06-.94-2.06-.94-.94-2.06-.94 2.06-2.06.94zm-11 1L8.5 8.5l.94-2.06 2.06-.94-2.06-.94L8.5 2.5l-.94 2.06-2.06.94zm10 10l.94 2.06.94-2.06 2.06-.94-2.06-.94-.94-2.06-.94 2.06-2.06.94z\"/><path d=\"M17.41 7.96l-1.37-1.37c-.4-.4-.92-.59-1.43-.59-.52 0-1.04.2-1.43.59L10.3 9.45l-7.72 7.72c-.78.78-.78 2.05 0 2.83L4 21.41c.39.39.9.59 1.41.59.51 0 1.02-.2 1.41-.59l7.78-7.78 2.81-2.81c.8-.78.8-2.07 0-2.86zM5.41 20L4 18.59l7.72-7.72 1.47 1.35L5.41 20z\"/>\n",
              "  </svg>\n",
              "      </button>\n",
              "      \n",
              "  <style>\n",
              "    .colab-df-container {\n",
              "      display:flex;\n",
              "      flex-wrap:wrap;\n",
              "      gap: 12px;\n",
              "    }\n",
              "\n",
              "    .colab-df-convert {\n",
              "      background-color: #E8F0FE;\n",
              "      border: none;\n",
              "      border-radius: 50%;\n",
              "      cursor: pointer;\n",
              "      display: none;\n",
              "      fill: #1967D2;\n",
              "      height: 32px;\n",
              "      padding: 0 0 0 0;\n",
              "      width: 32px;\n",
              "    }\n",
              "\n",
              "    .colab-df-convert:hover {\n",
              "      background-color: #E2EBFA;\n",
              "      box-shadow: 0px 1px 2px rgba(60, 64, 67, 0.3), 0px 1px 3px 1px rgba(60, 64, 67, 0.15);\n",
              "      fill: #174EA6;\n",
              "    }\n",
              "\n",
              "    [theme=dark] .colab-df-convert {\n",
              "      background-color: #3B4455;\n",
              "      fill: #D2E3FC;\n",
              "    }\n",
              "\n",
              "    [theme=dark] .colab-df-convert:hover {\n",
              "      background-color: #434B5C;\n",
              "      box-shadow: 0px 1px 3px 1px rgba(0, 0, 0, 0.15);\n",
              "      filter: drop-shadow(0px 1px 2px rgba(0, 0, 0, 0.3));\n",
              "      fill: #FFFFFF;\n",
              "    }\n",
              "  </style>\n",
              "\n",
              "      <script>\n",
              "        const buttonEl =\n",
              "          document.querySelector('#df-49b67515-1d3e-46d7-a3e2-1843f646a5c8 button.colab-df-convert');\n",
              "        buttonEl.style.display =\n",
              "          google.colab.kernel.accessAllowed ? 'block' : 'none';\n",
              "\n",
              "        async function convertToInteractive(key) {\n",
              "          const element = document.querySelector('#df-49b67515-1d3e-46d7-a3e2-1843f646a5c8');\n",
              "          const dataTable =\n",
              "            await google.colab.kernel.invokeFunction('convertToInteractive',\n",
              "                                                     [key], {});\n",
              "          if (!dataTable) return;\n",
              "\n",
              "          const docLinkHtml = 'Like what you see? Visit the ' +\n",
              "            '<a target=\"_blank\" href=https://colab.research.google.com/notebooks/data_table.ipynb>data table notebook</a>'\n",
              "            + ' to learn more about interactive tables.';\n",
              "          element.innerHTML = '';\n",
              "          dataTable['output_type'] = 'display_data';\n",
              "          await google.colab.output.renderOutput(dataTable, element);\n",
              "          const docLink = document.createElement('div');\n",
              "          docLink.innerHTML = docLinkHtml;\n",
              "          element.appendChild(docLink);\n",
              "        }\n",
              "      </script>\n",
              "    </div>\n",
              "  </div>\n",
              "  "
            ]
          },
          "metadata": {},
          "execution_count": 21
        }
      ]
    },
    {
      "cell_type": "markdown",
      "source": [
        "# Data Analytic"
      ],
      "metadata": {
        "id": "8fne3FMjwijo"
      }
    },
    {
      "cell_type": "markdown",
      "source": [
        "ลองวิเคราะห์ชุดข้อมูล Titanic ซึ่งเป็นข้อมูลสถิติคนที่ตายและรอด ในเรือ Titanic ดู"
      ],
      "metadata": {
        "id": "WHB_X_4j0KJv"
      }
    },
    {
      "cell_type": "code",
      "source": [
        "import pandas as pd"
      ],
      "metadata": {
        "id": "cHhjC-m0wpf6"
      },
      "execution_count": null,
      "outputs": []
    },
    {
      "cell_type": "code",
      "source": [
        "data = pd.read_csv('./titanicdata.csv')"
      ],
      "metadata": {
        "id": "caAv5wXF87_I"
      },
      "execution_count": null,
      "outputs": []
    },
    {
      "cell_type": "code",
      "source": [
        "data"
      ],
      "metadata": {
        "colab": {
          "base_uri": "https://localhost:8080/",
          "height": 424
        },
        "id": "uxW2gwS3wrkF",
        "outputId": "48e2f80c-f8b8-456d-9af8-d25b2207f45f"
      },
      "execution_count": null,
      "outputs": [
        {
          "output_type": "execute_result",
          "data": {
            "text/plain": [
              "     PassengerId  Survived  Pclass     Sex   Age\n",
              "0              1         0       3    male  22.0\n",
              "1              2         1       1  female  38.0\n",
              "2              3         1       3  female  26.0\n",
              "3              4         1       1  female  35.0\n",
              "4              5         0       3    male  35.0\n",
              "..           ...       ...     ...     ...   ...\n",
              "709          886         0       3  female  39.0\n",
              "710          887         0       2    male  27.0\n",
              "711          888         1       1  female  19.0\n",
              "712          890         1       1    male  26.0\n",
              "713          891         0       3    male  32.0\n",
              "\n",
              "[714 rows x 5 columns]"
            ],
            "text/html": [
              "\n",
              "  <div id=\"df-75b51694-ad11-48cb-843a-d40656f47441\">\n",
              "    <div class=\"colab-df-container\">\n",
              "      <div>\n",
              "<style scoped>\n",
              "    .dataframe tbody tr th:only-of-type {\n",
              "        vertical-align: middle;\n",
              "    }\n",
              "\n",
              "    .dataframe tbody tr th {\n",
              "        vertical-align: top;\n",
              "    }\n",
              "\n",
              "    .dataframe thead th {\n",
              "        text-align: right;\n",
              "    }\n",
              "</style>\n",
              "<table border=\"1\" class=\"dataframe\">\n",
              "  <thead>\n",
              "    <tr style=\"text-align: right;\">\n",
              "      <th></th>\n",
              "      <th>PassengerId</th>\n",
              "      <th>Survived</th>\n",
              "      <th>Pclass</th>\n",
              "      <th>Sex</th>\n",
              "      <th>Age</th>\n",
              "    </tr>\n",
              "  </thead>\n",
              "  <tbody>\n",
              "    <tr>\n",
              "      <th>0</th>\n",
              "      <td>1</td>\n",
              "      <td>0</td>\n",
              "      <td>3</td>\n",
              "      <td>male</td>\n",
              "      <td>22.0</td>\n",
              "    </tr>\n",
              "    <tr>\n",
              "      <th>1</th>\n",
              "      <td>2</td>\n",
              "      <td>1</td>\n",
              "      <td>1</td>\n",
              "      <td>female</td>\n",
              "      <td>38.0</td>\n",
              "    </tr>\n",
              "    <tr>\n",
              "      <th>2</th>\n",
              "      <td>3</td>\n",
              "      <td>1</td>\n",
              "      <td>3</td>\n",
              "      <td>female</td>\n",
              "      <td>26.0</td>\n",
              "    </tr>\n",
              "    <tr>\n",
              "      <th>3</th>\n",
              "      <td>4</td>\n",
              "      <td>1</td>\n",
              "      <td>1</td>\n",
              "      <td>female</td>\n",
              "      <td>35.0</td>\n",
              "    </tr>\n",
              "    <tr>\n",
              "      <th>4</th>\n",
              "      <td>5</td>\n",
              "      <td>0</td>\n",
              "      <td>3</td>\n",
              "      <td>male</td>\n",
              "      <td>35.0</td>\n",
              "    </tr>\n",
              "    <tr>\n",
              "      <th>...</th>\n",
              "      <td>...</td>\n",
              "      <td>...</td>\n",
              "      <td>...</td>\n",
              "      <td>...</td>\n",
              "      <td>...</td>\n",
              "    </tr>\n",
              "    <tr>\n",
              "      <th>709</th>\n",
              "      <td>886</td>\n",
              "      <td>0</td>\n",
              "      <td>3</td>\n",
              "      <td>female</td>\n",
              "      <td>39.0</td>\n",
              "    </tr>\n",
              "    <tr>\n",
              "      <th>710</th>\n",
              "      <td>887</td>\n",
              "      <td>0</td>\n",
              "      <td>2</td>\n",
              "      <td>male</td>\n",
              "      <td>27.0</td>\n",
              "    </tr>\n",
              "    <tr>\n",
              "      <th>711</th>\n",
              "      <td>888</td>\n",
              "      <td>1</td>\n",
              "      <td>1</td>\n",
              "      <td>female</td>\n",
              "      <td>19.0</td>\n",
              "    </tr>\n",
              "    <tr>\n",
              "      <th>712</th>\n",
              "      <td>890</td>\n",
              "      <td>1</td>\n",
              "      <td>1</td>\n",
              "      <td>male</td>\n",
              "      <td>26.0</td>\n",
              "    </tr>\n",
              "    <tr>\n",
              "      <th>713</th>\n",
              "      <td>891</td>\n",
              "      <td>0</td>\n",
              "      <td>3</td>\n",
              "      <td>male</td>\n",
              "      <td>32.0</td>\n",
              "    </tr>\n",
              "  </tbody>\n",
              "</table>\n",
              "<p>714 rows × 5 columns</p>\n",
              "</div>\n",
              "      <button class=\"colab-df-convert\" onclick=\"convertToInteractive('df-75b51694-ad11-48cb-843a-d40656f47441')\"\n",
              "              title=\"Convert this dataframe to an interactive table.\"\n",
              "              style=\"display:none;\">\n",
              "        \n",
              "  <svg xmlns=\"http://www.w3.org/2000/svg\" height=\"24px\"viewBox=\"0 0 24 24\"\n",
              "       width=\"24px\">\n",
              "    <path d=\"M0 0h24v24H0V0z\" fill=\"none\"/>\n",
              "    <path d=\"M18.56 5.44l.94 2.06.94-2.06 2.06-.94-2.06-.94-.94-2.06-.94 2.06-2.06.94zm-11 1L8.5 8.5l.94-2.06 2.06-.94-2.06-.94L8.5 2.5l-.94 2.06-2.06.94zm10 10l.94 2.06.94-2.06 2.06-.94-2.06-.94-.94-2.06-.94 2.06-2.06.94z\"/><path d=\"M17.41 7.96l-1.37-1.37c-.4-.4-.92-.59-1.43-.59-.52 0-1.04.2-1.43.59L10.3 9.45l-7.72 7.72c-.78.78-.78 2.05 0 2.83L4 21.41c.39.39.9.59 1.41.59.51 0 1.02-.2 1.41-.59l7.78-7.78 2.81-2.81c.8-.78.8-2.07 0-2.86zM5.41 20L4 18.59l7.72-7.72 1.47 1.35L5.41 20z\"/>\n",
              "  </svg>\n",
              "      </button>\n",
              "      \n",
              "  <style>\n",
              "    .colab-df-container {\n",
              "      display:flex;\n",
              "      flex-wrap:wrap;\n",
              "      gap: 12px;\n",
              "    }\n",
              "\n",
              "    .colab-df-convert {\n",
              "      background-color: #E8F0FE;\n",
              "      border: none;\n",
              "      border-radius: 50%;\n",
              "      cursor: pointer;\n",
              "      display: none;\n",
              "      fill: #1967D2;\n",
              "      height: 32px;\n",
              "      padding: 0 0 0 0;\n",
              "      width: 32px;\n",
              "    }\n",
              "\n",
              "    .colab-df-convert:hover {\n",
              "      background-color: #E2EBFA;\n",
              "      box-shadow: 0px 1px 2px rgba(60, 64, 67, 0.3), 0px 1px 3px 1px rgba(60, 64, 67, 0.15);\n",
              "      fill: #174EA6;\n",
              "    }\n",
              "\n",
              "    [theme=dark] .colab-df-convert {\n",
              "      background-color: #3B4455;\n",
              "      fill: #D2E3FC;\n",
              "    }\n",
              "\n",
              "    [theme=dark] .colab-df-convert:hover {\n",
              "      background-color: #434B5C;\n",
              "      box-shadow: 0px 1px 3px 1px rgba(0, 0, 0, 0.15);\n",
              "      filter: drop-shadow(0px 1px 2px rgba(0, 0, 0, 0.3));\n",
              "      fill: #FFFFFF;\n",
              "    }\n",
              "  </style>\n",
              "\n",
              "      <script>\n",
              "        const buttonEl =\n",
              "          document.querySelector('#df-75b51694-ad11-48cb-843a-d40656f47441 button.colab-df-convert');\n",
              "        buttonEl.style.display =\n",
              "          google.colab.kernel.accessAllowed ? 'block' : 'none';\n",
              "\n",
              "        async function convertToInteractive(key) {\n",
              "          const element = document.querySelector('#df-75b51694-ad11-48cb-843a-d40656f47441');\n",
              "          const dataTable =\n",
              "            await google.colab.kernel.invokeFunction('convertToInteractive',\n",
              "                                                     [key], {});\n",
              "          if (!dataTable) return;\n",
              "\n",
              "          const docLinkHtml = 'Like what you see? Visit the ' +\n",
              "            '<a target=\"_blank\" href=https://colab.research.google.com/notebooks/data_table.ipynb>data table notebook</a>'\n",
              "            + ' to learn more about interactive tables.';\n",
              "          element.innerHTML = '';\n",
              "          dataTable['output_type'] = 'display_data';\n",
              "          await google.colab.output.renderOutput(dataTable, element);\n",
              "          const docLink = document.createElement('div');\n",
              "          docLink.innerHTML = docLinkHtml;\n",
              "          element.appendChild(docLink);\n",
              "        }\n",
              "      </script>\n",
              "    </div>\n",
              "  </div>\n",
              "  "
            ]
          },
          "metadata": {},
          "execution_count": 34
        }
      ]
    },
    {
      "cell_type": "code",
      "source": [
        "data.describe()"
      ],
      "metadata": {
        "colab": {
          "base_uri": "https://localhost:8080/",
          "height": 300
        },
        "id": "M47FloFNwsId",
        "outputId": "3335f6ae-8b29-4924-c3ce-7aa79d29bb44"
      },
      "execution_count": null,
      "outputs": [
        {
          "output_type": "execute_result",
          "data": {
            "text/plain": [
              "       PassengerId    Survived      Pclass         Age\n",
              "count   714.000000  714.000000  714.000000  714.000000\n",
              "mean    448.582633    0.406162    2.236695   29.699118\n",
              "std     259.119524    0.491460    0.838250   14.526497\n",
              "min       1.000000    0.000000    1.000000    0.420000\n",
              "25%     222.250000    0.000000    1.000000   20.125000\n",
              "50%     445.000000    0.000000    2.000000   28.000000\n",
              "75%     677.750000    1.000000    3.000000   38.000000\n",
              "max     891.000000    1.000000    3.000000   80.000000"
            ],
            "text/html": [
              "\n",
              "  <div id=\"df-9908d71b-9ad6-4e23-a799-51f80c90d95d\">\n",
              "    <div class=\"colab-df-container\">\n",
              "      <div>\n",
              "<style scoped>\n",
              "    .dataframe tbody tr th:only-of-type {\n",
              "        vertical-align: middle;\n",
              "    }\n",
              "\n",
              "    .dataframe tbody tr th {\n",
              "        vertical-align: top;\n",
              "    }\n",
              "\n",
              "    .dataframe thead th {\n",
              "        text-align: right;\n",
              "    }\n",
              "</style>\n",
              "<table border=\"1\" class=\"dataframe\">\n",
              "  <thead>\n",
              "    <tr style=\"text-align: right;\">\n",
              "      <th></th>\n",
              "      <th>PassengerId</th>\n",
              "      <th>Survived</th>\n",
              "      <th>Pclass</th>\n",
              "      <th>Age</th>\n",
              "    </tr>\n",
              "  </thead>\n",
              "  <tbody>\n",
              "    <tr>\n",
              "      <th>count</th>\n",
              "      <td>714.000000</td>\n",
              "      <td>714.000000</td>\n",
              "      <td>714.000000</td>\n",
              "      <td>714.000000</td>\n",
              "    </tr>\n",
              "    <tr>\n",
              "      <th>mean</th>\n",
              "      <td>448.582633</td>\n",
              "      <td>0.406162</td>\n",
              "      <td>2.236695</td>\n",
              "      <td>29.699118</td>\n",
              "    </tr>\n",
              "    <tr>\n",
              "      <th>std</th>\n",
              "      <td>259.119524</td>\n",
              "      <td>0.491460</td>\n",
              "      <td>0.838250</td>\n",
              "      <td>14.526497</td>\n",
              "    </tr>\n",
              "    <tr>\n",
              "      <th>min</th>\n",
              "      <td>1.000000</td>\n",
              "      <td>0.000000</td>\n",
              "      <td>1.000000</td>\n",
              "      <td>0.420000</td>\n",
              "    </tr>\n",
              "    <tr>\n",
              "      <th>25%</th>\n",
              "      <td>222.250000</td>\n",
              "      <td>0.000000</td>\n",
              "      <td>1.000000</td>\n",
              "      <td>20.125000</td>\n",
              "    </tr>\n",
              "    <tr>\n",
              "      <th>50%</th>\n",
              "      <td>445.000000</td>\n",
              "      <td>0.000000</td>\n",
              "      <td>2.000000</td>\n",
              "      <td>28.000000</td>\n",
              "    </tr>\n",
              "    <tr>\n",
              "      <th>75%</th>\n",
              "      <td>677.750000</td>\n",
              "      <td>1.000000</td>\n",
              "      <td>3.000000</td>\n",
              "      <td>38.000000</td>\n",
              "    </tr>\n",
              "    <tr>\n",
              "      <th>max</th>\n",
              "      <td>891.000000</td>\n",
              "      <td>1.000000</td>\n",
              "      <td>3.000000</td>\n",
              "      <td>80.000000</td>\n",
              "    </tr>\n",
              "  </tbody>\n",
              "</table>\n",
              "</div>\n",
              "      <button class=\"colab-df-convert\" onclick=\"convertToInteractive('df-9908d71b-9ad6-4e23-a799-51f80c90d95d')\"\n",
              "              title=\"Convert this dataframe to an interactive table.\"\n",
              "              style=\"display:none;\">\n",
              "        \n",
              "  <svg xmlns=\"http://www.w3.org/2000/svg\" height=\"24px\"viewBox=\"0 0 24 24\"\n",
              "       width=\"24px\">\n",
              "    <path d=\"M0 0h24v24H0V0z\" fill=\"none\"/>\n",
              "    <path d=\"M18.56 5.44l.94 2.06.94-2.06 2.06-.94-2.06-.94-.94-2.06-.94 2.06-2.06.94zm-11 1L8.5 8.5l.94-2.06 2.06-.94-2.06-.94L8.5 2.5l-.94 2.06-2.06.94zm10 10l.94 2.06.94-2.06 2.06-.94-2.06-.94-.94-2.06-.94 2.06-2.06.94z\"/><path d=\"M17.41 7.96l-1.37-1.37c-.4-.4-.92-.59-1.43-.59-.52 0-1.04.2-1.43.59L10.3 9.45l-7.72 7.72c-.78.78-.78 2.05 0 2.83L4 21.41c.39.39.9.59 1.41.59.51 0 1.02-.2 1.41-.59l7.78-7.78 2.81-2.81c.8-.78.8-2.07 0-2.86zM5.41 20L4 18.59l7.72-7.72 1.47 1.35L5.41 20z\"/>\n",
              "  </svg>\n",
              "      </button>\n",
              "      \n",
              "  <style>\n",
              "    .colab-df-container {\n",
              "      display:flex;\n",
              "      flex-wrap:wrap;\n",
              "      gap: 12px;\n",
              "    }\n",
              "\n",
              "    .colab-df-convert {\n",
              "      background-color: #E8F0FE;\n",
              "      border: none;\n",
              "      border-radius: 50%;\n",
              "      cursor: pointer;\n",
              "      display: none;\n",
              "      fill: #1967D2;\n",
              "      height: 32px;\n",
              "      padding: 0 0 0 0;\n",
              "      width: 32px;\n",
              "    }\n",
              "\n",
              "    .colab-df-convert:hover {\n",
              "      background-color: #E2EBFA;\n",
              "      box-shadow: 0px 1px 2px rgba(60, 64, 67, 0.3), 0px 1px 3px 1px rgba(60, 64, 67, 0.15);\n",
              "      fill: #174EA6;\n",
              "    }\n",
              "\n",
              "    [theme=dark] .colab-df-convert {\n",
              "      background-color: #3B4455;\n",
              "      fill: #D2E3FC;\n",
              "    }\n",
              "\n",
              "    [theme=dark] .colab-df-convert:hover {\n",
              "      background-color: #434B5C;\n",
              "      box-shadow: 0px 1px 3px 1px rgba(0, 0, 0, 0.15);\n",
              "      filter: drop-shadow(0px 1px 2px rgba(0, 0, 0, 0.3));\n",
              "      fill: #FFFFFF;\n",
              "    }\n",
              "  </style>\n",
              "\n",
              "      <script>\n",
              "        const buttonEl =\n",
              "          document.querySelector('#df-9908d71b-9ad6-4e23-a799-51f80c90d95d button.colab-df-convert');\n",
              "        buttonEl.style.display =\n",
              "          google.colab.kernel.accessAllowed ? 'block' : 'none';\n",
              "\n",
              "        async function convertToInteractive(key) {\n",
              "          const element = document.querySelector('#df-9908d71b-9ad6-4e23-a799-51f80c90d95d');\n",
              "          const dataTable =\n",
              "            await google.colab.kernel.invokeFunction('convertToInteractive',\n",
              "                                                     [key], {});\n",
              "          if (!dataTable) return;\n",
              "\n",
              "          const docLinkHtml = 'Like what you see? Visit the ' +\n",
              "            '<a target=\"_blank\" href=https://colab.research.google.com/notebooks/data_table.ipynb>data table notebook</a>'\n",
              "            + ' to learn more about interactive tables.';\n",
              "          element.innerHTML = '';\n",
              "          dataTable['output_type'] = 'display_data';\n",
              "          await google.colab.output.renderOutput(dataTable, element);\n",
              "          const docLink = document.createElement('div');\n",
              "          docLink.innerHTML = docLinkHtml;\n",
              "          element.appendChild(docLink);\n",
              "        }\n",
              "      </script>\n",
              "    </div>\n",
              "  </div>\n",
              "  "
            ]
          },
          "metadata": {},
          "execution_count": 35
        }
      ]
    },
    {
      "cell_type": "markdown",
      "source": [
        "# Let's Train Our AI! ได้เวลาทำ AI กันแล้ววว โว้ว โหว่วโฮ้ว\n",
        "จากข้อมูลสถิติของเรือไททานิค มีหลายคนเลยที่เรายังไม่มีข้อมูล\n",
        "\n",
        "แต่เราจะเทรน AI เพื่อมาคาดการณ์ว่าบุคคลเหล่านี้ จะรอด หรือจะร่วง\n",
        "\n",
        "ซึ่งในครั้งนี้เราจะใช้โมเดล Machine Learning ที่มีชื่อว่า Logistic Regression"
      ],
      "metadata": {
        "id": "vEBf1W1dDJlp"
      }
    },
    {
      "cell_type": "markdown",
      "source": [
        "### Logistric Regression คือ?\n",
        "ในนี้จะอธิบายแบบย่อ แต่ถ้าใครอยากเรียนคณิต เชิญคลิปนี้\n",
        "\n",
        "https://www.youtube.com/watch?v=yIYKR4sgzI8"
      ],
      "metadata": {
        "id": "OOZ20Z_IXFKP"
      }
    },
    {
      "cell_type": "markdown",
      "source": [
        "Logistic Regression คือการปรัป parameters a และ b ของฟังชั่น Sigmoid ให้เส้นของฟังชั่นอยู่ใกล้ข้อมูลมากที่สุด(สีเขียวๆ)\n",
        "\n",
        "เพื่อที่จะใช้คุณสมบัติของการที่ข้อมูลประเภทเดียวกัน จะเกาะตัวกันเป็นกลุ่มๆ ในการแบ่งแยกประเภทของข้อมูล\n",
        "\n",
        "แล้วตัดแบ่งเป็นclass 0,1 ด้วยเส้น Threshold เช่น มากกว่า 0.5 = class 1 (สามารถปรัป threshold ได้) \n",
        "\n",
        "\n",
        "AI = คณิต (OwO)"
      ],
      "metadata": {
        "id": "vI8Jb3ppakx3"
      }
    },
    {
      "cell_type": "markdown",
      "source": [
        "![image.png](data:image/png;base64,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)![image.png](data:image/png;base64,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)"
      ],
      "metadata": {
        "id": "pvN8dmJ4X8Zw"
      }
    },
    {
      "cell_type": "markdown",
      "source": [
        "จะเห็นว่าข้อมูลสีน้ำเงิน ที่ถูกใส่เข้ามาใหม่ จะถูกจัดให้อยู่ในประเภทเดียวกับข้อมูลไกล้ๆกัน\n",
        "\n",
        "\n",
        "โดยปกติแล้วการสร้างโมเดล Logistic Regression จะต้องปวดหัวกับคณิตศาสตร์ประมาณนึง\n",
        "\n",
        "การสร้างโมเดลเองตั้งแต่ต้นจึงเป็นเรื่องที่ลำบากมาก"
      ],
      "metadata": {
        "id": "Htvalidyb7ZX"
      }
    },
    {
      "cell_type": "markdown",
      "source": [
        "### แต่ด้วยพลังของ Library เราจึงไม่จำเป็นต้องไปทำเอง\n",
        "เช่น scikitlearn(วันนี้จะใช้), pytorch, tensorflow, fastai\n",
        "\n",
        "ซึ่งจะช่วยให้เราสามารถสร้างโมเดล Machine Learning, Deep Learning ได้โดยไม่ต้องจบ Math\n",
        "\n",
        "\n",
        "โดยในการเทรนโมเดล เราต้องการ 2 อย่าง\n",
        "\n",
        "1 Features \"คือข้อมูล\" ที่โมเดลต้องการใช้ในการตัดสินใจ\n",
        "\n",
        "2 Label \"คือคำตอบ\" ที่โมเดลใช้ในการตรวจสอบว่าตัวเองเรียนถูกมั้ย"
      ],
      "metadata": {
        "id": "gdRKeHYqcHnA"
      }
    },
    {
      "cell_type": "markdown",
      "source": [
        "### ก่อนอื่นนำเข้าข้อมูลมาก่อน"
      ],
      "metadata": {
        "id": "_W9cOO9MUc9m"
      }
    },
    {
      "cell_type": "code",
      "source": [
        "import pandas as pd\n",
        "import matplotlib.pyplot as plt"
      ],
      "metadata": {
        "id": "zNhJhbefb5Vh"
      },
      "execution_count": null,
      "outputs": []
    },
    {
      "cell_type": "code",
      "source": [
        "data = pd.read_csv('./titanicdata.csv') # ไม่มีไปโหลดมาก่อน\n",
        "data.head()"
      ],
      "metadata": {
        "colab": {
          "base_uri": "https://localhost:8080/",
          "height": 206
        },
        "id": "ramaeQbuXErk",
        "outputId": "9b6ab245-34e7-40f0-e3c2-4e33125bc441"
      },
      "execution_count": null,
      "outputs": [
        {
          "output_type": "execute_result",
          "data": {
            "text/plain": [
              "   PassengerId  Survived  Pclass     Sex   Age\n",
              "0            1         0       3    male  22.0\n",
              "1            2         1       1  female  38.0\n",
              "2            3         1       3  female  26.0\n",
              "3            4         1       1  female  35.0\n",
              "4            5         0       3    male  35.0"
            ],
            "text/html": [
              "\n",
              "  <div id=\"df-da34a811-272a-4973-b3fe-4d332f5876c0\">\n",
              "    <div class=\"colab-df-container\">\n",
              "      <div>\n",
              "<style scoped>\n",
              "    .dataframe tbody tr th:only-of-type {\n",
              "        vertical-align: middle;\n",
              "    }\n",
              "\n",
              "    .dataframe tbody tr th {\n",
              "        vertical-align: top;\n",
              "    }\n",
              "\n",
              "    .dataframe thead th {\n",
              "        text-align: right;\n",
              "    }\n",
              "</style>\n",
              "<table border=\"1\" class=\"dataframe\">\n",
              "  <thead>\n",
              "    <tr style=\"text-align: right;\">\n",
              "      <th></th>\n",
              "      <th>PassengerId</th>\n",
              "      <th>Survived</th>\n",
              "      <th>Pclass</th>\n",
              "      <th>Sex</th>\n",
              "      <th>Age</th>\n",
              "    </tr>\n",
              "  </thead>\n",
              "  <tbody>\n",
              "    <tr>\n",
              "      <th>0</th>\n",
              "      <td>1</td>\n",
              "      <td>0</td>\n",
              "      <td>3</td>\n",
              "      <td>male</td>\n",
              "      <td>22.0</td>\n",
              "    </tr>\n",
              "    <tr>\n",
              "      <th>1</th>\n",
              "      <td>2</td>\n",
              "      <td>1</td>\n",
              "      <td>1</td>\n",
              "      <td>female</td>\n",
              "      <td>38.0</td>\n",
              "    </tr>\n",
              "    <tr>\n",
              "      <th>2</th>\n",
              "      <td>3</td>\n",
              "      <td>1</td>\n",
              "      <td>3</td>\n",
              "      <td>female</td>\n",
              "      <td>26.0</td>\n",
              "    </tr>\n",
              "    <tr>\n",
              "      <th>3</th>\n",
              "      <td>4</td>\n",
              "      <td>1</td>\n",
              "      <td>1</td>\n",
              "      <td>female</td>\n",
              "      <td>35.0</td>\n",
              "    </tr>\n",
              "    <tr>\n",
              "      <th>4</th>\n",
              "      <td>5</td>\n",
              "      <td>0</td>\n",
              "      <td>3</td>\n",
              "      <td>male</td>\n",
              "      <td>35.0</td>\n",
              "    </tr>\n",
              "  </tbody>\n",
              "</table>\n",
              "</div>\n",
              "      <button class=\"colab-df-convert\" onclick=\"convertToInteractive('df-da34a811-272a-4973-b3fe-4d332f5876c0')\"\n",
              "              title=\"Convert this dataframe to an interactive table.\"\n",
              "              style=\"display:none;\">\n",
              "        \n",
              "  <svg xmlns=\"http://www.w3.org/2000/svg\" height=\"24px\"viewBox=\"0 0 24 24\"\n",
              "       width=\"24px\">\n",
              "    <path d=\"M0 0h24v24H0V0z\" fill=\"none\"/>\n",
              "    <path d=\"M18.56 5.44l.94 2.06.94-2.06 2.06-.94-2.06-.94-.94-2.06-.94 2.06-2.06.94zm-11 1L8.5 8.5l.94-2.06 2.06-.94-2.06-.94L8.5 2.5l-.94 2.06-2.06.94zm10 10l.94 2.06.94-2.06 2.06-.94-2.06-.94-.94-2.06-.94 2.06-2.06.94z\"/><path d=\"M17.41 7.96l-1.37-1.37c-.4-.4-.92-.59-1.43-.59-.52 0-1.04.2-1.43.59L10.3 9.45l-7.72 7.72c-.78.78-.78 2.05 0 2.83L4 21.41c.39.39.9.59 1.41.59.51 0 1.02-.2 1.41-.59l7.78-7.78 2.81-2.81c.8-.78.8-2.07 0-2.86zM5.41 20L4 18.59l7.72-7.72 1.47 1.35L5.41 20z\"/>\n",
              "  </svg>\n",
              "      </button>\n",
              "      \n",
              "  <style>\n",
              "    .colab-df-container {\n",
              "      display:flex;\n",
              "      flex-wrap:wrap;\n",
              "      gap: 12px;\n",
              "    }\n",
              "\n",
              "    .colab-df-convert {\n",
              "      background-color: #E8F0FE;\n",
              "      border: none;\n",
              "      border-radius: 50%;\n",
              "      cursor: pointer;\n",
              "      display: none;\n",
              "      fill: #1967D2;\n",
              "      height: 32px;\n",
              "      padding: 0 0 0 0;\n",
              "      width: 32px;\n",
              "    }\n",
              "\n",
              "    .colab-df-convert:hover {\n",
              "      background-color: #E2EBFA;\n",
              "      box-shadow: 0px 1px 2px rgba(60, 64, 67, 0.3), 0px 1px 3px 1px rgba(60, 64, 67, 0.15);\n",
              "      fill: #174EA6;\n",
              "    }\n",
              "\n",
              "    [theme=dark] .colab-df-convert {\n",
              "      background-color: #3B4455;\n",
              "      fill: #D2E3FC;\n",
              "    }\n",
              "\n",
              "    [theme=dark] .colab-df-convert:hover {\n",
              "      background-color: #434B5C;\n",
              "      box-shadow: 0px 1px 3px 1px rgba(0, 0, 0, 0.15);\n",
              "      filter: drop-shadow(0px 1px 2px rgba(0, 0, 0, 0.3));\n",
              "      fill: #FFFFFF;\n",
              "    }\n",
              "  </style>\n",
              "\n",
              "      <script>\n",
              "        const buttonEl =\n",
              "          document.querySelector('#df-da34a811-272a-4973-b3fe-4d332f5876c0 button.colab-df-convert');\n",
              "        buttonEl.style.display =\n",
              "          google.colab.kernel.accessAllowed ? 'block' : 'none';\n",
              "\n",
              "        async function convertToInteractive(key) {\n",
              "          const element = document.querySelector('#df-da34a811-272a-4973-b3fe-4d332f5876c0');\n",
              "          const dataTable =\n",
              "            await google.colab.kernel.invokeFunction('convertToInteractive',\n",
              "                                                     [key], {});\n",
              "          if (!dataTable) return;\n",
              "\n",
              "          const docLinkHtml = 'Like what you see? Visit the ' +\n",
              "            '<a target=\"_blank\" href=https://colab.research.google.com/notebooks/data_table.ipynb>data table notebook</a>'\n",
              "            + ' to learn more about interactive tables.';\n",
              "          element.innerHTML = '';\n",
              "          dataTable['output_type'] = 'display_data';\n",
              "          await google.colab.output.renderOutput(dataTable, element);\n",
              "          const docLink = document.createElement('div');\n",
              "          docLink.innerHTML = docLinkHtml;\n",
              "          element.appendChild(docLink);\n",
              "        }\n",
              "      </script>\n",
              "    </div>\n",
              "  </div>\n",
              "  "
            ]
          },
          "metadata": {},
          "execution_count": 245
        }
      ]
    },
    {
      "cell_type": "code",
      "source": [
        "# แปลงเพศเป็นตัวเลข เพราะสมการ ไม่รู้จักตัวอักษรนะครับ\n",
        "data['Sex'] = data['Sex'].map({'male':0, 'female':1})"
      ],
      "metadata": {
        "id": "WAz6nXxqXEpC"
      },
      "execution_count": null,
      "outputs": []
    },
    {
      "cell_type": "code",
      "source": [
        "data.head()"
      ],
      "metadata": {
        "colab": {
          "base_uri": "https://localhost:8080/",
          "height": 206
        },
        "id": "EYBZQLpQef4u",
        "outputId": "5c7300f9-97af-4db2-c5fe-ea51f9eb4e9e"
      },
      "execution_count": null,
      "outputs": [
        {
          "output_type": "execute_result",
          "data": {
            "text/plain": [
              "   PassengerId  Survived  Pclass  Sex   Age\n",
              "0            1         0       3    0  22.0\n",
              "1            2         1       1    1  38.0\n",
              "2            3         1       3    1  26.0\n",
              "3            4         1       1    1  35.0\n",
              "4            5         0       3    0  35.0"
            ],
            "text/html": [
              "\n",
              "  <div id=\"df-d0522959-4b43-4c0c-904d-ea7cff23e6fc\">\n",
              "    <div class=\"colab-df-container\">\n",
              "      <div>\n",
              "<style scoped>\n",
              "    .dataframe tbody tr th:only-of-type {\n",
              "        vertical-align: middle;\n",
              "    }\n",
              "\n",
              "    .dataframe tbody tr th {\n",
              "        vertical-align: top;\n",
              "    }\n",
              "\n",
              "    .dataframe thead th {\n",
              "        text-align: right;\n",
              "    }\n",
              "</style>\n",
              "<table border=\"1\" class=\"dataframe\">\n",
              "  <thead>\n",
              "    <tr style=\"text-align: right;\">\n",
              "      <th></th>\n",
              "      <th>PassengerId</th>\n",
              "      <th>Survived</th>\n",
              "      <th>Pclass</th>\n",
              "      <th>Sex</th>\n",
              "      <th>Age</th>\n",
              "    </tr>\n",
              "  </thead>\n",
              "  <tbody>\n",
              "    <tr>\n",
              "      <th>0</th>\n",
              "      <td>1</td>\n",
              "      <td>0</td>\n",
              "      <td>3</td>\n",
              "      <td>0</td>\n",
              "      <td>22.0</td>\n",
              "    </tr>\n",
              "    <tr>\n",
              "      <th>1</th>\n",
              "      <td>2</td>\n",
              "      <td>1</td>\n",
              "      <td>1</td>\n",
              "      <td>1</td>\n",
              "      <td>38.0</td>\n",
              "    </tr>\n",
              "    <tr>\n",
              "      <th>2</th>\n",
              "      <td>3</td>\n",
              "      <td>1</td>\n",
              "      <td>3</td>\n",
              "      <td>1</td>\n",
              "      <td>26.0</td>\n",
              "    </tr>\n",
              "    <tr>\n",
              "      <th>3</th>\n",
              "      <td>4</td>\n",
              "      <td>1</td>\n",
              "      <td>1</td>\n",
              "      <td>1</td>\n",
              "      <td>35.0</td>\n",
              "    </tr>\n",
              "    <tr>\n",
              "      <th>4</th>\n",
              "      <td>5</td>\n",
              "      <td>0</td>\n",
              "      <td>3</td>\n",
              "      <td>0</td>\n",
              "      <td>35.0</td>\n",
              "    </tr>\n",
              "  </tbody>\n",
              "</table>\n",
              "</div>\n",
              "      <button class=\"colab-df-convert\" onclick=\"convertToInteractive('df-d0522959-4b43-4c0c-904d-ea7cff23e6fc')\"\n",
              "              title=\"Convert this dataframe to an interactive table.\"\n",
              "              style=\"display:none;\">\n",
              "        \n",
              "  <svg xmlns=\"http://www.w3.org/2000/svg\" height=\"24px\"viewBox=\"0 0 24 24\"\n",
              "       width=\"24px\">\n",
              "    <path d=\"M0 0h24v24H0V0z\" fill=\"none\"/>\n",
              "    <path d=\"M18.56 5.44l.94 2.06.94-2.06 2.06-.94-2.06-.94-.94-2.06-.94 2.06-2.06.94zm-11 1L8.5 8.5l.94-2.06 2.06-.94-2.06-.94L8.5 2.5l-.94 2.06-2.06.94zm10 10l.94 2.06.94-2.06 2.06-.94-2.06-.94-.94-2.06-.94 2.06-2.06.94z\"/><path d=\"M17.41 7.96l-1.37-1.37c-.4-.4-.92-.59-1.43-.59-.52 0-1.04.2-1.43.59L10.3 9.45l-7.72 7.72c-.78.78-.78 2.05 0 2.83L4 21.41c.39.39.9.59 1.41.59.51 0 1.02-.2 1.41-.59l7.78-7.78 2.81-2.81c.8-.78.8-2.07 0-2.86zM5.41 20L4 18.59l7.72-7.72 1.47 1.35L5.41 20z\"/>\n",
              "  </svg>\n",
              "      </button>\n",
              "      \n",
              "  <style>\n",
              "    .colab-df-container {\n",
              "      display:flex;\n",
              "      flex-wrap:wrap;\n",
              "      gap: 12px;\n",
              "    }\n",
              "\n",
              "    .colab-df-convert {\n",
              "      background-color: #E8F0FE;\n",
              "      border: none;\n",
              "      border-radius: 50%;\n",
              "      cursor: pointer;\n",
              "      display: none;\n",
              "      fill: #1967D2;\n",
              "      height: 32px;\n",
              "      padding: 0 0 0 0;\n",
              "      width: 32px;\n",
              "    }\n",
              "\n",
              "    .colab-df-convert:hover {\n",
              "      background-color: #E2EBFA;\n",
              "      box-shadow: 0px 1px 2px rgba(60, 64, 67, 0.3), 0px 1px 3px 1px rgba(60, 64, 67, 0.15);\n",
              "      fill: #174EA6;\n",
              "    }\n",
              "\n",
              "    [theme=dark] .colab-df-convert {\n",
              "      background-color: #3B4455;\n",
              "      fill: #D2E3FC;\n",
              "    }\n",
              "\n",
              "    [theme=dark] .colab-df-convert:hover {\n",
              "      background-color: #434B5C;\n",
              "      box-shadow: 0px 1px 3px 1px rgba(0, 0, 0, 0.15);\n",
              "      filter: drop-shadow(0px 1px 2px rgba(0, 0, 0, 0.3));\n",
              "      fill: #FFFFFF;\n",
              "    }\n",
              "  </style>\n",
              "\n",
              "      <script>\n",
              "        const buttonEl =\n",
              "          document.querySelector('#df-d0522959-4b43-4c0c-904d-ea7cff23e6fc button.colab-df-convert');\n",
              "        buttonEl.style.display =\n",
              "          google.colab.kernel.accessAllowed ? 'block' : 'none';\n",
              "\n",
              "        async function convertToInteractive(key) {\n",
              "          const element = document.querySelector('#df-d0522959-4b43-4c0c-904d-ea7cff23e6fc');\n",
              "          const dataTable =\n",
              "            await google.colab.kernel.invokeFunction('convertToInteractive',\n",
              "                                                     [key], {});\n",
              "          if (!dataTable) return;\n",
              "\n",
              "          const docLinkHtml = 'Like what you see? Visit the ' +\n",
              "            '<a target=\"_blank\" href=https://colab.research.google.com/notebooks/data_table.ipynb>data table notebook</a>'\n",
              "            + ' to learn more about interactive tables.';\n",
              "          element.innerHTML = '';\n",
              "          dataTable['output_type'] = 'display_data';\n",
              "          await google.colab.output.renderOutput(dataTable, element);\n",
              "          const docLink = document.createElement('div');\n",
              "          docLink.innerHTML = docLinkHtml;\n",
              "          element.appendChild(docLink);\n",
              "        }\n",
              "      </script>\n",
              "    </div>\n",
              "  </div>\n",
              "  "
            ]
          },
          "metadata": {},
          "execution_count": 247
        }
      ]
    },
    {
      "cell_type": "code",
      "source": [
        "features = data.drop(['PassengerId', 'Survived'], axis=1) # ทิ้ง collumns Survive ที่บอกว่ารอดไม่รอด\n",
        "label = data['Survived'] # แล้งแยกมาอยู่อีกตัวแปรนึงแทน"
      ],
      "metadata": {
        "id": "hZgeYGbEeGjK"
      },
      "execution_count": null,
      "outputs": []
    },
    {
      "cell_type": "code",
      "source": [
        "features['Age'] = features['Age']/10"
      ],
      "metadata": {
        "id": "ps0SkFTMS46K"
      },
      "execution_count": null,
      "outputs": []
    },
    {
      "cell_type": "code",
      "source": [
        "features.head()"
      ],
      "metadata": {
        "colab": {
          "base_uri": "https://localhost:8080/",
          "height": 206
        },
        "id": "KIPHDjuVuMGP",
        "outputId": "77d492cf-a16e-405f-acd2-d2c744ebd48d"
      },
      "execution_count": null,
      "outputs": [
        {
          "output_type": "execute_result",
          "data": {
            "text/plain": [
              "   Pclass  Sex  Age\n",
              "0       3    0  2.2\n",
              "1       1    1  3.8\n",
              "2       3    1  2.6\n",
              "3       1    1  3.5\n",
              "4       3    0  3.5"
            ],
            "text/html": [
              "\n",
              "  <div id=\"df-c3daa365-9c1c-4712-afdb-d43e2aa5359f\">\n",
              "    <div class=\"colab-df-container\">\n",
              "      <div>\n",
              "<style scoped>\n",
              "    .dataframe tbody tr th:only-of-type {\n",
              "        vertical-align: middle;\n",
              "    }\n",
              "\n",
              "    .dataframe tbody tr th {\n",
              "        vertical-align: top;\n",
              "    }\n",
              "\n",
              "    .dataframe thead th {\n",
              "        text-align: right;\n",
              "    }\n",
              "</style>\n",
              "<table border=\"1\" class=\"dataframe\">\n",
              "  <thead>\n",
              "    <tr style=\"text-align: right;\">\n",
              "      <th></th>\n",
              "      <th>Pclass</th>\n",
              "      <th>Sex</th>\n",
              "      <th>Age</th>\n",
              "    </tr>\n",
              "  </thead>\n",
              "  <tbody>\n",
              "    <tr>\n",
              "      <th>0</th>\n",
              "      <td>3</td>\n",
              "      <td>0</td>\n",
              "      <td>2.2</td>\n",
              "    </tr>\n",
              "    <tr>\n",
              "      <th>1</th>\n",
              "      <td>1</td>\n",
              "      <td>1</td>\n",
              "      <td>3.8</td>\n",
              "    </tr>\n",
              "    <tr>\n",
              "      <th>2</th>\n",
              "      <td>3</td>\n",
              "      <td>1</td>\n",
              "      <td>2.6</td>\n",
              "    </tr>\n",
              "    <tr>\n",
              "      <th>3</th>\n",
              "      <td>1</td>\n",
              "      <td>1</td>\n",
              "      <td>3.5</td>\n",
              "    </tr>\n",
              "    <tr>\n",
              "      <th>4</th>\n",
              "      <td>3</td>\n",
              "      <td>0</td>\n",
              "      <td>3.5</td>\n",
              "    </tr>\n",
              "  </tbody>\n",
              "</table>\n",
              "</div>\n",
              "      <button class=\"colab-df-convert\" onclick=\"convertToInteractive('df-c3daa365-9c1c-4712-afdb-d43e2aa5359f')\"\n",
              "              title=\"Convert this dataframe to an interactive table.\"\n",
              "              style=\"display:none;\">\n",
              "        \n",
              "  <svg xmlns=\"http://www.w3.org/2000/svg\" height=\"24px\"viewBox=\"0 0 24 24\"\n",
              "       width=\"24px\">\n",
              "    <path d=\"M0 0h24v24H0V0z\" fill=\"none\"/>\n",
              "    <path d=\"M18.56 5.44l.94 2.06.94-2.06 2.06-.94-2.06-.94-.94-2.06-.94 2.06-2.06.94zm-11 1L8.5 8.5l.94-2.06 2.06-.94-2.06-.94L8.5 2.5l-.94 2.06-2.06.94zm10 10l.94 2.06.94-2.06 2.06-.94-2.06-.94-.94-2.06-.94 2.06-2.06.94z\"/><path d=\"M17.41 7.96l-1.37-1.37c-.4-.4-.92-.59-1.43-.59-.52 0-1.04.2-1.43.59L10.3 9.45l-7.72 7.72c-.78.78-.78 2.05 0 2.83L4 21.41c.39.39.9.59 1.41.59.51 0 1.02-.2 1.41-.59l7.78-7.78 2.81-2.81c.8-.78.8-2.07 0-2.86zM5.41 20L4 18.59l7.72-7.72 1.47 1.35L5.41 20z\"/>\n",
              "  </svg>\n",
              "      </button>\n",
              "      \n",
              "  <style>\n",
              "    .colab-df-container {\n",
              "      display:flex;\n",
              "      flex-wrap:wrap;\n",
              "      gap: 12px;\n",
              "    }\n",
              "\n",
              "    .colab-df-convert {\n",
              "      background-color: #E8F0FE;\n",
              "      border: none;\n",
              "      border-radius: 50%;\n",
              "      cursor: pointer;\n",
              "      display: none;\n",
              "      fill: #1967D2;\n",
              "      height: 32px;\n",
              "      padding: 0 0 0 0;\n",
              "      width: 32px;\n",
              "    }\n",
              "\n",
              "    .colab-df-convert:hover {\n",
              "      background-color: #E2EBFA;\n",
              "      box-shadow: 0px 1px 2px rgba(60, 64, 67, 0.3), 0px 1px 3px 1px rgba(60, 64, 67, 0.15);\n",
              "      fill: #174EA6;\n",
              "    }\n",
              "\n",
              "    [theme=dark] .colab-df-convert {\n",
              "      background-color: #3B4455;\n",
              "      fill: #D2E3FC;\n",
              "    }\n",
              "\n",
              "    [theme=dark] .colab-df-convert:hover {\n",
              "      background-color: #434B5C;\n",
              "      box-shadow: 0px 1px 3px 1px rgba(0, 0, 0, 0.15);\n",
              "      filter: drop-shadow(0px 1px 2px rgba(0, 0, 0, 0.3));\n",
              "      fill: #FFFFFF;\n",
              "    }\n",
              "  </style>\n",
              "\n",
              "      <script>\n",
              "        const buttonEl =\n",
              "          document.querySelector('#df-c3daa365-9c1c-4712-afdb-d43e2aa5359f button.colab-df-convert');\n",
              "        buttonEl.style.display =\n",
              "          google.colab.kernel.accessAllowed ? 'block' : 'none';\n",
              "\n",
              "        async function convertToInteractive(key) {\n",
              "          const element = document.querySelector('#df-c3daa365-9c1c-4712-afdb-d43e2aa5359f');\n",
              "          const dataTable =\n",
              "            await google.colab.kernel.invokeFunction('convertToInteractive',\n",
              "                                                     [key], {});\n",
              "          if (!dataTable) return;\n",
              "\n",
              "          const docLinkHtml = 'Like what you see? Visit the ' +\n",
              "            '<a target=\"_blank\" href=https://colab.research.google.com/notebooks/data_table.ipynb>data table notebook</a>'\n",
              "            + ' to learn more about interactive tables.';\n",
              "          element.innerHTML = '';\n",
              "          dataTable['output_type'] = 'display_data';\n",
              "          await google.colab.output.renderOutput(dataTable, element);\n",
              "          const docLink = document.createElement('div');\n",
              "          docLink.innerHTML = docLinkHtml;\n",
              "          element.appendChild(docLink);\n",
              "        }\n",
              "      </script>\n",
              "    </div>\n",
              "  </div>\n",
              "  "
            ]
          },
          "metadata": {},
          "execution_count": 250
        }
      ]
    },
    {
      "cell_type": "code",
      "source": [
        "features"
      ],
      "metadata": {
        "colab": {
          "base_uri": "https://localhost:8080/",
          "height": 424
        },
        "id": "xkzr_dAWv4Zw",
        "outputId": "16f422d8-9c7a-4ef5-bca9-d300533401c3"
      },
      "execution_count": null,
      "outputs": [
        {
          "output_type": "execute_result",
          "data": {
            "text/plain": [
              "     Pclass  Sex  Age\n",
              "0         3    0  2.2\n",
              "1         1    1  3.8\n",
              "2         3    1  2.6\n",
              "3         1    1  3.5\n",
              "4         3    0  3.5\n",
              "..      ...  ...  ...\n",
              "709       3    1  3.9\n",
              "710       2    0  2.7\n",
              "711       1    1  1.9\n",
              "712       1    0  2.6\n",
              "713       3    0  3.2\n",
              "\n",
              "[714 rows x 3 columns]"
            ],
            "text/html": [
              "\n",
              "  <div id=\"df-9d4f8d82-3d38-43ad-bb9e-57a3d251fe28\">\n",
              "    <div class=\"colab-df-container\">\n",
              "      <div>\n",
              "<style scoped>\n",
              "    .dataframe tbody tr th:only-of-type {\n",
              "        vertical-align: middle;\n",
              "    }\n",
              "\n",
              "    .dataframe tbody tr th {\n",
              "        vertical-align: top;\n",
              "    }\n",
              "\n",
              "    .dataframe thead th {\n",
              "        text-align: right;\n",
              "    }\n",
              "</style>\n",
              "<table border=\"1\" class=\"dataframe\">\n",
              "  <thead>\n",
              "    <tr style=\"text-align: right;\">\n",
              "      <th></th>\n",
              "      <th>Pclass</th>\n",
              "      <th>Sex</th>\n",
              "      <th>Age</th>\n",
              "    </tr>\n",
              "  </thead>\n",
              "  <tbody>\n",
              "    <tr>\n",
              "      <th>0</th>\n",
              "      <td>3</td>\n",
              "      <td>0</td>\n",
              "      <td>2.2</td>\n",
              "    </tr>\n",
              "    <tr>\n",
              "      <th>1</th>\n",
              "      <td>1</td>\n",
              "      <td>1</td>\n",
              "      <td>3.8</td>\n",
              "    </tr>\n",
              "    <tr>\n",
              "      <th>2</th>\n",
              "      <td>3</td>\n",
              "      <td>1</td>\n",
              "      <td>2.6</td>\n",
              "    </tr>\n",
              "    <tr>\n",
              "      <th>3</th>\n",
              "      <td>1</td>\n",
              "      <td>1</td>\n",
              "      <td>3.5</td>\n",
              "    </tr>\n",
              "    <tr>\n",
              "      <th>4</th>\n",
              "      <td>3</td>\n",
              "      <td>0</td>\n",
              "      <td>3.5</td>\n",
              "    </tr>\n",
              "    <tr>\n",
              "      <th>...</th>\n",
              "      <td>...</td>\n",
              "      <td>...</td>\n",
              "      <td>...</td>\n",
              "    </tr>\n",
              "    <tr>\n",
              "      <th>709</th>\n",
              "      <td>3</td>\n",
              "      <td>1</td>\n",
              "      <td>3.9</td>\n",
              "    </tr>\n",
              "    <tr>\n",
              "      <th>710</th>\n",
              "      <td>2</td>\n",
              "      <td>0</td>\n",
              "      <td>2.7</td>\n",
              "    </tr>\n",
              "    <tr>\n",
              "      <th>711</th>\n",
              "      <td>1</td>\n",
              "      <td>1</td>\n",
              "      <td>1.9</td>\n",
              "    </tr>\n",
              "    <tr>\n",
              "      <th>712</th>\n",
              "      <td>1</td>\n",
              "      <td>0</td>\n",
              "      <td>2.6</td>\n",
              "    </tr>\n",
              "    <tr>\n",
              "      <th>713</th>\n",
              "      <td>3</td>\n",
              "      <td>0</td>\n",
              "      <td>3.2</td>\n",
              "    </tr>\n",
              "  </tbody>\n",
              "</table>\n",
              "<p>714 rows × 3 columns</p>\n",
              "</div>\n",
              "      <button class=\"colab-df-convert\" onclick=\"convertToInteractive('df-9d4f8d82-3d38-43ad-bb9e-57a3d251fe28')\"\n",
              "              title=\"Convert this dataframe to an interactive table.\"\n",
              "              style=\"display:none;\">\n",
              "        \n",
              "  <svg xmlns=\"http://www.w3.org/2000/svg\" height=\"24px\"viewBox=\"0 0 24 24\"\n",
              "       width=\"24px\">\n",
              "    <path d=\"M0 0h24v24H0V0z\" fill=\"none\"/>\n",
              "    <path d=\"M18.56 5.44l.94 2.06.94-2.06 2.06-.94-2.06-.94-.94-2.06-.94 2.06-2.06.94zm-11 1L8.5 8.5l.94-2.06 2.06-.94-2.06-.94L8.5 2.5l-.94 2.06-2.06.94zm10 10l.94 2.06.94-2.06 2.06-.94-2.06-.94-.94-2.06-.94 2.06-2.06.94z\"/><path d=\"M17.41 7.96l-1.37-1.37c-.4-.4-.92-.59-1.43-.59-.52 0-1.04.2-1.43.59L10.3 9.45l-7.72 7.72c-.78.78-.78 2.05 0 2.83L4 21.41c.39.39.9.59 1.41.59.51 0 1.02-.2 1.41-.59l7.78-7.78 2.81-2.81c.8-.78.8-2.07 0-2.86zM5.41 20L4 18.59l7.72-7.72 1.47 1.35L5.41 20z\"/>\n",
              "  </svg>\n",
              "      </button>\n",
              "      \n",
              "  <style>\n",
              "    .colab-df-container {\n",
              "      display:flex;\n",
              "      flex-wrap:wrap;\n",
              "      gap: 12px;\n",
              "    }\n",
              "\n",
              "    .colab-df-convert {\n",
              "      background-color: #E8F0FE;\n",
              "      border: none;\n",
              "      border-radius: 50%;\n",
              "      cursor: pointer;\n",
              "      display: none;\n",
              "      fill: #1967D2;\n",
              "      height: 32px;\n",
              "      padding: 0 0 0 0;\n",
              "      width: 32px;\n",
              "    }\n",
              "\n",
              "    .colab-df-convert:hover {\n",
              "      background-color: #E2EBFA;\n",
              "      box-shadow: 0px 1px 2px rgba(60, 64, 67, 0.3), 0px 1px 3px 1px rgba(60, 64, 67, 0.15);\n",
              "      fill: #174EA6;\n",
              "    }\n",
              "\n",
              "    [theme=dark] .colab-df-convert {\n",
              "      background-color: #3B4455;\n",
              "      fill: #D2E3FC;\n",
              "    }\n",
              "\n",
              "    [theme=dark] .colab-df-convert:hover {\n",
              "      background-color: #434B5C;\n",
              "      box-shadow: 0px 1px 3px 1px rgba(0, 0, 0, 0.15);\n",
              "      filter: drop-shadow(0px 1px 2px rgba(0, 0, 0, 0.3));\n",
              "      fill: #FFFFFF;\n",
              "    }\n",
              "  </style>\n",
              "\n",
              "      <script>\n",
              "        const buttonEl =\n",
              "          document.querySelector('#df-9d4f8d82-3d38-43ad-bb9e-57a3d251fe28 button.colab-df-convert');\n",
              "        buttonEl.style.display =\n",
              "          google.colab.kernel.accessAllowed ? 'block' : 'none';\n",
              "\n",
              "        async function convertToInteractive(key) {\n",
              "          const element = document.querySelector('#df-9d4f8d82-3d38-43ad-bb9e-57a3d251fe28');\n",
              "          const dataTable =\n",
              "            await google.colab.kernel.invokeFunction('convertToInteractive',\n",
              "                                                     [key], {});\n",
              "          if (!dataTable) return;\n",
              "\n",
              "          const docLinkHtml = 'Like what you see? Visit the ' +\n",
              "            '<a target=\"_blank\" href=https://colab.research.google.com/notebooks/data_table.ipynb>data table notebook</a>'\n",
              "            + ' to learn more about interactive tables.';\n",
              "          element.innerHTML = '';\n",
              "          dataTable['output_type'] = 'display_data';\n",
              "          await google.colab.output.renderOutput(dataTable, element);\n",
              "          const docLink = document.createElement('div');\n",
              "          docLink.innerHTML = docLinkHtml;\n",
              "          element.appendChild(docLink);\n",
              "        }\n",
              "      </script>\n",
              "    </div>\n",
              "  </div>\n",
              "  "
            ]
          },
          "metadata": {},
          "execution_count": 252
        }
      ]
    },
    {
      "cell_type": "code",
      "source": [
        "# เอาไว้แบ่งข้อมูล เป็นชุดฝึก กับชุดทดสอบ เหมือนฝึกทำข้อสอบเดิมไปเรื่อยๆ แล้วไปลองกับข้อสอบที่ไม่เคยทำ ว่าทำได้จริงมั้ย\n",
        "from sklearn.model_selection import train_test_split\n",
        "\n",
        "#แบ่ง (ข้อสอบฝึก, ข้อสอบทดสอบ , เฉลย, เฉลย) โดยให้อัตราส่วนข้อสอบเฉลย = 0.20 หรือ 20% และมี seed ค่าสุ่ม 69420(กันผลลัพท์เปลี่ยน เหมือน seed minecraft)\n",
        "x_train, x_test, y_train, y_test = train_test_split(features, label, test_size=0.20, random_state=69420)"
      ],
      "metadata": {
        "id": "evdK-tA0DPyq"
      },
      "execution_count": null,
      "outputs": []
    },
    {
      "cell_type": "markdown",
      "source": [
        "### เทรนโมเดล"
      ],
      "metadata": {
        "id": "3PdK8Y7Jf82O"
      }
    },
    {
      "cell_type": "code",
      "source": [
        "# import the class\n",
        "from sklearn.linear_model import LogisticRegression\n",
        "\n",
        "# สร้างโมเดล(ยังไม่เทรน), ตั้งค่าสุดไว้ที่ 69420(เลขอะไรก็ได้) เพื่อให้มันใจว่าผลลัพทืจะเหมือนเดิม(เหมือน set seed minecraft)\n",
        "model = LogisticRegression(random_state=69420)\n",
        "\n",
        "# ฝึกโมเดลกับข้อมูล\n",
        "model.fit(x_train, y_train)\n",
        "\n",
        "prediction = model.predict(x_test)"
      ],
      "metadata": {
        "id": "50QheA70f0lZ"
      },
      "execution_count": null,
      "outputs": []
    },
    {
      "cell_type": "code",
      "source": [
        "from sklearn.metrics import classification_report\n",
        "target_names = ['ตาย', 'รอด']\n",
        "print(classification_report(y_test, prediction, target_names=target_names))"
      ],
      "metadata": {
        "colab": {
          "base_uri": "https://localhost:8080/"
        },
        "id": "mM6buf2_f-sJ",
        "outputId": "8c00ce6f-2348-41d1-9bd1-438780d2dc5e"
      },
      "execution_count": null,
      "outputs": [
        {
          "output_type": "stream",
          "name": "stdout",
          "text": [
            "              precision    recall  f1-score   support\n",
            "\n",
            "         ตาย       0.82      0.90      0.86        88\n",
            "         รอด       0.81      0.69      0.75        55\n",
            "\n",
            "    accuracy                           0.82       143\n",
            "   macro avg       0.82      0.79      0.80       143\n",
            "weighted avg       0.82      0.82      0.82       143\n",
            "\n"
          ]
        }
      ]
    },
    {
      "cell_type": "markdown",
      "source": [
        "### มาดูกันว่าตอบผิดหรือถูกเท่าไหร่ยังไงบ้าง ด้วย Confusion Matrix"
      ],
      "metadata": {
        "id": "sAvy1DxihkRy"
      }
    },
    {
      "cell_type": "code",
      "source": [
        "import seaborn as sns # เอาไว้พลีอตกราฟ คล้ายๆ matplotlib\n",
        "from sklearn.metrics import confusion_matrix\n",
        "\n",
        "# สร้าง confusion matrix\n",
        "cf_matrix = confusion_matrix(y_test, prediction)\n",
        "ax = sns.heatmap(cf_matrix, annot=True, cmap='Blues')\n",
        "\n",
        "# ตั้งข้อความเฉยๆ\n",
        "ax.set_xlabel('\\nPredicted Values')\n",
        "ax.set_ylabel('Actual Values ');\n",
        "\n",
        "## ตั้งข้อความว่า class ไหนเป็นอะไร(ให้ตัวเองไม่งง)\n",
        "ax.xaxis.set_ticklabels(['Die','Survive'])\n",
        "ax.yaxis.set_ticklabels(['Die','Survive'])\n",
        "\n",
        "## โชว์เป็นรูป\n",
        "plt.show()"
      ],
      "metadata": {
        "colab": {
          "base_uri": "https://localhost:8080/",
          "height": 291
        },
        "id": "7cAdCyHOhfWX",
        "outputId": "387fcbc7-4252-4754-8112-96f465114fdb"
      },
      "execution_count": null,
      "outputs": [
        {
          "output_type": "display_data",
          "data": {
            "text/plain": [
              "<Figure size 432x288 with 2 Axes>"
            ],
            "image/png": "[encoded data removed]"
          },
          "metadata": {
            "needs_background": "light"
          }
        }
      ]
    },
    {
      "cell_type": "markdown",
      "source": [
        "# ลองเทรนโมเดลกับชุดข้อมูลอื่นดู\n",
        "ชุดข้อมูลนี้ มีเยื้อหาเกี่ยวกับการเรียนต่อมหาวิทยาลัย\n",
        "\n",
        "โดยมีข้อมูลเกี่ยวกับเด็กที่จะเข้า และไม่เข้ามหาวิทยาลัย\n",
        "\n",
        "ให้เราใช้ข้อมูลนี้ ในการสร้างโมเดล เพื่อคาดการณ์ว่าใครจะเข้า หรือไม่เข้ามหาลัย"
      ],
      "metadata": {
        "id": "aeWoddoojeA9"
      }
    },
    {
      "cell_type": "code",
      "source": [
        "import pandas as pd"
      ],
      "metadata": {
        "id": "rANg_yBygDWK"
      },
      "execution_count": null,
      "outputs": []
    },
    {
      "cell_type": "code",
      "source": [
        "data = pd.read_csv('./collegedata.csv')\n",
        "data.head()"
      ],
      "metadata": {
        "colab": {
          "base_uri": "https://localhost:8080/",
          "height": 270
        },
        "id": "tpuNUusDkEm6",
        "outputId": "3d2cd6c4-f24a-4053-ee2d-165d5b00b587"
      },
      "execution_count": null,
      "outputs": [
        {
          "output_type": "execute_result",
          "data": {
            "text/plain": [
              "     academic  goodschool  gender  interest  liveintown  parent_age  \\\n",
              "0    Academic           1    Male         1           1          56   \n",
              "1    Academic           1    Male         1           1          57   \n",
              "2    Academic           0  Female         4           1          50   \n",
              "3  Vocational           0    Male         4           0          49   \n",
              "4    Academic           1  Female         4           1          57   \n",
              "\n",
              "   parent_salary  house_area  average_grades  parent_was_in_college  \\\n",
              "0        6950000        83.0           84.09                      0   \n",
              "1        4410000        76.8           86.91                      0   \n",
              "2        6500000        80.6           87.43                      0   \n",
              "3        6600000        78.2           82.12                      1   \n",
              "4        5250000        75.1           86.79                      0   \n",
              "\n",
              "   will_go_to_college  \n",
              "0                   1  \n",
              "1                   1  \n",
              "2                   1  \n",
              "3                   1  \n",
              "4                   0  "
            ],
            "text/html": [
              "\n",
              "  <div id=\"df-223e445d-7ff3-425d-80ef-dff28540bc83\">\n",
              "    <div class=\"colab-df-container\">\n",
              "      <div>\n",
              "<style scoped>\n",
              "    .dataframe tbody tr th:only-of-type {\n",
              "        vertical-align: middle;\n",
              "    }\n",
              "\n",
              "    .dataframe tbody tr th {\n",
              "        vertical-align: top;\n",
              "    }\n",
              "\n",
              "    .dataframe thead th {\n",
              "        text-align: right;\n",
              "    }\n",
              "</style>\n",
              "<table border=\"1\" class=\"dataframe\">\n",
              "  <thead>\n",
              "    <tr style=\"text-align: right;\">\n",
              "      <th></th>\n",
              "      <th>academic</th>\n",
              "      <th>goodschool</th>\n",
              "      <th>gender</th>\n",
              "      <th>interest</th>\n",
              "      <th>liveintown</th>\n",
              "      <th>parent_age</th>\n",
              "      <th>parent_salary</th>\n",
              "      <th>house_area</th>\n",
              "      <th>average_grades</th>\n",
              "      <th>parent_was_in_college</th>\n",
              "      <th>will_go_to_college</th>\n",
              "    </tr>\n",
              "  </thead>\n",
              "  <tbody>\n",
              "    <tr>\n",
              "      <th>0</th>\n",
              "      <td>Academic</td>\n",
              "      <td>1</td>\n",
              "      <td>Male</td>\n",
              "      <td>1</td>\n",
              "      <td>1</td>\n",
              "      <td>56</td>\n",
              "      <td>6950000</td>\n",
              "      <td>83.0</td>\n",
              "      <td>84.09</td>\n",
              "      <td>0</td>\n",
              "      <td>1</td>\n",
              "    </tr>\n",
              "    <tr>\n",
              "      <th>1</th>\n",
              "      <td>Academic</td>\n",
              "      <td>1</td>\n",
              "      <td>Male</td>\n",
              "      <td>1</td>\n",
              "      <td>1</td>\n",
              "      <td>57</td>\n",
              "      <td>4410000</td>\n",
              "      <td>76.8</td>\n",
              "      <td>86.91</td>\n",
              "      <td>0</td>\n",
              "      <td>1</td>\n",
              "    </tr>\n",
              "    <tr>\n",
              "      <th>2</th>\n",
              "      <td>Academic</td>\n",
              "      <td>0</td>\n",
              "      <td>Female</td>\n",
              "      <td>4</td>\n",
              "      <td>1</td>\n",
              "      <td>50</td>\n",
              "      <td>6500000</td>\n",
              "      <td>80.6</td>\n",
              "      <td>87.43</td>\n",
              "      <td>0</td>\n",
              "      <td>1</td>\n",
              "    </tr>\n",
              "    <tr>\n",
              "      <th>3</th>\n",
              "      <td>Vocational</td>\n",
              "      <td>0</td>\n",
              "      <td>Male</td>\n",
              "      <td>4</td>\n",
              "      <td>0</td>\n",
              "      <td>49</td>\n",
              "      <td>6600000</td>\n",
              "      <td>78.2</td>\n",
              "      <td>82.12</td>\n",
              "      <td>1</td>\n",
              "      <td>1</td>\n",
              "    </tr>\n",
              "    <tr>\n",
              "      <th>4</th>\n",
              "      <td>Academic</td>\n",
              "      <td>1</td>\n",
              "      <td>Female</td>\n",
              "      <td>4</td>\n",
              "      <td>1</td>\n",
              "      <td>57</td>\n",
              "      <td>5250000</td>\n",
              "      <td>75.1</td>\n",
              "      <td>86.79</td>\n",
              "      <td>0</td>\n",
              "      <td>0</td>\n",
              "    </tr>\n",
              "  </tbody>\n",
              "</table>\n",
              "</div>\n",
              "      <button class=\"colab-df-convert\" onclick=\"convertToInteractive('df-223e445d-7ff3-425d-80ef-dff28540bc83')\"\n",
              "              title=\"Convert this dataframe to an interactive table.\"\n",
              "              style=\"display:none;\">\n",
              "        \n",
              "  <svg xmlns=\"http://www.w3.org/2000/svg\" height=\"24px\"viewBox=\"0 0 24 24\"\n",
              "       width=\"24px\">\n",
              "    <path d=\"M0 0h24v24H0V0z\" fill=\"none\"/>\n",
              "    <path d=\"M18.56 5.44l.94 2.06.94-2.06 2.06-.94-2.06-.94-.94-2.06-.94 2.06-2.06.94zm-11 1L8.5 8.5l.94-2.06 2.06-.94-2.06-.94L8.5 2.5l-.94 2.06-2.06.94zm10 10l.94 2.06.94-2.06 2.06-.94-2.06-.94-.94-2.06-.94 2.06-2.06.94z\"/><path d=\"M17.41 7.96l-1.37-1.37c-.4-.4-.92-.59-1.43-.59-.52 0-1.04.2-1.43.59L10.3 9.45l-7.72 7.72c-.78.78-.78 2.05 0 2.83L4 21.41c.39.39.9.59 1.41.59.51 0 1.02-.2 1.41-.59l7.78-7.78 2.81-2.81c.8-.78.8-2.07 0-2.86zM5.41 20L4 18.59l7.72-7.72 1.47 1.35L5.41 20z\"/>\n",
              "  </svg>\n",
              "      </button>\n",
              "      \n",
              "  <style>\n",
              "    .colab-df-container {\n",
              "      display:flex;\n",
              "      flex-wrap:wrap;\n",
              "      gap: 12px;\n",
              "    }\n",
              "\n",
              "    .colab-df-convert {\n",
              "      background-color: #E8F0FE;\n",
              "      border: none;\n",
              "      border-radius: 50%;\n",
              "      cursor: pointer;\n",
              "      display: none;\n",
              "      fill: #1967D2;\n",
              "      height: 32px;\n",
              "      padding: 0 0 0 0;\n",
              "      width: 32px;\n",
              "    }\n",
              "\n",
              "    .colab-df-convert:hover {\n",
              "      background-color: #E2EBFA;\n",
              "      box-shadow: 0px 1px 2px rgba(60, 64, 67, 0.3), 0px 1px 3px 1px rgba(60, 64, 67, 0.15);\n",
              "      fill: #174EA6;\n",
              "    }\n",
              "\n",
              "    [theme=dark] .colab-df-convert {\n",
              "      background-color: #3B4455;\n",
              "      fill: #D2E3FC;\n",
              "    }\n",
              "\n",
              "    [theme=dark] .colab-df-convert:hover {\n",
              "      background-color: #434B5C;\n",
              "      box-shadow: 0px 1px 3px 1px rgba(0, 0, 0, 0.15);\n",
              "      filter: drop-shadow(0px 1px 2px rgba(0, 0, 0, 0.3));\n",
              "      fill: #FFFFFF;\n",
              "    }\n",
              "  </style>\n",
              "\n",
              "      <script>\n",
              "        const buttonEl =\n",
              "          document.querySelector('#df-223e445d-7ff3-425d-80ef-dff28540bc83 button.colab-df-convert');\n",
              "        buttonEl.style.display =\n",
              "          google.colab.kernel.accessAllowed ? 'block' : 'none';\n",
              "\n",
              "        async function convertToInteractive(key) {\n",
              "          const element = document.querySelector('#df-223e445d-7ff3-425d-80ef-dff28540bc83');\n",
              "          const dataTable =\n",
              "            await google.colab.kernel.invokeFunction('convertToInteractive',\n",
              "                                                     [key], {});\n",
              "          if (!dataTable) return;\n",
              "\n",
              "          const docLinkHtml = 'Like what you see? Visit the ' +\n",
              "            '<a target=\"_blank\" href=https://colab.research.google.com/notebooks/data_table.ipynb>data table notebook</a>'\n",
              "            + ' to learn more about interactive tables.';\n",
              "          element.innerHTML = '';\n",
              "          dataTable['output_type'] = 'display_data';\n",
              "          await google.colab.output.renderOutput(dataTable, element);\n",
              "          const docLink = document.createElement('div');\n",
              "          docLink.innerHTML = docLinkHtml;\n",
              "          element.appendChild(docLink);\n",
              "        }\n",
              "      </script>\n",
              "    </div>\n",
              "  </div>\n",
              "  "
            ]
          },
          "metadata": {},
          "execution_count": 270
        }
      ]
    },
    {
      "cell_type": "code",
      "source": [
        "data['academic'] = data['academic'].map({'Vocational':0, 'Academic':1})\n",
        "data['gender'] = data['gender'].map({'Male':0, 'Female':1})"
      ],
      "metadata": {
        "id": "ijojr70PkY2p"
      },
      "execution_count": null,
      "outputs": []
    },
    {
      "cell_type": "code",
      "source": [
        "data.head()"
      ],
      "metadata": {
        "colab": {
          "base_uri": "https://localhost:8080/",
          "height": 270
        },
        "id": "-tCLo0eSku2L",
        "outputId": "ff4e44e1-643d-4c40-b1a3-8a61c0ff0396"
      },
      "execution_count": null,
      "outputs": [
        {
          "output_type": "execute_result",
          "data": {
            "text/plain": [
              "   academic  goodschool  gender  interest  liveintown  parent_age  \\\n",
              "0         1           1       0         1           1          56   \n",
              "1         1           1       0         1           1          57   \n",
              "2         1           0       1         4           1          50   \n",
              "3         0           0       0         4           0          49   \n",
              "4         1           1       1         4           1          57   \n",
              "\n",
              "   parent_salary  house_area  average_grades  parent_was_in_college  \\\n",
              "0        6950000        83.0           84.09                      0   \n",
              "1        4410000        76.8           86.91                      0   \n",
              "2        6500000        80.6           87.43                      0   \n",
              "3        6600000        78.2           82.12                      1   \n",
              "4        5250000        75.1           86.79                      0   \n",
              "\n",
              "   will_go_to_college  \n",
              "0                   1  \n",
              "1                   1  \n",
              "2                   1  \n",
              "3                   1  \n",
              "4                   0  "
            ],
            "text/html": [
              "\n",
              "  <div id=\"df-16d46080-44d9-41e4-bf1e-8063fef9d91b\">\n",
              "    <div class=\"colab-df-container\">\n",
              "      <div>\n",
              "<style scoped>\n",
              "    .dataframe tbody tr th:only-of-type {\n",
              "        vertical-align: middle;\n",
              "    }\n",
              "\n",
              "    .dataframe tbody tr th {\n",
              "        vertical-align: top;\n",
              "    }\n",
              "\n",
              "    .dataframe thead th {\n",
              "        text-align: right;\n",
              "    }\n",
              "</style>\n",
              "<table border=\"1\" class=\"dataframe\">\n",
              "  <thead>\n",
              "    <tr style=\"text-align: right;\">\n",
              "      <th></th>\n",
              "      <th>academic</th>\n",
              "      <th>goodschool</th>\n",
              "      <th>gender</th>\n",
              "      <th>interest</th>\n",
              "      <th>liveintown</th>\n",
              "      <th>parent_age</th>\n",
              "      <th>parent_salary</th>\n",
              "      <th>house_area</th>\n",
              "      <th>average_grades</th>\n",
              "      <th>parent_was_in_college</th>\n",
              "      <th>will_go_to_college</th>\n",
              "    </tr>\n",
              "  </thead>\n",
              "  <tbody>\n",
              "    <tr>\n",
              "      <th>0</th>\n",
              "      <td>1</td>\n",
              "      <td>1</td>\n",
              "      <td>0</td>\n",
              "      <td>1</td>\n",
              "      <td>1</td>\n",
              "      <td>56</td>\n",
              "      <td>6950000</td>\n",
              "      <td>83.0</td>\n",
              "      <td>84.09</td>\n",
              "      <td>0</td>\n",
              "      <td>1</td>\n",
              "    </tr>\n",
              "    <tr>\n",
              "      <th>1</th>\n",
              "      <td>1</td>\n",
              "      <td>1</td>\n",
              "      <td>0</td>\n",
              "      <td>1</td>\n",
              "      <td>1</td>\n",
              "      <td>57</td>\n",
              "      <td>4410000</td>\n",
              "      <td>76.8</td>\n",
              "      <td>86.91</td>\n",
              "      <td>0</td>\n",
              "      <td>1</td>\n",
              "    </tr>\n",
              "    <tr>\n",
              "      <th>2</th>\n",
              "      <td>1</td>\n",
              "      <td>0</td>\n",
              "      <td>1</td>\n",
              "      <td>4</td>\n",
              "      <td>1</td>\n",
              "      <td>50</td>\n",
              "      <td>6500000</td>\n",
              "      <td>80.6</td>\n",
              "      <td>87.43</td>\n",
              "      <td>0</td>\n",
              "      <td>1</td>\n",
              "    </tr>\n",
              "    <tr>\n",
              "      <th>3</th>\n",
              "      <td>0</td>\n",
              "      <td>0</td>\n",
              "      <td>0</td>\n",
              "      <td>4</td>\n",
              "      <td>0</td>\n",
              "      <td>49</td>\n",
              "      <td>6600000</td>\n",
              "      <td>78.2</td>\n",
              "      <td>82.12</td>\n",
              "      <td>1</td>\n",
              "      <td>1</td>\n",
              "    </tr>\n",
              "    <tr>\n",
              "      <th>4</th>\n",
              "      <td>1</td>\n",
              "      <td>1</td>\n",
              "      <td>1</td>\n",
              "      <td>4</td>\n",
              "      <td>1</td>\n",
              "      <td>57</td>\n",
              "      <td>5250000</td>\n",
              "      <td>75.1</td>\n",
              "      <td>86.79</td>\n",
              "      <td>0</td>\n",
              "      <td>0</td>\n",
              "    </tr>\n",
              "  </tbody>\n",
              "</table>\n",
              "</div>\n",
              "      <button class=\"colab-df-convert\" onclick=\"convertToInteractive('df-16d46080-44d9-41e4-bf1e-8063fef9d91b')\"\n",
              "              title=\"Convert this dataframe to an interactive table.\"\n",
              "              style=\"display:none;\">\n",
              "        \n",
              "  <svg xmlns=\"http://www.w3.org/2000/svg\" height=\"24px\"viewBox=\"0 0 24 24\"\n",
              "       width=\"24px\">\n",
              "    <path d=\"M0 0h24v24H0V0z\" fill=\"none\"/>\n",
              "    <path d=\"M18.56 5.44l.94 2.06.94-2.06 2.06-.94-2.06-.94-.94-2.06-.94 2.06-2.06.94zm-11 1L8.5 8.5l.94-2.06 2.06-.94-2.06-.94L8.5 2.5l-.94 2.06-2.06.94zm10 10l.94 2.06.94-2.06 2.06-.94-2.06-.94-.94-2.06-.94 2.06-2.06.94z\"/><path d=\"M17.41 7.96l-1.37-1.37c-.4-.4-.92-.59-1.43-.59-.52 0-1.04.2-1.43.59L10.3 9.45l-7.72 7.72c-.78.78-.78 2.05 0 2.83L4 21.41c.39.39.9.59 1.41.59.51 0 1.02-.2 1.41-.59l7.78-7.78 2.81-2.81c.8-.78.8-2.07 0-2.86zM5.41 20L4 18.59l7.72-7.72 1.47 1.35L5.41 20z\"/>\n",
              "  </svg>\n",
              "      </button>\n",
              "      \n",
              "  <style>\n",
              "    .colab-df-container {\n",
              "      display:flex;\n",
              "      flex-wrap:wrap;\n",
              "      gap: 12px;\n",
              "    }\n",
              "\n",
              "    .colab-df-convert {\n",
              "      background-color: #E8F0FE;\n",
              "      border: none;\n",
              "      border-radius: 50%;\n",
              "      cursor: pointer;\n",
              "      display: none;\n",
              "      fill: #1967D2;\n",
              "      height: 32px;\n",
              "      padding: 0 0 0 0;\n",
              "      width: 32px;\n",
              "    }\n",
              "\n",
              "    .colab-df-convert:hover {\n",
              "      background-color: #E2EBFA;\n",
              "      box-shadow: 0px 1px 2px rgba(60, 64, 67, 0.3), 0px 1px 3px 1px rgba(60, 64, 67, 0.15);\n",
              "      fill: #174EA6;\n",
              "    }\n",
              "\n",
              "    [theme=dark] .colab-df-convert {\n",
              "      background-color: #3B4455;\n",
              "      fill: #D2E3FC;\n",
              "    }\n",
              "\n",
              "    [theme=dark] .colab-df-convert:hover {\n",
              "      background-color: #434B5C;\n",
              "      box-shadow: 0px 1px 3px 1px rgba(0, 0, 0, 0.15);\n",
              "      filter: drop-shadow(0px 1px 2px rgba(0, 0, 0, 0.3));\n",
              "      fill: #FFFFFF;\n",
              "    }\n",
              "  </style>\n",
              "\n",
              "      <script>\n",
              "        const buttonEl =\n",
              "          document.querySelector('#df-16d46080-44d9-41e4-bf1e-8063fef9d91b button.colab-df-convert');\n",
              "        buttonEl.style.display =\n",
              "          google.colab.kernel.accessAllowed ? 'block' : 'none';\n",
              "\n",
              "        async function convertToInteractive(key) {\n",
              "          const element = document.querySelector('#df-16d46080-44d9-41e4-bf1e-8063fef9d91b');\n",
              "          const dataTable =\n",
              "            await google.colab.kernel.invokeFunction('convertToInteractive',\n",
              "                                                     [key], {});\n",
              "          if (!dataTable) return;\n",
              "\n",
              "          const docLinkHtml = 'Like what you see? Visit the ' +\n",
              "            '<a target=\"_blank\" href=https://colab.research.google.com/notebooks/data_table.ipynb>data table notebook</a>'\n",
              "            + ' to learn more about interactive tables.';\n",
              "          element.innerHTML = '';\n",
              "          dataTable['output_type'] = 'display_data';\n",
              "          await google.colab.output.renderOutput(dataTable, element);\n",
              "          const docLink = document.createElement('div');\n",
              "          docLink.innerHTML = docLinkHtml;\n",
              "          element.appendChild(docLink);\n",
              "        }\n",
              "      </script>\n",
              "    </div>\n",
              "  </div>\n",
              "  "
            ]
          },
          "metadata": {},
          "execution_count": 272
        }
      ]
    },
    {
      "cell_type": "code",
      "source": [
        "features = data.drop(['will_go_to_college'], axis=1)\n",
        "label = data['will_go_to_college']"
      ],
      "metadata": {
        "id": "I5FkLf6Ek0PE"
      },
      "execution_count": null,
      "outputs": []
    },
    {
      "cell_type": "code",
      "source": [
        "features.head()"
      ],
      "metadata": {
        "colab": {
          "base_uri": "https://localhost:8080/",
          "height": 206
        },
        "id": "U_b_TFaVqlHD",
        "outputId": "a037f441-e6e8-4c49-d9bc-908e356bbbba"
      },
      "execution_count": null,
      "outputs": [
        {
          "output_type": "execute_result",
          "data": {
            "text/plain": [
              "   academic  goodschool  gender  interest  liveintown  parent_age  \\\n",
              "0         1           1       0         1           1          56   \n",
              "1         1           1       0         1           1          57   \n",
              "2         1           0       1         4           1          50   \n",
              "3         0           0       0         4           0          49   \n",
              "4         1           1       1         4           1          57   \n",
              "\n",
              "   parent_salary  house_area  average_grades  parent_was_in_college  \n",
              "0        6950000        83.0           84.09                      0  \n",
              "1        4410000        76.8           86.91                      0  \n",
              "2        6500000        80.6           87.43                      0  \n",
              "3        6600000        78.2           82.12                      1  \n",
              "4        5250000        75.1           86.79                      0  "
            ],
            "text/html": [
              "\n",
              "  <div id=\"df-f3499581-72b9-4b5a-8cc5-02357d217767\">\n",
              "    <div class=\"colab-df-container\">\n",
              "      <div>\n",
              "<style scoped>\n",
              "    .dataframe tbody tr th:only-of-type {\n",
              "        vertical-align: middle;\n",
              "    }\n",
              "\n",
              "    .dataframe tbody tr th {\n",
              "        vertical-align: top;\n",
              "    }\n",
              "\n",
              "    .dataframe thead th {\n",
              "        text-align: right;\n",
              "    }\n",
              "</style>\n",
              "<table border=\"1\" class=\"dataframe\">\n",
              "  <thead>\n",
              "    <tr style=\"text-align: right;\">\n",
              "      <th></th>\n",
              "      <th>academic</th>\n",
              "      <th>goodschool</th>\n",
              "      <th>gender</th>\n",
              "      <th>interest</th>\n",
              "      <th>liveintown</th>\n",
              "      <th>parent_age</th>\n",
              "      <th>parent_salary</th>\n",
              "      <th>house_area</th>\n",
              "      <th>average_grades</th>\n",
              "      <th>parent_was_in_college</th>\n",
              "    </tr>\n",
              "  </thead>\n",
              "  <tbody>\n",
              "    <tr>\n",
              "      <th>0</th>\n",
              "      <td>1</td>\n",
              "      <td>1</td>\n",
              "      <td>0</td>\n",
              "      <td>1</td>\n",
              "      <td>1</td>\n",
              "      <td>56</td>\n",
              "      <td>6950000</td>\n",
              "      <td>83.0</td>\n",
              "      <td>84.09</td>\n",
              "      <td>0</td>\n",
              "    </tr>\n",
              "    <tr>\n",
              "      <th>1</th>\n",
              "      <td>1</td>\n",
              "      <td>1</td>\n",
              "      <td>0</td>\n",
              "      <td>1</td>\n",
              "      <td>1</td>\n",
              "      <td>57</td>\n",
              "      <td>4410000</td>\n",
              "      <td>76.8</td>\n",
              "      <td>86.91</td>\n",
              "      <td>0</td>\n",
              "    </tr>\n",
              "    <tr>\n",
              "      <th>2</th>\n",
              "      <td>1</td>\n",
              "      <td>0</td>\n",
              "      <td>1</td>\n",
              "      <td>4</td>\n",
              "      <td>1</td>\n",
              "      <td>50</td>\n",
              "      <td>6500000</td>\n",
              "      <td>80.6</td>\n",
              "      <td>87.43</td>\n",
              "      <td>0</td>\n",
              "    </tr>\n",
              "    <tr>\n",
              "      <th>3</th>\n",
              "      <td>0</td>\n",
              "      <td>0</td>\n",
              "      <td>0</td>\n",
              "      <td>4</td>\n",
              "      <td>0</td>\n",
              "      <td>49</td>\n",
              "      <td>6600000</td>\n",
              "      <td>78.2</td>\n",
              "      <td>82.12</td>\n",
              "      <td>1</td>\n",
              "    </tr>\n",
              "    <tr>\n",
              "      <th>4</th>\n",
              "      <td>1</td>\n",
              "      <td>1</td>\n",
              "      <td>1</td>\n",
              "      <td>4</td>\n",
              "      <td>1</td>\n",
              "      <td>57</td>\n",
              "      <td>5250000</td>\n",
              "      <td>75.1</td>\n",
              "      <td>86.79</td>\n",
              "      <td>0</td>\n",
              "    </tr>\n",
              "  </tbody>\n",
              "</table>\n",
              "</div>\n",
              "      <button class=\"colab-df-convert\" onclick=\"convertToInteractive('df-f3499581-72b9-4b5a-8cc5-02357d217767')\"\n",
              "              title=\"Convert this dataframe to an interactive table.\"\n",
              "              style=\"display:none;\">\n",
              "        \n",
              "  <svg xmlns=\"http://www.w3.org/2000/svg\" height=\"24px\"viewBox=\"0 0 24 24\"\n",
              "       width=\"24px\">\n",
              "    <path d=\"M0 0h24v24H0V0z\" fill=\"none\"/>\n",
              "    <path d=\"M18.56 5.44l.94 2.06.94-2.06 2.06-.94-2.06-.94-.94-2.06-.94 2.06-2.06.94zm-11 1L8.5 8.5l.94-2.06 2.06-.94-2.06-.94L8.5 2.5l-.94 2.06-2.06.94zm10 10l.94 2.06.94-2.06 2.06-.94-2.06-.94-.94-2.06-.94 2.06-2.06.94z\"/><path d=\"M17.41 7.96l-1.37-1.37c-.4-.4-.92-.59-1.43-.59-.52 0-1.04.2-1.43.59L10.3 9.45l-7.72 7.72c-.78.78-.78 2.05 0 2.83L4 21.41c.39.39.9.59 1.41.59.51 0 1.02-.2 1.41-.59l7.78-7.78 2.81-2.81c.8-.78.8-2.07 0-2.86zM5.41 20L4 18.59l7.72-7.72 1.47 1.35L5.41 20z\"/>\n",
              "  </svg>\n",
              "      </button>\n",
              "      \n",
              "  <style>\n",
              "    .colab-df-container {\n",
              "      display:flex;\n",
              "      flex-wrap:wrap;\n",
              "      gap: 12px;\n",
              "    }\n",
              "\n",
              "    .colab-df-convert {\n",
              "      background-color: #E8F0FE;\n",
              "      border: none;\n",
              "      border-radius: 50%;\n",
              "      cursor: pointer;\n",
              "      display: none;\n",
              "      fill: #1967D2;\n",
              "      height: 32px;\n",
              "      padding: 0 0 0 0;\n",
              "      width: 32px;\n",
              "    }\n",
              "\n",
              "    .colab-df-convert:hover {\n",
              "      background-color: #E2EBFA;\n",
              "      box-shadow: 0px 1px 2px rgba(60, 64, 67, 0.3), 0px 1px 3px 1px rgba(60, 64, 67, 0.15);\n",
              "      fill: #174EA6;\n",
              "    }\n",
              "\n",
              "    [theme=dark] .colab-df-convert {\n",
              "      background-color: #3B4455;\n",
              "      fill: #D2E3FC;\n",
              "    }\n",
              "\n",
              "    [theme=dark] .colab-df-convert:hover {\n",
              "      background-color: #434B5C;\n",
              "      box-shadow: 0px 1px 3px 1px rgba(0, 0, 0, 0.15);\n",
              "      filter: drop-shadow(0px 1px 2px rgba(0, 0, 0, 0.3));\n",
              "      fill: #FFFFFF;\n",
              "    }\n",
              "  </style>\n",
              "\n",
              "      <script>\n",
              "        const buttonEl =\n",
              "          document.querySelector('#df-f3499581-72b9-4b5a-8cc5-02357d217767 button.colab-df-convert');\n",
              "        buttonEl.style.display =\n",
              "          google.colab.kernel.accessAllowed ? 'block' : 'none';\n",
              "\n",
              "        async function convertToInteractive(key) {\n",
              "          const element = document.querySelector('#df-f3499581-72b9-4b5a-8cc5-02357d217767');\n",
              "          const dataTable =\n",
              "            await google.colab.kernel.invokeFunction('convertToInteractive',\n",
              "                                                     [key], {});\n",
              "          if (!dataTable) return;\n",
              "\n",
              "          const docLinkHtml = 'Like what you see? Visit the ' +\n",
              "            '<a target=\"_blank\" href=https://colab.research.google.com/notebooks/data_table.ipynb>data table notebook</a>'\n",
              "            + ' to learn more about interactive tables.';\n",
              "          element.innerHTML = '';\n",
              "          dataTable['output_type'] = 'display_data';\n",
              "          await google.colab.output.renderOutput(dataTable, element);\n",
              "          const docLink = document.createElement('div');\n",
              "          docLink.innerHTML = docLinkHtml;\n",
              "          element.appendChild(docLink);\n",
              "        }\n",
              "      </script>\n",
              "    </div>\n",
              "  </div>\n",
              "  "
            ]
          },
          "metadata": {},
          "execution_count": 274
        }
      ]
    },
    {
      "cell_type": "code",
      "source": [
        "label.head()"
      ],
      "metadata": {
        "colab": {
          "base_uri": "https://localhost:8080/"
        },
        "id": "4gVs_NSlU-Cm",
        "outputId": "2121fb5c-6c17-4665-b159-cc9dbb675a68"
      },
      "execution_count": null,
      "outputs": [
        {
          "output_type": "execute_result",
          "data": {
            "text/plain": [
              "0    1\n",
              "1    1\n",
              "2    1\n",
              "3    1\n",
              "4    0\n",
              "Name: will_go_to_college, dtype: int64"
            ]
          },
          "metadata": {},
          "execution_count": 275
        }
      ]
    },
    {
      "cell_type": "markdown",
      "source": [
        "ให้ test_size = 0.25, set_seed ของโมเดลไว้ที่ 69420 นะครับ เพื่อความแฟร์ในการแข่งขัน"
      ],
      "metadata": {
        "id": "3SDuopi22CDE"
      }
    },
    {
      "cell_type": "code",
      "source": [
        "# เอาไว้แบ่งข้อมูล เป็นชุดฝึก กับชุดทดสอบ เหมือนฝึกทำข้อสอบเดิมไปเรื่อยๆ แล้วไปลองกับข้อสอบที่ไม่เคยทำ ว่าทำได้จริงมั้ย\n",
        "from sklearn.model_selection import train_test_split\n",
        "\n",
        "#แบ่ง (ข้อสอบฝึก, ข้อสอบทดสอบ , เฉลย, เฉลย) โดยให้อัตราส่วนข้อสอบเฉลย = 0.20 หรือ 20% และมี seed ค่าสุ่ม 69420(กันผลลัพท์เปลี่ยน เหมือน seed minecraft)\n",
        "x_train, x_test, y_train, y_test = train_test_split(features, label, test_size=0.20, random_state=69420)"
      ],
      "metadata": {
        "id": "p2sMjaddkYV7"
      },
      "execution_count": null,
      "outputs": []
    },
    {
      "cell_type": "code",
      "source": [
        "# import the class\n",
        "from sklearn.linear_model import LogisticRegression\n",
        "\n",
        "# สร้างโมเดล(ยังไม่เทรน), ตั้งค่าสุดไว้ที่ 69420(เลขอะไรก็ได้) เพื่อให้มันใจว่าผลลัพทืจะเหมือนเดิม(เหมือน set seed minecraft)\n",
        "model = LogisticRegression(random_state=69420)\n",
        "\n",
        "# ฝึกโมเดลกับข้อมูล\n",
        "model.fit(x_train, y_train)\n",
        "\n",
        "prediction = model.predict(x_test)"
      ],
      "metadata": {
        "id": "EvUMxdUhkM0S"
      },
      "execution_count": null,
      "outputs": []
    },
    {
      "cell_type": "code",
      "source": [
        "from sklearn.metrics import classification_report\n",
        "\n",
        "y_pred = model.predict(x_test)\n",
        "\n",
        "target_names = ['ไม่ต่อมหาลัย', 'ต่อมหาลัย']\n",
        "print(classification_report(y_test, y_pred, target_names=target_names))"
      ],
      "metadata": {
        "colab": {
          "base_uri": "https://localhost:8080/"
        },
        "id": "IQXJLFz8lIK5",
        "outputId": "e2826717-c635-4972-8b65-5ebd876a2f94"
      },
      "execution_count": null,
      "outputs": [
        {
          "output_type": "stream",
          "name": "stdout",
          "text": [
            "              precision    recall  f1-score   support\n",
            "\n",
            "ไม่ต่อมหาลัย       0.00      0.00      0.00        91\n",
            "   ต่อมหาลัย       0.55      1.00      0.71       109\n",
            "\n",
            "    accuracy                           0.55       200\n",
            "   macro avg       0.27      0.50      0.35       200\n",
            "weighted avg       0.30      0.55      0.38       200\n",
            "\n"
          ]
        },
        {
          "output_type": "stream",
          "name": "stderr",
          "text": [
            "/usr/local/lib/python3.7/dist-packages/sklearn/metrics/_classification.py:1318: UndefinedMetricWarning: Precision and F-score are ill-defined and being set to 0.0 in labels with no predicted samples. Use `zero_division` parameter to control this behavior.\n",
            "  _warn_prf(average, modifier, msg_start, len(result))\n",
            "/usr/local/lib/python3.7/dist-packages/sklearn/metrics/_classification.py:1318: UndefinedMetricWarning: Precision and F-score are ill-defined and being set to 0.0 in labels with no predicted samples. Use `zero_division` parameter to control this behavior.\n",
            "  _warn_prf(average, modifier, msg_start, len(result))\n",
            "/usr/local/lib/python3.7/dist-packages/sklearn/metrics/_classification.py:1318: UndefinedMetricWarning: Precision and F-score are ill-defined and being set to 0.0 in labels with no predicted samples. Use `zero_division` parameter to control this behavior.\n",
            "  _warn_prf(average, modifier, msg_start, len(result))\n"
          ]
        }
      ]
    },
    {
      "cell_type": "markdown",
      "source": [
        "Accuracy ไม่ขึ้นอะดิ ลองแก้ให้ขึ้นดู"
      ],
      "metadata": {
        "id": "n8thhk5jBC8L"
      }
    },
    {
      "cell_type": "code",
      "source": [],
      "metadata": {
        "id": "nAKiDOXVlfi8"
      },
      "execution_count": null,
      "outputs": []
    }
  ]
}